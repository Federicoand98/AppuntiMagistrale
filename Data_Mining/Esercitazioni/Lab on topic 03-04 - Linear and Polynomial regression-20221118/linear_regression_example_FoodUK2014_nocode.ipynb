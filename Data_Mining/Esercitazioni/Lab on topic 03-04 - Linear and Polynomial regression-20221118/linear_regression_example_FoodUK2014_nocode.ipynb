{
  "cells": [
    {
      "cell_type": "markdown",
      "metadata": {},
      "source": [
        "\n",
        "# Linear Regression Example\n",
        "The example below uses a [marketing](https://scikit-learn.org/stable/datasets/toy_dataset.html) dataset,\n",
        "in order to illustrate a linear regression activity.\n",
        "\n",
        "Workflow:\n",
        "\n"
      ]
    },
    {
      "cell_type": "markdown",
      "metadata": {},
      "source": [
        "1. Preparation\n",
        "    1. Load the dataset from a `.csv` file and show a short description\n",
        "    1. Show the two dimensional scatter plots for all the predicting variables with respect to the target\n",
        "    1. Split the data into *predicting variables* `X` and *target* `y`\n",
        "        1. here we set the `random_state` variable to make the experiment *repeatable* \n",
        "1. First experiment: compute the regression on a single predicting variable\n",
        "    1. Consider a reduced dataset containing the chosen variable and the target\n",
        "    1. Fit the `LinearRegression` estimator on the training set\n",
        "    1. Show the statistical significance of the fitted model\n",
        "    1. Predict the target for the test set using the *fitted* estimator\n",
        "    1. Compute the regression coefficients and the quality measures: *Root Mean Squared Error (RMSE)* and *coefficient of determination (r2)*\n",
        "1. Second experiment: compute the regression considering all the predicting variables\n",
        "    1. Repeat the steps from 2.2 to 2.5\n",
        "1. Third experiment: use the `DecisionTreeRegressor` with the entire dataset\n",
        "    1. Fit the tree using the default hyperparameters, in order to find the \n",
        "    maximum depth of the unconstrained tree\n",
        "    1. Use *cross-validation* to find the optimal *maximum depth* of the tree\n",
        "    1. Fit the tree with the optmal `max_depth`\n",
        "    1. Predict and show the *root mean squared error*\n",
        "1. Fourth experiment: use the `RandomForestRegressor`\n",
        "    1. Repeat steps from 4.2 to 4.4 (for simplicity, we use the maximum `max_depth` found in 4.1)\n"
      ]
    },
    {
      "cell_type": "code",
      "execution_count": 1,
      "metadata": {
        "collapsed": false
      },
      "outputs": [],
      "source": [
        "# Code source: Claudio Sartori \n",
        "# License: BSD 3 clause\n",
        "\n",
        "import matplotlib.pyplot as plt\n",
        "import numpy as np\n",
        "import scipy.stats\n",
        "from sklearn import datasets, linear_model\n",
        "from sklearn.metrics import mean_squared_error, r2_score\n",
        "import pandas as pd\n",
        "from sklearn.model_selection import train_test_split\n",
        "\n",
        "random_state = 94922767 # this will be used to guarantee the repeatability of the experiment"
      ]
    },
    {
      "cell_type": "markdown",
      "metadata": {},
      "source": [
        "## Load the dataset from a `.xlsx` file and show a short description"
      ]
    },
    {
      "cell_type": "code",
      "execution_count": 2,
      "metadata": {},
      "outputs": [],
      "source": [
        "# This cell allows full compatibility between execution in Google Colab and in local\n",
        "try:\n",
        "  import google.colab.files\n",
        "  IN_COLAB = True\n",
        "except:\n",
        "  IN_COLAB = False\n",
        "# from google.colab import files\n",
        "if IN_COLAB:\n",
        "    uploaded = files.upload()"
      ]
    },
    {
      "cell_type": "code",
      "execution_count": 3,
      "metadata": {},
      "outputs": [],
      "source": [
        "# The file must be available in the same directory, \n",
        "# or uploaded in the Colab environment \n",
        "# in the execution of the previous cell\n",
        "data_fn = 'FoodUK2014.xlsx'\n",
        "df0 = pd.read_excel(data_fn)"
      ]
    },
    {
      "cell_type": "markdown",
      "metadata": {},
      "source": [
        "## Data Exploration and preparation"
      ]
    },
    {
      "cell_type": "markdown",
      "metadata": {},
      "source": [
        "##### Show a short description of the columns"
      ]
    },
    {
      "cell_type": "code",
      "execution_count": 4,
      "metadata": {},
      "outputs": [
        {
          "data": {
            "text/html": [
              "<div>\n",
              "<style scoped>\n",
              "    .dataframe tbody tr th:only-of-type {\n",
              "        vertical-align: middle;\n",
              "    }\n",
              "\n",
              "    .dataframe tbody tr th {\n",
              "        vertical-align: top;\n",
              "    }\n",
              "\n",
              "    .dataframe thead th {\n",
              "        text-align: right;\n",
              "    }\n",
              "</style>\n",
              "<table border=\"1\" class=\"dataframe\">\n",
              "  <thead>\n",
              "    <tr style=\"text-align: right;\">\n",
              "      <th></th>\n",
              "      <th>hhsize</th>\n",
              "      <th>adults_n</th>\n",
              "      <th>children_n</th>\n",
              "      <th>totalexp</th>\n",
              "      <th>Year</th>\n",
              "      <th>income</th>\n",
              "      <th>AgeHRP</th>\n",
              "      <th>qmeat</th>\n",
              "      <th>qfish</th>\n",
              "      <th>qfv</th>\n",
              "      <th>xmeat</th>\n",
              "      <th>xfish</th>\n",
              "      <th>xfv</th>\n",
              "      <th>uvmeat</th>\n",
              "      <th>uvfish</th>\n",
              "      <th>uvfv</th>\n",
              "    </tr>\n",
              "  </thead>\n",
              "  <tbody>\n",
              "    <tr>\n",
              "      <th>count</th>\n",
              "      <td>5114.000000</td>\n",
              "      <td>5114.000000</td>\n",
              "      <td>5114.000000</td>\n",
              "      <td>5114.000000</td>\n",
              "      <td>5114.0</td>\n",
              "      <td>5114.000000</td>\n",
              "      <td>5114.000000</td>\n",
              "      <td>4873.000000</td>\n",
              "      <td>3542.000000</td>\n",
              "      <td>5017.000000</td>\n",
              "      <td>4873.000000</td>\n",
              "      <td>3542.000000</td>\n",
              "      <td>5017.000000</td>\n",
              "      <td>4873.000000</td>\n",
              "      <td>3542.000000</td>\n",
              "      <td>5017.000000</td>\n",
              "    </tr>\n",
              "    <tr>\n",
              "      <th>mean</th>\n",
              "      <td>2.363707</td>\n",
              "      <td>1.841807</td>\n",
              "      <td>0.521901</td>\n",
              "      <td>519.898868</td>\n",
              "      <td>2014.0</td>\n",
              "      <td>679.542002</td>\n",
              "      <td>53.802698</td>\n",
              "      <td>10.475023</td>\n",
              "      <td>2.146960</td>\n",
              "      <td>25.727801</td>\n",
              "      <td>68.108342</td>\n",
              "      <td>19.635469</td>\n",
              "      <td>58.943391</td>\n",
              "      <td>7.072523</td>\n",
              "      <td>9.934257</td>\n",
              "      <td>2.508315</td>\n",
              "    </tr>\n",
              "    <tr>\n",
              "      <th>std</th>\n",
              "      <td>1.244704</td>\n",
              "      <td>0.743052</td>\n",
              "      <td>0.945622</td>\n",
              "      <td>411.543093</td>\n",
              "      <td>0.0</td>\n",
              "      <td>499.596175</td>\n",
              "      <td>16.187912</td>\n",
              "      <td>8.798118</td>\n",
              "      <td>2.034353</td>\n",
              "      <td>18.371345</td>\n",
              "      <td>57.347230</td>\n",
              "      <td>18.725096</td>\n",
              "      <td>44.751694</td>\n",
              "      <td>2.931651</td>\n",
              "      <td>5.485175</td>\n",
              "      <td>1.358023</td>\n",
              "    </tr>\n",
              "    <tr>\n",
              "      <th>min</th>\n",
              "      <td>1.000000</td>\n",
              "      <td>0.000000</td>\n",
              "      <td>0.000000</td>\n",
              "      <td>-246.916821</td>\n",
              "      <td>2014.0</td>\n",
              "      <td>0.000000</td>\n",
              "      <td>17.000000</td>\n",
              "      <td>0.086667</td>\n",
              "      <td>0.108333</td>\n",
              "      <td>0.060667</td>\n",
              "      <td>0.195000</td>\n",
              "      <td>0.000000</td>\n",
              "      <td>0.520000</td>\n",
              "      <td>0.357694</td>\n",
              "      <td>0.000000</td>\n",
              "      <td>0.159672</td>\n",
              "    </tr>\n",
              "    <tr>\n",
              "      <th>25%</th>\n",
              "      <td>1.000000</td>\n",
              "      <td>1.000000</td>\n",
              "      <td>0.000000</td>\n",
              "      <td>260.598783</td>\n",
              "      <td>2014.0</td>\n",
              "      <td>306.954000</td>\n",
              "      <td>41.000000</td>\n",
              "      <td>4.452500</td>\n",
              "      <td>0.866667</td>\n",
              "      <td>12.222167</td>\n",
              "      <td>29.141668</td>\n",
              "      <td>6.917083</td>\n",
              "      <td>27.148333</td>\n",
              "      <td>5.171614</td>\n",
              "      <td>5.979375</td>\n",
              "      <td>1.760525</td>\n",
              "    </tr>\n",
              "    <tr>\n",
              "      <th>50%</th>\n",
              "      <td>2.000000</td>\n",
              "      <td>2.000000</td>\n",
              "      <td>0.000000</td>\n",
              "      <td>426.977227</td>\n",
              "      <td>2014.0</td>\n",
              "      <td>548.086000</td>\n",
              "      <td>54.000000</td>\n",
              "      <td>8.374167</td>\n",
              "      <td>1.625000</td>\n",
              "      <td>22.245817</td>\n",
              "      <td>54.708336</td>\n",
              "      <td>13.736667</td>\n",
              "      <td>49.356667</td>\n",
              "      <td>6.575851</td>\n",
              "      <td>8.804690</td>\n",
              "      <td>2.254208</td>\n",
              "    </tr>\n",
              "    <tr>\n",
              "      <th>75%</th>\n",
              "      <td>3.000000</td>\n",
              "      <td>2.000000</td>\n",
              "      <td>1.000000</td>\n",
              "      <td>651.003763</td>\n",
              "      <td>2014.0</td>\n",
              "      <td>925.652500</td>\n",
              "      <td>67.000000</td>\n",
              "      <td>14.005333</td>\n",
              "      <td>2.816667</td>\n",
              "      <td>35.037167</td>\n",
              "      <td>90.480003</td>\n",
              "      <td>26.000000</td>\n",
              "      <td>78.281662</td>\n",
              "      <td>8.295746</td>\n",
              "      <td>12.520942</td>\n",
              "      <td>2.893561</td>\n",
              "    </tr>\n",
              "    <tr>\n",
              "      <th>max</th>\n",
              "      <td>9.000000</td>\n",
              "      <td>7.000000</td>\n",
              "      <td>7.000000</td>\n",
              "      <td>5859.877186</td>\n",
              "      <td>2014.0</td>\n",
              "      <td>2134.090000</td>\n",
              "      <td>80.000000</td>\n",
              "      <td>104.589333</td>\n",
              "      <td>41.348362</td>\n",
              "      <td>169.283829</td>\n",
              "      <td>803.465027</td>\n",
              "      <td>194.869995</td>\n",
              "      <td>480.024994</td>\n",
              "      <td>40.000000</td>\n",
              "      <td>46.315834</td>\n",
              "      <td>32.666668</td>\n",
              "    </tr>\n",
              "  </tbody>\n",
              "</table>\n",
              "</div>"
            ],
            "text/plain": [
              "            hhsize     adults_n   children_n     totalexp    Year  \\\n",
              "count  5114.000000  5114.000000  5114.000000  5114.000000  5114.0   \n",
              "mean      2.363707     1.841807     0.521901   519.898868  2014.0   \n",
              "std       1.244704     0.743052     0.945622   411.543093     0.0   \n",
              "min       1.000000     0.000000     0.000000  -246.916821  2014.0   \n",
              "25%       1.000000     1.000000     0.000000   260.598783  2014.0   \n",
              "50%       2.000000     2.000000     0.000000   426.977227  2014.0   \n",
              "75%       3.000000     2.000000     1.000000   651.003763  2014.0   \n",
              "max       9.000000     7.000000     7.000000  5859.877186  2014.0   \n",
              "\n",
              "            income       AgeHRP        qmeat        qfish          qfv  \\\n",
              "count  5114.000000  5114.000000  4873.000000  3542.000000  5017.000000   \n",
              "mean    679.542002    53.802698    10.475023     2.146960    25.727801   \n",
              "std     499.596175    16.187912     8.798118     2.034353    18.371345   \n",
              "min       0.000000    17.000000     0.086667     0.108333     0.060667   \n",
              "25%     306.954000    41.000000     4.452500     0.866667    12.222167   \n",
              "50%     548.086000    54.000000     8.374167     1.625000    22.245817   \n",
              "75%     925.652500    67.000000    14.005333     2.816667    35.037167   \n",
              "max    2134.090000    80.000000   104.589333    41.348362   169.283829   \n",
              "\n",
              "             xmeat        xfish          xfv       uvmeat       uvfish  \\\n",
              "count  4873.000000  3542.000000  5017.000000  4873.000000  3542.000000   \n",
              "mean     68.108342    19.635469    58.943391     7.072523     9.934257   \n",
              "std      57.347230    18.725096    44.751694     2.931651     5.485175   \n",
              "min       0.195000     0.000000     0.520000     0.357694     0.000000   \n",
              "25%      29.141668     6.917083    27.148333     5.171614     5.979375   \n",
              "50%      54.708336    13.736667    49.356667     6.575851     8.804690   \n",
              "75%      90.480003    26.000000    78.281662     8.295746    12.520942   \n",
              "max     803.465027   194.869995   480.024994    40.000000    46.315834   \n",
              "\n",
              "              uvfv  \n",
              "count  5017.000000  \n",
              "mean      2.508315  \n",
              "std       1.358023  \n",
              "min       0.159672  \n",
              "25%       1.760525  \n",
              "50%       2.254208  \n",
              "75%       2.893561  \n",
              "max      32.666668  "
            ]
          },
          "execution_count": 4,
          "metadata": {},
          "output_type": "execute_result"
        }
      ],
      "source": [
        "df0.describe()"
      ]
    },
    {
      "cell_type": "markdown",
      "metadata": {},
      "source": [
        "##### Show the number of rows with nulls\n",
        "\n",
        "It is computed subtracting the number of rows in the dataset without nulls from the original number of rows"
      ]
    },
    {
      "cell_type": "code",
      "execution_count": 5,
      "metadata": {},
      "outputs": [
        {
          "data": {
            "text/plain": [
              "1668"
            ]
          },
          "execution_count": 5,
          "metadata": {},
          "output_type": "execute_result"
        }
      ],
      "source": [
        "# obtaining all null rows\n",
        "withnull = df0[df0.isnull().any(axis=1)]\n",
        "len(withnull)"
      ]
    },
    {
      "cell_type": "markdown",
      "metadata": {},
      "source": [
        "#### Drop rows with nulls"
      ]
    },
    {
      "cell_type": "code",
      "execution_count": 6,
      "metadata": {},
      "outputs": [
        {
          "data": {
            "text/plain": [
              "3446"
            ]
          },
          "execution_count": 6,
          "metadata": {},
          "output_type": "execute_result"
        }
      ],
      "source": [
        "df = df0.dropna(axis=0)\n",
        "len(df)"
      ]
    },
    {
      "cell_type": "markdown",
      "metadata": {},
      "source": [
        "##### Data transormation\n",
        "- Convert the alphanumeric SexHRP into numeric 0 and 1\n",
        "    - the `sklearn` machine learning procedures work only with numeric predicting\n",
        "      attributes\n",
        "- Generate two new columns as ratio of other columns\n",
        "    - this is suggested by background information"
      ]
    },
    {
      "cell_type": "code",
      "execution_count": 7,
      "metadata": {},
      "outputs": [
        {
          "data": {
            "text/html": [
              "<div>\n",
              "<style scoped>\n",
              "    .dataframe tbody tr th:only-of-type {\n",
              "        vertical-align: middle;\n",
              "    }\n",
              "\n",
              "    .dataframe tbody tr th {\n",
              "        vertical-align: top;\n",
              "    }\n",
              "\n",
              "    .dataframe thead th {\n",
              "        text-align: right;\n",
              "    }\n",
              "</style>\n",
              "<table border=\"1\" class=\"dataframe\">\n",
              "  <thead>\n",
              "    <tr style=\"text-align: right;\">\n",
              "      <th></th>\n",
              "      <th>hhsize</th>\n",
              "      <th>quarter</th>\n",
              "      <th>adults_n</th>\n",
              "      <th>children_n</th>\n",
              "      <th>totalexp</th>\n",
              "      <th>SexHRP</th>\n",
              "      <th>month</th>\n",
              "      <th>Gorx</th>\n",
              "      <th>Year</th>\n",
              "      <th>income</th>\n",
              "      <th>...</th>\n",
              "      <th>qfish</th>\n",
              "      <th>qfv</th>\n",
              "      <th>xmeat</th>\n",
              "      <th>xfish</th>\n",
              "      <th>xfv</th>\n",
              "      <th>uvmeat</th>\n",
              "      <th>uvfish</th>\n",
              "      <th>uvfv</th>\n",
              "      <th>qmeat_hhsize_ratio</th>\n",
              "      <th>income_hhsize_ratio</th>\n",
              "    </tr>\n",
              "  </thead>\n",
              "  <tbody>\n",
              "    <tr>\n",
              "      <th>1</th>\n",
              "      <td>4</td>\n",
              "      <td>July to September</td>\n",
              "      <td>2</td>\n",
              "      <td>2</td>\n",
              "      <td>737.685635</td>\n",
              "      <td>1</td>\n",
              "      <td>August</td>\n",
              "      <td>North East</td>\n",
              "      <td>2014</td>\n",
              "      <td>824.520</td>\n",
              "      <td>...</td>\n",
              "      <td>0.650000</td>\n",
              "      <td>30.203335</td>\n",
              "      <td>53.278336</td>\n",
              "      <td>6.500000</td>\n",
              "      <td>62.833336</td>\n",
              "      <td>8.813621</td>\n",
              "      <td>10.000000</td>\n",
              "      <td>2.080344</td>\n",
              "      <td>1.511250</td>\n",
              "      <td>206.130000</td>\n",
              "    </tr>\n",
              "    <tr>\n",
              "      <th>2</th>\n",
              "      <td>2</td>\n",
              "      <td>October to December</td>\n",
              "      <td>2</td>\n",
              "      <td>0</td>\n",
              "      <td>330.775000</td>\n",
              "      <td>1</td>\n",
              "      <td>October</td>\n",
              "      <td>Northern Ireland</td>\n",
              "      <td>2014</td>\n",
              "      <td>271.925</td>\n",
              "      <td>...</td>\n",
              "      <td>2.088667</td>\n",
              "      <td>17.032166</td>\n",
              "      <td>93.838333</td>\n",
              "      <td>28.491667</td>\n",
              "      <td>42.813335</td>\n",
              "      <td>7.965790</td>\n",
              "      <td>13.641079</td>\n",
              "      <td>2.513675</td>\n",
              "      <td>5.890083</td>\n",
              "      <td>135.962500</td>\n",
              "    </tr>\n",
              "    <tr>\n",
              "      <th>4</th>\n",
              "      <td>3</td>\n",
              "      <td>April to June</td>\n",
              "      <td>3</td>\n",
              "      <td>0</td>\n",
              "      <td>880.787157</td>\n",
              "      <td>1</td>\n",
              "      <td>April</td>\n",
              "      <td>East Midlands</td>\n",
              "      <td>2014</td>\n",
              "      <td>496.040</td>\n",
              "      <td>...</td>\n",
              "      <td>2.903333</td>\n",
              "      <td>7.345000</td>\n",
              "      <td>73.623337</td>\n",
              "      <td>16.921667</td>\n",
              "      <td>19.261665</td>\n",
              "      <td>5.726323</td>\n",
              "      <td>5.828358</td>\n",
              "      <td>2.622419</td>\n",
              "      <td>4.285667</td>\n",
              "      <td>165.346667</td>\n",
              "    </tr>\n",
              "    <tr>\n",
              "      <th>5</th>\n",
              "      <td>4</td>\n",
              "      <td>January to March</td>\n",
              "      <td>2</td>\n",
              "      <td>2</td>\n",
              "      <td>372.275578</td>\n",
              "      <td>1</td>\n",
              "      <td>February</td>\n",
              "      <td>Wales</td>\n",
              "      <td>2014</td>\n",
              "      <td>266.530</td>\n",
              "      <td>...</td>\n",
              "      <td>1.789667</td>\n",
              "      <td>27.378000</td>\n",
              "      <td>303.181671</td>\n",
              "      <td>28.773333</td>\n",
              "      <td>86.558327</td>\n",
              "      <td>8.451528</td>\n",
              "      <td>16.077482</td>\n",
              "      <td>3.161602</td>\n",
              "      <td>8.968250</td>\n",
              "      <td>66.632500</td>\n",
              "    </tr>\n",
              "    <tr>\n",
              "      <th>7</th>\n",
              "      <td>3</td>\n",
              "      <td>January to March</td>\n",
              "      <td>3</td>\n",
              "      <td>0</td>\n",
              "      <td>151.750522</td>\n",
              "      <td>1</td>\n",
              "      <td>January</td>\n",
              "      <td>Eastern</td>\n",
              "      <td>2014</td>\n",
              "      <td>403.180</td>\n",
              "      <td>...</td>\n",
              "      <td>3.003000</td>\n",
              "      <td>6.742667</td>\n",
              "      <td>72.258331</td>\n",
              "      <td>26.000000</td>\n",
              "      <td>17.376667</td>\n",
              "      <td>5.904745</td>\n",
              "      <td>8.658009</td>\n",
              "      <td>2.577121</td>\n",
              "      <td>4.079111</td>\n",
              "      <td>134.393333</td>\n",
              "    </tr>\n",
              "  </tbody>\n",
              "</table>\n",
              "<p>5 rows × 22 columns</p>\n",
              "</div>"
            ],
            "text/plain": [
              "   hhsize              quarter  adults_n  children_n    totalexp SexHRP  \\\n",
              "1       4    July to September         2           2  737.685635      1   \n",
              "2       2  October to December         2           0  330.775000      1   \n",
              "4       3        April to June         3           0  880.787157      1   \n",
              "5       4     January to March         2           2  372.275578      1   \n",
              "7       3     January to March         3           0  151.750522      1   \n",
              "\n",
              "      month              Gorx  Year   income  ...     qfish        qfv  \\\n",
              "1    August        North East  2014  824.520  ...  0.650000  30.203335   \n",
              "2   October  Northern Ireland  2014  271.925  ...  2.088667  17.032166   \n",
              "4     April     East Midlands  2014  496.040  ...  2.903333   7.345000   \n",
              "5  February             Wales  2014  266.530  ...  1.789667  27.378000   \n",
              "7   January           Eastern  2014  403.180  ...  3.003000   6.742667   \n",
              "\n",
              "        xmeat      xfish        xfv    uvmeat     uvfish      uvfv  \\\n",
              "1   53.278336   6.500000  62.833336  8.813621  10.000000  2.080344   \n",
              "2   93.838333  28.491667  42.813335  7.965790  13.641079  2.513675   \n",
              "4   73.623337  16.921667  19.261665  5.726323   5.828358  2.622419   \n",
              "5  303.181671  28.773333  86.558327  8.451528  16.077482  3.161602   \n",
              "7   72.258331  26.000000  17.376667  5.904745   8.658009  2.577121   \n",
              "\n",
              "   qmeat_hhsize_ratio  income_hhsize_ratio  \n",
              "1            1.511250           206.130000  \n",
              "2            5.890083           135.962500  \n",
              "4            4.285667           165.346667  \n",
              "5            8.968250            66.632500  \n",
              "7            4.079111           134.393333  \n",
              "\n",
              "[5 rows x 22 columns]"
            ]
          },
          "execution_count": 7,
          "metadata": {},
          "output_type": "execute_result"
        }
      ],
      "source": [
        "# convert alphanumeric SexHRP\n",
        "df.loc[df[\"SexHRP\"] == 'Male', \"SexHRP\"] = 1\n",
        "df.loc[df[\"SexHRP\"] == 'Female', \"SexHRP\"] = 0\n",
        "\n",
        "# alternately it can be used np.where() function\n",
        "# df[\"SexHRP\"] = np.where(df[\"SexHRP\"] == \"Female\", 0, 1)\n",
        "\n",
        "\n",
        "# Generate two new colums\n",
        "qmeat_ratio = df[\"qmeat\"] / df[\"hhsize\"]\n",
        "income_ratio = df[\"income\"] / df[\"hhsize\"]\n",
        "\n",
        "df = df.assign(qmeat_hhsize_ratio=qmeat_ratio)\n",
        "df = df.assign(income_hhsize_ratio=income_ratio)\n",
        "\n",
        "df.head()"
      ]
    },
    {
      "cell_type": "markdown",
      "metadata": {},
      "source": [
        "##### Use only the columns that the experts consider interesting\n",
        "This is suggested by background information"
      ]
    },
    {
      "cell_type": "code",
      "execution_count": 8,
      "metadata": {},
      "outputs": [
        {
          "data": {
            "text/html": [
              "<div>\n",
              "<style scoped>\n",
              "    .dataframe tbody tr th:only-of-type {\n",
              "        vertical-align: middle;\n",
              "    }\n",
              "\n",
              "    .dataframe tbody tr th {\n",
              "        vertical-align: top;\n",
              "    }\n",
              "\n",
              "    .dataframe thead th {\n",
              "        text-align: right;\n",
              "    }\n",
              "</style>\n",
              "<table border=\"1\" class=\"dataframe\">\n",
              "  <thead>\n",
              "    <tr style=\"text-align: right;\">\n",
              "      <th></th>\n",
              "      <th>adults_n</th>\n",
              "      <th>children_n</th>\n",
              "      <th>SexHRP</th>\n",
              "      <th>AgeHRP</th>\n",
              "      <th>qmeat_hhsize_ratio</th>\n",
              "      <th>income_hhsize_ratio</th>\n",
              "      <th>uvmeat</th>\n",
              "    </tr>\n",
              "  </thead>\n",
              "  <tbody>\n",
              "    <tr>\n",
              "      <th>1</th>\n",
              "      <td>2</td>\n",
              "      <td>2</td>\n",
              "      <td>1</td>\n",
              "      <td>38</td>\n",
              "      <td>1.511250</td>\n",
              "      <td>206.130000</td>\n",
              "      <td>8.813621</td>\n",
              "    </tr>\n",
              "    <tr>\n",
              "      <th>2</th>\n",
              "      <td>2</td>\n",
              "      <td>0</td>\n",
              "      <td>1</td>\n",
              "      <td>54</td>\n",
              "      <td>5.890083</td>\n",
              "      <td>135.962500</td>\n",
              "      <td>7.965790</td>\n",
              "    </tr>\n",
              "    <tr>\n",
              "      <th>4</th>\n",
              "      <td>3</td>\n",
              "      <td>0</td>\n",
              "      <td>1</td>\n",
              "      <td>64</td>\n",
              "      <td>4.285667</td>\n",
              "      <td>165.346667</td>\n",
              "      <td>5.726323</td>\n",
              "    </tr>\n",
              "    <tr>\n",
              "      <th>5</th>\n",
              "      <td>2</td>\n",
              "      <td>2</td>\n",
              "      <td>1</td>\n",
              "      <td>70</td>\n",
              "      <td>8.968250</td>\n",
              "      <td>66.632500</td>\n",
              "      <td>8.451528</td>\n",
              "    </tr>\n",
              "    <tr>\n",
              "      <th>7</th>\n",
              "      <td>3</td>\n",
              "      <td>0</td>\n",
              "      <td>1</td>\n",
              "      <td>64</td>\n",
              "      <td>4.079111</td>\n",
              "      <td>134.393333</td>\n",
              "      <td>5.904745</td>\n",
              "    </tr>\n",
              "  </tbody>\n",
              "</table>\n",
              "</div>"
            ],
            "text/plain": [
              "   adults_n  children_n SexHRP  AgeHRP  qmeat_hhsize_ratio  \\\n",
              "1         2           2      1      38            1.511250   \n",
              "2         2           0      1      54            5.890083   \n",
              "4         3           0      1      64            4.285667   \n",
              "5         2           2      1      70            8.968250   \n",
              "7         3           0      1      64            4.079111   \n",
              "\n",
              "   income_hhsize_ratio    uvmeat  \n",
              "1           206.130000  8.813621  \n",
              "2           135.962500  7.965790  \n",
              "4           165.346667  5.726323  \n",
              "5            66.632500  8.451528  \n",
              "7           134.393333  5.904745  "
            ]
          },
          "execution_count": 8,
          "metadata": {},
          "output_type": "execute_result"
        }
      ],
      "source": [
        "df = df.loc[:, ['adults_n', 'children_n', 'SexHRP', 'AgeHRP', 'qmeat_hhsize_ratio', 'income_hhsize_ratio', 'uvmeat']]\n",
        "df.head()"
      ]
    },
    {
      "cell_type": "markdown",
      "metadata": {},
      "source": [
        "## Choose the target and split the data into *predicting variables* `X` and *target* `y`"
      ]
    },
    {
      "cell_type": "code",
      "execution_count": 9,
      "metadata": {},
      "outputs": [],
      "source": [
        "y = df['qmeat_hhsize_ratio']\n",
        "X = df.loc[:, df.columns != 'qmeat_hhsize_ratio']"
      ]
    },
    {
      "cell_type": "markdown",
      "metadata": {},
      "source": [
        "## Show the two dimensional scatter plots for all the predicting variables with respect to the target"
      ]
    },
    {
      "cell_type": "code",
      "execution_count": 10,
      "metadata": {},
      "outputs": [],
      "source": [
        "ncols=3\n",
        "import math\n",
        "nrows = math.ceil((df.shape[1]-1)/ncols)\n",
        "figwidth = ncols * 7\n",
        "figheigth = nrows*5"
      ]
    },
    {
      "cell_type": "code",
      "execution_count": 11,
      "metadata": {},
      "outputs": [
        {
          "data": {
            "text/plain": [
              "[Text(0.5, 0, 'uvmeat'), Text(0, 0.5, '')]"
            ]
          },
          "execution_count": 11,
          "metadata": {},
          "output_type": "execute_result"
        },
        {
          "data": {
            "image/png": "[encoded data removed]",
            "text/plain": [
              "<Figure size 2100x1000 with 6 Axes>"
            ]
          },
          "metadata": {},
          "output_type": "display_data"
        }
      ],
      "source": [
        "fig, axs = plt.subplots(2, 3, figsize=(figwidth, figheigth))\n",
        "fig.suptitle('Predicting variables versus target')\n",
        "axs[0,0].scatter(X['adults_n'], y)\n",
        "axs[0,0].set_title('qmeat_hhsize_ratio versus adults_n')\n",
        "axs[0,0].set(xlabel='adults_n', ylabel='qmeat_hhsize_ratio')\n",
        "axs[0,1].scatter(X['children_n'], y)\n",
        "axs[0,1].set_title('qmeat_hhsize_ratio versus children_n')\n",
        "axs[0,1].set(xlabel='children_n', ylabel='')\n",
        "axs[0,2].scatter(X['SexHRP'], y)\n",
        "axs[0,2].set_title('qmeat_hhsize_ratio versus SexHRP')\n",
        "axs[0,2].set(xlabel='SexHRP', ylabel='')\n",
        "axs[1,0].scatter(X['AgeHRP'], y)\n",
        "axs[1,0].set_title('qmeat_hhsize_ratio versus AgeHRP')\n",
        "axs[1,0].set(xlabel='AgeHRP', ylabel='qmeat_hhsize_ratio')\n",
        "axs[1,1].scatter(X['income_hhsize_ratio'], y)\n",
        "axs[1,1].set_title('qmeat_hhsize_ratio versus income_hhsize_ratio')\n",
        "axs[1,1].set(xlabel='income_hhsize_ratio', ylabel='')\n",
        "axs[1,2].scatter(X['uvmeat'], y)\n",
        "axs[1,2].set_title('qmeat_hhsize_ratio versus uvmeat')\n",
        "axs[1,2].set(xlabel='uvmeat', ylabel='')\n",
        "\n",
        "\n"
      ]
    },
    {
      "cell_type": "markdown",
      "metadata": {},
      "source": [
        "### Show the *_p-values_* of the target with respect to the variables"
      ]
    },
    {
      "cell_type": "code",
      "execution_count": 12,
      "metadata": {},
      "outputs": [
        {
          "data": {
            "text/html": [
              "<div>\n",
              "<style scoped>\n",
              "    .dataframe tbody tr th:only-of-type {\n",
              "        vertical-align: middle;\n",
              "    }\n",
              "\n",
              "    .dataframe tbody tr th {\n",
              "        vertical-align: top;\n",
              "    }\n",
              "\n",
              "    .dataframe thead th {\n",
              "        text-align: right;\n",
              "    }\n",
              "</style>\n",
              "<table border=\"1\" class=\"dataframe\">\n",
              "  <thead>\n",
              "    <tr style=\"text-align: right;\">\n",
              "      <th></th>\n",
              "      <th>variable</th>\n",
              "      <th>p-value</th>\n",
              "    </tr>\n",
              "  </thead>\n",
              "  <tbody>\n",
              "    <tr>\n",
              "      <th>0</th>\n",
              "      <td>adults_n</td>\n",
              "      <td>1.415945e-05</td>\n",
              "    </tr>\n",
              "    <tr>\n",
              "      <th>1</th>\n",
              "      <td>children_n</td>\n",
              "      <td>1.077386e-30</td>\n",
              "    </tr>\n",
              "    <tr>\n",
              "      <th>2</th>\n",
              "      <td>SexHRP</td>\n",
              "      <td>8.429827e-02</td>\n",
              "    </tr>\n",
              "    <tr>\n",
              "      <th>3</th>\n",
              "      <td>AgeHRP</td>\n",
              "      <td>1.710126e-21</td>\n",
              "    </tr>\n",
              "    <tr>\n",
              "      <th>4</th>\n",
              "      <td>income_hhsize_ratio</td>\n",
              "      <td>1.211099e-03</td>\n",
              "    </tr>\n",
              "  </tbody>\n",
              "</table>\n",
              "</div>"
            ],
            "text/plain": [
              "              variable       p-value\n",
              "0             adults_n  1.415945e-05\n",
              "1           children_n  1.077386e-30\n",
              "2               SexHRP  8.429827e-02\n",
              "3               AgeHRP  1.710126e-21\n",
              "4  income_hhsize_ratio  1.211099e-03"
            ]
          },
          "execution_count": 12,
          "metadata": {},
          "output_type": "execute_result"
        }
      ],
      "source": [
        "from sklearn.feature_selection import f_regression\n",
        "# Your code here\n",
        "\n",
        "variables = ['adults_n', 'children_n', 'SexHRP', 'AgeHRP', 'income_hhsize_ratio', 'uvmeat']\n",
        "_, p = f_regression(X, y)\n",
        "\n",
        "pvalues = pd.DataFrame()\n",
        "pvalues['variable'] = variables\n",
        "pvalues['p-value'] = p\n",
        "pvalues.head()"
      ]
    },
    {
      "cell_type": "markdown",
      "metadata": {},
      "source": [
        "## Split the data into *train* and *test* and show the sizes of the two parts\n",
        "Here we set the `random_state` variable to make the experiment *repeatable*\n"
      ]
    },
    {
      "cell_type": "code",
      "execution_count": 13,
      "metadata": {},
      "outputs": [
        {
          "name": "stdout",
          "output_type": "stream",
          "text": [
            "Train: 2412\n",
            "Test: 1034\n"
          ]
        }
      ],
      "source": [
        "Xtrain, Xtest, ytrain, ytest = train_test_split(X, y, random_state=random_state, train_size=0.7)\n",
        "\n",
        "print('Train: ' + str(len(Xtrain)))\n",
        "print('Test: ' + str(len(Xtest)))"
      ]
    },
    {
      "cell_type": "markdown",
      "metadata": {},
      "source": [
        "### Consider a reduced dataset containing the chosen variable and the target"
      ]
    },
    {
      "cell_type": "code",
      "execution_count": 14,
      "metadata": {},
      "outputs": [],
      "source": [
        "prediction_variable = 'adults_n'\n",
        "\n",
        "Xtrain_r = Xtrain[prediction_variable].values.reshape(-1, 1)\n",
        "Xtest_r = Xtest[prediction_variable].values.reshape(-1, 1)"
      ]
    },
    {
      "cell_type": "markdown",
      "metadata": {},
      "source": [
        "### Fit the `linear_model` estimator on the training set and predict the target for the test set using the *fitted* estimator"
      ]
    },
    {
      "cell_type": "code",
      "execution_count": 15,
      "metadata": {},
      "outputs": [],
      "source": [
        "linear = linear_model.LinearRegression()\n",
        "\n",
        "linear.fit(Xtrain_r, ytrain)\n",
        "\n",
        "ytrain_pred = linear.predict(Xtrain_r)\n",
        "ytest_pred = linear.predict(Xtest_r)"
      ]
    },
    {
      "cell_type": "markdown",
      "metadata": {},
      "source": [
        "#### Compute the regression coefficients and the quality measures\n",
        "Create a function to compute the F-statistic and p-value of the regression model"
      ]
    },
    {
      "cell_type": "code",
      "execution_count": 16,
      "metadata": {},
      "outputs": [],
      "source": [
        "# Computation of F-statistic and p-value for the regression\n",
        "# http://facweb.cs.depaul.edu/sjost/csc423/documents/f-test-reg.htm\n",
        "\n",
        "def f_test(y_true, y_pred, n_var, n_obs):\n",
        "    y_true = np.array(y_true)\n",
        "    y_pred = np.array(y_pred)\n",
        "    n = n_obs\n",
        "    p = n_var + 1\n",
        "    y_true_m = np.mean(y_true)\n",
        "    SSM = np.sum((y_pred - y_true_m)**2)\n",
        "    SSE = np.sum((y_true - y_pred)**2)\n",
        "    SST = np.sum((y_true - y_true_m)**2)\n",
        "    DFM = p - 1\n",
        "    DFE = n - p\n",
        "    DFT = n - 1\n",
        "    MSM = SSM / DFM\n",
        "    MSE = SSE / DFE\n",
        "    MST = SST / DFT\n",
        "    F = MSM / MSE\n",
        "    p = 1 - scipy.stats.f.cdf(F, DFM, DFE)\n",
        "    return F, p"
      ]
    },
    {
      "cell_type": "markdown",
      "metadata": {},
      "source": [
        "#### Compute the statistical significance of the model"
      ]
    },
    {
      "cell_type": "code",
      "execution_count": 18,
      "metadata": {},
      "outputs": [
        {
          "data": {
            "text/html": [
              "<div>\n",
              "<style scoped>\n",
              "    .dataframe tbody tr th:only-of-type {\n",
              "        vertical-align: middle;\n",
              "    }\n",
              "\n",
              "    .dataframe tbody tr th {\n",
              "        vertical-align: top;\n",
              "    }\n",
              "\n",
              "    .dataframe thead th {\n",
              "        text-align: right;\n",
              "    }\n",
              "</style>\n",
              "<table border=\"1\" class=\"dataframe\">\n",
              "  <thead>\n",
              "    <tr style=\"text-align: right;\">\n",
              "      <th></th>\n",
              "      <th>Univariate Linear - Value</th>\n",
              "    </tr>\n",
              "  </thead>\n",
              "  <tbody>\n",
              "    <tr>\n",
              "      <th>Intercept for\"adults_n\"</th>\n",
              "      <td>5.646984</td>\n",
              "    </tr>\n",
              "    <tr>\n",
              "      <th>Coefficient for\"adults_n\"</th>\n",
              "      <td>-0.326893</td>\n",
              "    </tr>\n",
              "    <tr>\n",
              "      <th>rmse</th>\n",
              "      <td>3.886323</td>\n",
              "    </tr>\n",
              "    <tr>\n",
              "      <th>r2</th>\n",
              "      <td>0.007595</td>\n",
              "    </tr>\n",
              "    <tr>\n",
              "      <th>f-statistic</th>\n",
              "      <td>9.841162</td>\n",
              "    </tr>\n",
              "    <tr>\n",
              "      <th>p-value</th>\n",
              "      <td>0.001727</td>\n",
              "    </tr>\n",
              "  </tbody>\n",
              "</table>\n",
              "</div>"
            ],
            "text/plain": [
              "                           Univariate Linear - Value\n",
              "Intercept for\"adults_n\"                     5.646984\n",
              "Coefficient for\"adults_n\"                  -0.326893\n",
              "rmse                                        3.886323\n",
              "r2                                          0.007595\n",
              "f-statistic                                 9.841162\n",
              "p-value                                     0.001727"
            ]
          },
          "execution_count": 18,
          "metadata": {},
          "output_type": "execute_result"
        }
      ],
      "source": [
        "f_statistic_uni, p_value_uni = f_test(ytrain, ytrain_pred, Xtrain_r.shape[1], Xtrain_r.shape[0])\n",
        "\n",
        "# coefficient\n",
        "coeff_uni = linear.coef_[0]\n",
        "intercept_uni = linear.intercept_\n",
        "\n",
        "# the root mean squared error\n",
        "rmse_uni = mean_squared_error(ytest, ytest_pred, squared=False)\n",
        "\n",
        "# coefficient of determination = 1 is perfect prediction\n",
        "r2_uni = r2_score(ytest, ytest_pred)\n",
        "\n",
        "# the results are assembled in a dataframe for a compact view\n",
        "pd.DataFrame({'Univariate Linear - Value' : [intercept_uni,\n",
        "                        coeff_uni,\n",
        "                        rmse_uni,\n",
        "                        r2_uni,\n",
        "                        f_statistic_uni,\n",
        "                        p_value_uni]}\n",
        "                , index = ['Intercept for\"{}\"'.format(prediction_variable),\n",
        "                            'Coefficient for\"{}\"'.format(prediction_variable),\n",
        "                            'rmse',\n",
        "                            'r2',\n",
        "                            'f-statistic',\n",
        "                            'p-value'])"
      ]
    },
    {
      "cell_type": "markdown",
      "metadata": {},
      "source": [
        "## Second experiment: compute the regression considering all the predicting variables"
      ]
    },
    {
      "cell_type": "markdown",
      "metadata": {},
      "source": [
        "### Now we use the entire data in `X_train` and `X_test` for fitting and predicting"
      ]
    },
    {
      "cell_type": "code",
      "execution_count": 19,
      "metadata": {},
      "outputs": [],
      "source": [
        "linear_multi = linear_model.LinearRegression()\n",
        "\n",
        "linear_multi.fit(Xtrain, ytrain)\n",
        "\n",
        "y_train_pred_multi = linear_multi.predict(Xtrain)\n",
        "y_test_pred_multi = linear_multi.predict(Xtest)"
      ]
    },
    {
      "cell_type": "markdown",
      "metadata": {},
      "source": [
        "### Fit, predict and show the results\n",
        "Now we see the *regression coefficients* resulting from the fitting. \n",
        "\n",
        "In particular, *positive coefficients* indicate that the target *increases* with the variable, *negative coefficients* indicate a *decreasing* trend.\n",
        "\n",
        "The absolute values of the coefficient cannot be considered directly a measure of importance, due to the possibly different orders of magnitude of the data in the different columns (observe above the outputs of `describe`)."
      ]
    },
    {
      "cell_type": "code",
      "execution_count": 21,
      "metadata": {},
      "outputs": [
        {
          "data": {
            "text/html": [
              "<div>\n",
              "<style scoped>\n",
              "    .dataframe tbody tr th:only-of-type {\n",
              "        vertical-align: middle;\n",
              "    }\n",
              "\n",
              "    .dataframe tbody tr th {\n",
              "        vertical-align: top;\n",
              "    }\n",
              "\n",
              "    .dataframe thead th {\n",
              "        text-align: right;\n",
              "    }\n",
              "</style>\n",
              "<table border=\"1\" class=\"dataframe\">\n",
              "  <thead>\n",
              "    <tr style=\"text-align: right;\">\n",
              "      <th></th>\n",
              "      <th>Variable</th>\n",
              "      <th>Coefficient</th>\n",
              "    </tr>\n",
              "  </thead>\n",
              "  <tbody>\n",
              "    <tr>\n",
              "      <th>0</th>\n",
              "      <td>adults_n</td>\n",
              "      <td>-0.318682</td>\n",
              "    </tr>\n",
              "    <tr>\n",
              "      <th>1</th>\n",
              "      <td>children_n</td>\n",
              "      <td>-0.650924</td>\n",
              "    </tr>\n",
              "    <tr>\n",
              "      <th>2</th>\n",
              "      <td>SexHRP</td>\n",
              "      <td>0.383162</td>\n",
              "    </tr>\n",
              "    <tr>\n",
              "      <th>3</th>\n",
              "      <td>AgeHRP</td>\n",
              "      <td>0.014913</td>\n",
              "    </tr>\n",
              "    <tr>\n",
              "      <th>4</th>\n",
              "      <td>income_hhsize_ratio</td>\n",
              "      <td>0.000989</td>\n",
              "    </tr>\n",
              "    <tr>\n",
              "      <th>5</th>\n",
              "      <td>uvmeat</td>\n",
              "      <td>-0.392620</td>\n",
              "    </tr>\n",
              "  </tbody>\n",
              "</table>\n",
              "</div>"
            ],
            "text/plain": [
              "              Variable  Coefficient\n",
              "0             adults_n    -0.318682\n",
              "1           children_n    -0.650924\n",
              "2               SexHRP     0.383162\n",
              "3               AgeHRP     0.014913\n",
              "4  income_hhsize_ratio     0.000989\n",
              "5               uvmeat    -0.392620"
            ]
          },
          "execution_count": 21,
          "metadata": {},
          "output_type": "execute_result"
        }
      ],
      "source": []
    },
    {
      "cell_type": "markdown",
      "metadata": {},
      "source": [
        "#### Compute the statistical significance"
      ]
    },
    {
      "cell_type": "code",
      "execution_count": 22,
      "metadata": {},
      "outputs": [
        {
          "data": {
            "text/html": [
              "<div>\n",
              "<style scoped>\n",
              "    .dataframe tbody tr th:only-of-type {\n",
              "        vertical-align: middle;\n",
              "    }\n",
              "\n",
              "    .dataframe tbody tr th {\n",
              "        vertical-align: top;\n",
              "    }\n",
              "\n",
              "    .dataframe thead th {\n",
              "        text-align: right;\n",
              "    }\n",
              "</style>\n",
              "<table border=\"1\" class=\"dataframe\">\n",
              "  <thead>\n",
              "    <tr style=\"text-align: right;\">\n",
              "      <th></th>\n",
              "      <th>Variable</th>\n",
              "      <th>p-value</th>\n",
              "    </tr>\n",
              "  </thead>\n",
              "  <tbody>\n",
              "    <tr>\n",
              "      <th>0</th>\n",
              "      <td>adults_n</td>\n",
              "      <td>4.812836e-19</td>\n",
              "    </tr>\n",
              "    <tr>\n",
              "      <th>1</th>\n",
              "      <td>children_n</td>\n",
              "      <td>1.384315e-188</td>\n",
              "    </tr>\n",
              "    <tr>\n",
              "      <th>2</th>\n",
              "      <td>SexHRP</td>\n",
              "      <td>5.806116e-10</td>\n",
              "    </tr>\n",
              "    <tr>\n",
              "      <th>3</th>\n",
              "      <td>AgeHRP</td>\n",
              "      <td>3.199609e-119</td>\n",
              "    </tr>\n",
              "    <tr>\n",
              "      <th>4</th>\n",
              "      <td>income_hhsize_ratio</td>\n",
              "      <td>6.460728e-08</td>\n",
              "    </tr>\n",
              "    <tr>\n",
              "      <th>5</th>\n",
              "      <td>uvmeat</td>\n",
              "      <td>0.000000e+00</td>\n",
              "    </tr>\n",
              "  </tbody>\n",
              "</table>\n",
              "</div>"
            ],
            "text/plain": [
              "              Variable        p-value\n",
              "0             adults_n   4.812836e-19\n",
              "1           children_n  1.384315e-188\n",
              "2               SexHRP   5.806116e-10\n",
              "3               AgeHRP  3.199609e-119\n",
              "4  income_hhsize_ratio   6.460728e-08\n",
              "5               uvmeat   0.000000e+00"
            ]
          },
          "execution_count": 22,
          "metadata": {},
          "output_type": "execute_result"
        }
      ],
      "source": []
    },
    {
      "cell_type": "markdown",
      "metadata": {},
      "source": [
        "#### Compute the quality measures"
      ]
    },
    {
      "cell_type": "code",
      "execution_count": 23,
      "metadata": {},
      "outputs": [
        {
          "data": {
            "text/html": [
              "<style type=\"text/css\">\n",
              "</style>\n",
              "<table id=\"T_24bb6_\">\n",
              "  <thead>\n",
              "    <tr>\n",
              "      <th class=\"blank level0\" >&nbsp;</th>\n",
              "      <th class=\"col_heading level0 col0\" >Univariate Linear - Value</th>\n",
              "    </tr>\n",
              "  </thead>\n",
              "  <tbody>\n",
              "    <tr>\n",
              "      <th id=\"T_24bb6_level0_row0\" class=\"row_heading level0 row0\" >rmse</th>\n",
              "      <td id=\"T_24bb6_row0_col0\" class=\"data row0 col0\" >3.6651</td>\n",
              "    </tr>\n",
              "    <tr>\n",
              "      <th id=\"T_24bb6_level0_row1\" class=\"row_heading level0 row1\" >r2</th>\n",
              "      <td id=\"T_24bb6_row1_col0\" class=\"data row1 col0\" >0.1173</td>\n",
              "    </tr>\n",
              "    <tr>\n",
              "      <th id=\"T_24bb6_level0_row2\" class=\"row_heading level0 row2\" >f-statistic</th>\n",
              "      <td id=\"T_24bb6_row2_col0\" class=\"data row2 col0\" >57.4179</td>\n",
              "    </tr>\n",
              "    <tr>\n",
              "      <th id=\"T_24bb6_level0_row3\" class=\"row_heading level0 row3\" >p-value</th>\n",
              "      <td id=\"T_24bb6_row3_col0\" class=\"data row3 col0\" >0.0000</td>\n",
              "    </tr>\n",
              "  </tbody>\n",
              "</table>\n"
            ],
            "text/plain": [
              "<pandas.io.formats.style.Styler at 0x1fbb1b9cd48>"
            ]
          },
          "execution_count": 23,
          "metadata": {},
          "output_type": "execute_result"
        }
      ],
      "source": []
    },
    {
      "cell_type": "markdown",
      "metadata": {},
      "source": [
        "## Decision Tree Multivariate Regresson"
      ]
    },
    {
      "cell_type": "code",
      "execution_count": 24,
      "metadata": {},
      "outputs": [],
      "source": [
        "# Create Decision Tree regression object\n",
        "from sklearn.tree import DecisionTreeRegressor"
      ]
    },
    {
      "cell_type": "markdown",
      "metadata": {},
      "source": [
        "#### Fit the tree with default hyperparameters, and find the maximum depth of the unconstrained tree"
      ]
    },
    {
      "cell_type": "code",
      "execution_count": 25,
      "metadata": {},
      "outputs": [
        {
          "name": "stdout",
          "output_type": "stream",
          "text": [
            "The maximum depth of the full Decision Tree Regressor is 34\n"
          ]
        }
      ],
      "source": []
    },
    {
      "cell_type": "markdown",
      "metadata": {},
      "source": [
        "#### Find the optimal value of the hyperparameter `max_depth` with *cross-validation*\n",
        "The optimization searches for the *maximum tree depth* guaranteing the smallest mean squared error\n",
        "At the end, this operation returns also the *fitted best tree* `best_estimator_`"
      ]
    },
    {
      "cell_type": "code",
      "execution_count": 26,
      "metadata": {},
      "outputs": [
        {
          "name": "stdout",
          "output_type": "stream",
          "text": [
            "The optimal maximum depth for the decision tree is 2\n"
          ]
        }
      ],
      "source": []
    },
    {
      "cell_type": "code",
      "execution_count": 27,
      "metadata": {},
      "outputs": [
        {
          "name": "stdout",
          "output_type": "stream",
          "text": [
            "Decision Tree Regression - RMSE = 3.79\n"
          ]
        }
      ],
      "source": []
    },
    {
      "cell_type": "markdown",
      "metadata": {},
      "source": [
        "#### Show the tree"
      ]
    },
    {
      "cell_type": "code",
      "execution_count": 28,
      "metadata": {},
      "outputs": [
        {
          "data": {
            "image/png": "[encoded data removed]",
            "text/plain": [
              "<Figure size 1440x1080 with 1 Axes>"
            ]
          },
          "metadata": {
            "needs_background": "light"
          },
          "output_type": "display_data"
        }
      ],
      "source": [
        "from sklearn.tree import plot_tree\n",
        "from matplotlib.pyplot import figure\n",
        "# Your code here"
      ]
    },
    {
      "cell_type": "markdown",
      "metadata": {},
      "source": [
        "## Random Forest Multivariate Regresson\n",
        "Create a Random forest regressor and fit it on the complete dataset.\n",
        "\n",
        "For simplicity use the max_depth found in the Decision tree regressor to perform a cross validation and find the best depth for this model."
      ]
    },
    {
      "cell_type": "code",
      "execution_count": 30,
      "metadata": {},
      "outputs": [
        {
          "name": "stdout",
          "output_type": "stream",
          "text": [
            "The optimal maximum depth for the trees in the random forest is 4\n"
          ]
        }
      ],
      "source": []
    },
    {
      "cell_type": "code",
      "execution_count": 31,
      "metadata": {},
      "outputs": [
        {
          "name": "stdout",
          "output_type": "stream",
          "text": [
            "Random Forest Regression - RMSE = 3.58\n"
          ]
        }
      ],
      "source": []
    },
    {
      "cell_type": "markdown",
      "metadata": {},
      "source": [
        "## Final observations\n",
        "### Linear regression\n",
        "The multivariate regression with all the predicting variables available with respect to the univariate regression has \n",
        "- lower RMSE \n",
        "- higher coefficient of determination \n",
        "- the p-value suggests the acceptance of both models\n",
        "### Decision Tree and Random Forest regression\n",
        "- Decistion Tree has an RMSE slightly higher than multivariate linear regression\n",
        "- Random Forest has an RMSE slightly lower than multivariate linear regression\n"
      ]
    },
    {
      "cell_type": "markdown",
      "metadata": {},
      "source": [
        "## Control questions\n",
        "1. observing the multi-variate experiment, what variable has the higher effect on the target?\n",
        "1. is there a variable having an almost negligible effect on the target?\n",
        "1. try to repeat the univariate experiment with the other two columns and comment the results"
      ]
    }
  ],
  "metadata": {
    "kernelspec": {
      "display_name": "Python 3.10.6 ('DataMining')",
      "language": "python",
      "name": "python3"
    },
    "language_info": {
      "codemirror_mode": {
        "name": "ipython",
        "version": 3
      },
      "file_extension": ".py",
      "mimetype": "text/x-python",
      "name": "python",
      "nbconvert_exporter": "python",
      "pygments_lexer": "ipython3",
      "version": "3.10.6"
    },
    "vscode": {
      "interpreter": {
        "hash": "31a9f1d6a68a0c237be51e4450549950dae00c9bb42d0ea2a98fb8f240dc7a3e"
      }
    }
  },
  "nbformat": 4,
  "nbformat_minor": 0
}
