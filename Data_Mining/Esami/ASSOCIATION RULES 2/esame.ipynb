{
 "cells": [
  {
   "attachments": {},
   "cell_type": "markdown",
   "metadata": {},
   "source": [
    "# Federico Andrucci - 000105..."
   ]
  },
  {
   "cell_type": "code",
   "execution_count": 1,
   "metadata": {},
   "outputs": [],
   "source": [
    "# Imports\n",
    "import pandas as pd\n",
    "import numpy as np\n",
    "import matplotlib.pyplot as plt\n",
    "from mlxtend.preprocessing import TransactionEncoder\n",
    "from mlxtend.frequent_patterns import apriori\n",
    "from mlxtend.frequent_patterns import association_rules\n",
    "\n",
    "# Variables\n",
    "file_name = 'mba.csv'\n",
    "separator = ','\n",
    "random_state = 42\n",
    "\n",
    "# Directives\n",
    "%matplotlib inline\n",
    "np.random.seed(random_state)"
   ]
  },
  {
   "attachments": {},
   "cell_type": "markdown",
   "metadata": {},
   "source": [
    "0. read a market basket database from the csv file provided and\n",
    "generate a dataframe basket of boolean values with one row\n",
    "per transaction and one column per distinct item of the\n",
    "database; the dataframe values must be True if a distinct item\n",
    "is contained in the transaction\n",
    "• the file contains one transaction per line, the first\n",
    "element is the number of items in the transaction,\n",
    "followed by the items of the transaction, and then a\n",
    "variable number of empty fields\n",
    "• the field names in the first row of the csv file are not\n",
    "relevant\n",
    "1. ignore the transactions containing a single item (2 points)\n",
    "2. the column names of the output dataframe are the distinct items\n",
    "(2 points)\n",
    "3. show the first five rows of the output dataframe (1 point)\n",
    "4. show the number of transactions and of distinct items\n",
    "(1 point)\n",
    "5. find a value of min_support such that the apriori algorithm\n",
    "generates at least 8 frequent itemsets with at least 2 items\n",
    " (5 points)\n",
    "• output the result with the message below\n",
    "• min_support: 0.xxxx - number of itemsets with at least 2\n",
    "items: nn)\n",
    "6. find the minimum metric threshold such that at least 10\n",
    "association rules are extracted from the frequent itemsets found\n",
    "(5 points)\n",
    "• use \"confidence\" as metric and output the line below:\n",
    "• Metric: \"confidence\" - min_metric: 0.xxxx - Number of\n",
    "rules: n\n",
    "7. print the first 10 rules found, sorted by descending confidence\n",
    "and support (3 points)\n",
    "8. plot confidence and support for all the sorted rules found\n",
    "(3 points)\n",
    "9. scatter plot the rules by confidence and support, labelling the\n",
    "points with the index value of the corresponding rule\n",
    "(hint https://stackoverflow.com/questions/14432557/matplotlibscatter-plot-with-different-text-at-each-data-point) (3 points)"
   ]
  },
  {
   "attachments": {},
   "cell_type": "markdown",
   "metadata": {},
   "source": [
    "## 0. read a market basket database from the csv file provided and generate a dataframe basket of boolean values with one row per transaction and one column per distinct item of the database; the dataframe values must be True if a distinct item is contained in the transaction\n",
    "\n",
    "• _the file contains one transaction per line, the first element is the number of items in the transaction, followed by the items of the transaction, and then a variable number of empty fields_\n",
    "\n",
    "• _the field names in the first row of the csv file are not relevant_"
   ]
  },
  {
   "cell_type": "code",
   "execution_count": 2,
   "metadata": {},
   "outputs": [],
   "source": [
    "# open the file\n",
    "file = open(file_name, mode='r')\n",
    "\n",
    "# the transactions are separated by a ','\n",
    "# we need also to strip the '\\n'\n",
    "transactions = [line.strip('\\n').split(separator) for line in file.readlines()]\n",
    "\n",
    "# the first line is not relevant so we skip it\n",
    "transactions = transactions[1:]\n",
    "\n",
    "# the first item in every transaction is a number of the itemns in the transaction, so we want to use it to slice the list,\n",
    "# removing all empty string and the number itself\n",
    "for i in range(len(transactions)):\n",
    "    # the end index is the number of items in the transaction plus one, because we have the number itself at index 0\n",
    "    end_index = int(transactions[i][0]) + 1\n",
    "    transactions[i] = transactions[i][1:end_index]\n",
    "\n",
    "# now we can encode in boolean form with TransactionEncoder\n",
    "encoder = TransactionEncoder()\n",
    "encoded_transactions = encoder.fit_transform(transactions)\n",
    "\n",
    "basket = pd.DataFrame(encoded_transactions)"
   ]
  },
  {
   "attachments": {},
   "cell_type": "markdown",
   "metadata": {},
   "source": [
    "## 1. ignore the transactions containing a single item (2 points)"
   ]
  },
  {
   "cell_type": "code",
   "execution_count": 3,
   "metadata": {},
   "outputs": [],
   "source": [
    "single_item_transactions = []\n",
    "\n",
    "# iterate over all transactions\n",
    "for index, transaction in basket.iterrows():\n",
    "\n",
    "    # if there is one 'True' value\n",
    "    if np.count_nonzero(transaction) == 1:\n",
    "        single_item_transactions.append(index)\n",
    "\n",
    "# drop the single item transactions\n",
    "basket.drop(index=single_item_transactions, axis=0, inplace=True)"
   ]
  },
  {
   "attachments": {},
   "cell_type": "markdown",
   "metadata": {},
   "source": [
    "## 2. the column names of the output dataframe are the distinct items (2 points)"
   ]
  },
  {
   "cell_type": "code",
   "execution_count": 4,
   "metadata": {},
   "outputs": [],
   "source": [
    "basket.columns = encoder.columns_"
   ]
  },
  {
   "attachments": {},
   "cell_type": "markdown",
   "metadata": {},
   "source": [
    "## 3. show the first five rows of the output dataframe (1 point)"
   ]
  },
  {
   "cell_type": "code",
   "execution_count": 5,
   "metadata": {},
   "outputs": [
    {
     "data": {
      "text/html": [
       "<div>\n",
       "<style scoped>\n",
       "    .dataframe tbody tr th:only-of-type {\n",
       "        vertical-align: middle;\n",
       "    }\n",
       "\n",
       "    .dataframe tbody tr th {\n",
       "        vertical-align: top;\n",
       "    }\n",
       "\n",
       "    .dataframe thead th {\n",
       "        text-align: right;\n",
       "    }\n",
       "</style>\n",
       "<table border=\"1\" class=\"dataframe\">\n",
       "  <thead>\n",
       "    <tr style=\"text-align: right;\">\n",
       "      <th></th>\n",
       "      <th>Instant food products</th>\n",
       "      <th>UHT-milk</th>\n",
       "      <th>abrasive cleaner</th>\n",
       "      <th>artif. sweetener</th>\n",
       "      <th>baby cosmetics</th>\n",
       "      <th>baby food</th>\n",
       "      <th>bags</th>\n",
       "      <th>baking powder</th>\n",
       "      <th>bathroom cleaner</th>\n",
       "      <th>beef</th>\n",
       "      <th>...</th>\n",
       "      <th>turkey</th>\n",
       "      <th>vinegar</th>\n",
       "      <th>waffles</th>\n",
       "      <th>whipped/sour cream</th>\n",
       "      <th>whisky</th>\n",
       "      <th>white bread</th>\n",
       "      <th>white wine</th>\n",
       "      <th>whole milk</th>\n",
       "      <th>yogurt</th>\n",
       "      <th>zwieback</th>\n",
       "    </tr>\n",
       "  </thead>\n",
       "  <tbody>\n",
       "    <tr>\n",
       "      <th>0</th>\n",
       "      <td>False</td>\n",
       "      <td>False</td>\n",
       "      <td>False</td>\n",
       "      <td>False</td>\n",
       "      <td>False</td>\n",
       "      <td>False</td>\n",
       "      <td>False</td>\n",
       "      <td>False</td>\n",
       "      <td>False</td>\n",
       "      <td>False</td>\n",
       "      <td>...</td>\n",
       "      <td>False</td>\n",
       "      <td>False</td>\n",
       "      <td>False</td>\n",
       "      <td>False</td>\n",
       "      <td>False</td>\n",
       "      <td>False</td>\n",
       "      <td>False</td>\n",
       "      <td>False</td>\n",
       "      <td>False</td>\n",
       "      <td>False</td>\n",
       "    </tr>\n",
       "    <tr>\n",
       "      <th>1</th>\n",
       "      <td>False</td>\n",
       "      <td>False</td>\n",
       "      <td>False</td>\n",
       "      <td>False</td>\n",
       "      <td>False</td>\n",
       "      <td>False</td>\n",
       "      <td>False</td>\n",
       "      <td>False</td>\n",
       "      <td>False</td>\n",
       "      <td>False</td>\n",
       "      <td>...</td>\n",
       "      <td>False</td>\n",
       "      <td>False</td>\n",
       "      <td>False</td>\n",
       "      <td>False</td>\n",
       "      <td>False</td>\n",
       "      <td>False</td>\n",
       "      <td>False</td>\n",
       "      <td>False</td>\n",
       "      <td>True</td>\n",
       "      <td>False</td>\n",
       "    </tr>\n",
       "    <tr>\n",
       "      <th>3</th>\n",
       "      <td>False</td>\n",
       "      <td>False</td>\n",
       "      <td>False</td>\n",
       "      <td>False</td>\n",
       "      <td>False</td>\n",
       "      <td>False</td>\n",
       "      <td>False</td>\n",
       "      <td>False</td>\n",
       "      <td>False</td>\n",
       "      <td>False</td>\n",
       "      <td>...</td>\n",
       "      <td>False</td>\n",
       "      <td>False</td>\n",
       "      <td>False</td>\n",
       "      <td>False</td>\n",
       "      <td>False</td>\n",
       "      <td>False</td>\n",
       "      <td>False</td>\n",
       "      <td>False</td>\n",
       "      <td>True</td>\n",
       "      <td>False</td>\n",
       "    </tr>\n",
       "    <tr>\n",
       "      <th>4</th>\n",
       "      <td>False</td>\n",
       "      <td>False</td>\n",
       "      <td>False</td>\n",
       "      <td>False</td>\n",
       "      <td>False</td>\n",
       "      <td>False</td>\n",
       "      <td>False</td>\n",
       "      <td>False</td>\n",
       "      <td>False</td>\n",
       "      <td>False</td>\n",
       "      <td>...</td>\n",
       "      <td>False</td>\n",
       "      <td>False</td>\n",
       "      <td>False</td>\n",
       "      <td>False</td>\n",
       "      <td>False</td>\n",
       "      <td>False</td>\n",
       "      <td>False</td>\n",
       "      <td>True</td>\n",
       "      <td>False</td>\n",
       "      <td>False</td>\n",
       "    </tr>\n",
       "    <tr>\n",
       "      <th>5</th>\n",
       "      <td>False</td>\n",
       "      <td>False</td>\n",
       "      <td>True</td>\n",
       "      <td>False</td>\n",
       "      <td>False</td>\n",
       "      <td>False</td>\n",
       "      <td>False</td>\n",
       "      <td>False</td>\n",
       "      <td>False</td>\n",
       "      <td>False</td>\n",
       "      <td>...</td>\n",
       "      <td>False</td>\n",
       "      <td>False</td>\n",
       "      <td>False</td>\n",
       "      <td>False</td>\n",
       "      <td>False</td>\n",
       "      <td>False</td>\n",
       "      <td>False</td>\n",
       "      <td>True</td>\n",
       "      <td>True</td>\n",
       "      <td>False</td>\n",
       "    </tr>\n",
       "  </tbody>\n",
       "</table>\n",
       "<p>5 rows × 169 columns</p>\n",
       "</div>"
      ],
      "text/plain": [
       "   Instant food products  UHT-milk  abrasive cleaner  artif. sweetener  \\\n",
       "0                  False     False             False             False   \n",
       "1                  False     False             False             False   \n",
       "3                  False     False             False             False   \n",
       "4                  False     False             False             False   \n",
       "5                  False     False              True             False   \n",
       "\n",
       "   baby cosmetics  baby food   bags  baking powder  bathroom cleaner   beef  \\\n",
       "0           False      False  False          False             False  False   \n",
       "1           False      False  False          False             False  False   \n",
       "3           False      False  False          False             False  False   \n",
       "4           False      False  False          False             False  False   \n",
       "5           False      False  False          False             False  False   \n",
       "\n",
       "   ...  turkey  vinegar  waffles  whipped/sour cream  whisky  white bread  \\\n",
       "0  ...   False    False    False               False   False        False   \n",
       "1  ...   False    False    False               False   False        False   \n",
       "3  ...   False    False    False               False   False        False   \n",
       "4  ...   False    False    False               False   False        False   \n",
       "5  ...   False    False    False               False   False        False   \n",
       "\n",
       "   white wine  whole milk  yogurt  zwieback  \n",
       "0       False       False   False     False  \n",
       "1       False       False    True     False  \n",
       "3       False       False    True     False  \n",
       "4       False        True   False     False  \n",
       "5       False        True    True     False  \n",
       "\n",
       "[5 rows x 169 columns]"
      ]
     },
     "execution_count": 5,
     "metadata": {},
     "output_type": "execute_result"
    }
   ],
   "source": [
    "basket.head()"
   ]
  },
  {
   "attachments": {},
   "cell_type": "markdown",
   "metadata": {},
   "source": [
    "## 4. show the number of transactions and of distinct items (1 point)"
   ]
  },
  {
   "cell_type": "code",
   "execution_count": 6,
   "metadata": {},
   "outputs": [
    {
     "name": "stdout",
     "output_type": "stream",
     "text": [
      "There are 7676 transactions and 169 distinct items\n"
     ]
    }
   ],
   "source": [
    "print(f\"There are {basket.shape[0]} transactions and {basket.shape[1]} distinct items\")"
   ]
  },
  {
   "attachments": {},
   "cell_type": "markdown",
   "metadata": {},
   "source": [
    "## 5. find a value of min_support such that the apriori algorithm generates at least 8 frequent itemsets with at least 2 items  (5 points)\n",
    "\n",
    "• _output the result with the message below_\n",
    "\n",
    "• _min_support: 0.xxxx - number of itemsets with at least 2 items: nn)_"
   ]
  },
  {
   "cell_type": "code",
   "execution_count": 8,
   "metadata": {},
   "outputs": [
    {
     "name": "stdout",
     "output_type": "stream",
     "text": [
      "Trying support value 0.10\n",
      "Trying support value 0.09\n",
      "Trying support value 0.08\n",
      "Trying support value 0.07\n",
      "Trying support value 0.06\n",
      "Trying support value 0.05\n",
      "I've selected min_support = 0.05, which produced 42 itemsets, 9 of which had more than 2 items\n"
     ]
    }
   ],
   "source": [
    "# requirements\n",
    "min_itemsets = 8\n",
    "min_item_in_itemsets = 2\n",
    "\n",
    "support_range = np.arange(0.1, 0.01, -0.01)\n",
    "\n",
    "min_support = 0\n",
    "\n",
    "for support in support_range:\n",
    "    print(f\"Trying support value {support:.2f}\")\n",
    "\n",
    "    frequent_itemsets = apriori(basket, min_support=support, use_colnames=True)\n",
    "\n",
    "    itemsets_above_threshold = sum(len(itemset) >= min_item_in_itemsets for itemset in frequent_itemsets.itemsets)\n",
    "\n",
    "    if itemsets_above_threshold >= min_itemsets:\n",
    "        min_support = support\n",
    "        break\n",
    "\n",
    "if min_support == 0:\n",
    "    print(\"No support value found, try again with a different range...\")\n",
    "else:\n",
    "    print(f\"I've selected min_support = {min_support:.2f}, which produced {len(frequent_itemsets)} itemsets, {itemsets_above_threshold} of which had more than {min_item_in_itemsets} items\")"
   ]
  },
  {
   "attachments": {},
   "cell_type": "markdown",
   "metadata": {},
   "source": [
    "Print output as requested"
   ]
  },
  {
   "cell_type": "code",
   "execution_count": 11,
   "metadata": {},
   "outputs": [
    {
     "name": "stdout",
     "output_type": "stream",
     "text": [
      "min_support: 0.0500 - number of itemsets with at least 2 items: 9\n"
     ]
    }
   ],
   "source": [
    "print(f\"min_support: {min_support:.4f} - number of itemsets with at least 2 items: {itemsets_above_threshold}\")"
   ]
  },
  {
   "attachments": {},
   "cell_type": "markdown",
   "metadata": {},
   "source": [
    "## 6. find the minimum metric threshold such that at least 10 association rules are extracted from the frequent itemsets found (5 points) \n",
    "\n",
    "• _use \"confidence\" as metric and output the line below:_\n",
    "\n",
    "• _Metric: \"confidence\" - min_metric: 0.xxxx - Number of rules: n_"
   ]
  },
  {
   "cell_type": "code",
   "execution_count": 9,
   "metadata": {},
   "outputs": [
    {
     "name": "stdout",
     "output_type": "stream",
     "text": [
      "Trying confidence value 1.00\n",
      "Trying confidence value 0.99\n",
      "Trying confidence value 0.98\n",
      "Trying confidence value 0.97\n",
      "Trying confidence value 0.96\n",
      "Trying confidence value 0.95\n",
      "Trying confidence value 0.94\n",
      "Trying confidence value 0.93\n",
      "Trying confidence value 0.92\n",
      "Trying confidence value 0.91\n",
      "Trying confidence value 0.90\n",
      "Trying confidence value 0.89\n",
      "Trying confidence value 0.88\n",
      "Trying confidence value 0.87\n",
      "Trying confidence value 0.86\n",
      "Trying confidence value 0.85\n",
      "Trying confidence value 0.84\n",
      "Trying confidence value 0.83\n",
      "Trying confidence value 0.82\n",
      "Trying confidence value 0.81\n",
      "Trying confidence value 0.80\n",
      "Trying confidence value 0.79\n",
      "Trying confidence value 0.78\n",
      "Trying confidence value 0.77\n",
      "Trying confidence value 0.76\n",
      "Trying confidence value 0.75\n",
      "Trying confidence value 0.74\n",
      "Trying confidence value 0.73\n",
      "Trying confidence value 0.72\n",
      "Trying confidence value 0.71\n",
      "Trying confidence value 0.70\n",
      "Trying confidence value 0.69\n",
      "Trying confidence value 0.68\n",
      "Trying confidence value 0.67\n",
      "Trying confidence value 0.66\n",
      "Trying confidence value 0.65\n",
      "Trying confidence value 0.64\n",
      "Trying confidence value 0.63\n",
      "Trying confidence value 0.62\n",
      "Trying confidence value 0.61\n",
      "Trying confidence value 0.60\n",
      "Trying confidence value 0.59\n",
      "Trying confidence value 0.58\n",
      "Trying confidence value 0.57\n",
      "Trying confidence value 0.56\n",
      "Trying confidence value 0.55\n",
      "Trying confidence value 0.54\n",
      "Trying confidence value 0.53\n",
      "Trying confidence value 0.52\n",
      "Trying confidence value 0.51\n",
      "Trying confidence value 0.50\n",
      "Trying confidence value 0.49\n",
      "Trying confidence value 0.48\n",
      "Trying confidence value 0.47\n",
      "Trying confidence value 0.46\n",
      "Trying confidence value 0.45\n",
      "Trying confidence value 0.44\n",
      "Trying confidence value 0.43\n",
      "Trying confidence value 0.42\n",
      "Trying confidence value 0.41\n",
      "Trying confidence value 0.40\n",
      "Trying confidence value 0.39\n",
      "Trying confidence value 0.38\n",
      "Trying confidence value 0.37\n",
      "Trying confidence value 0.36\n",
      "Trying confidence value 0.35\n",
      "Trying confidence value 0.34\n",
      "Trying confidence value 0.33\n",
      "Trying confidence value 0.32\n",
      "Trying confidence value 0.31\n",
      "Trying confidence value 0.30\n",
      "Trying confidence value 0.29\n",
      "Trying confidence value 0.28\n",
      "Trying confidence value 0.27\n",
      "Trying confidence value 0.26\n",
      "Trying confidence value 0.25\n",
      "I've selected min_confidence = 0.25, which produce 10 rules\n"
     ]
    }
   ],
   "source": [
    "# requierements\n",
    "min_rules = 10\n",
    "\n",
    "# reasonable range\n",
    "confidence_range = np.arange(1, 0.01, -0.01)\n",
    "\n",
    "min_confidence = 0\n",
    "\n",
    "for confidence in confidence_range:\n",
    "    print(f\"Trying confidence value {confidence:.2f}\")\n",
    "\n",
    "    rules = association_rules(frequent_itemsets, metric='confidence', min_threshold=confidence)\n",
    "\n",
    "    if len(rules) >= min_rules:\n",
    "        min_confidence = confidence\n",
    "        break\n",
    "\n",
    "if min_confidence == 0:\n",
    "    print(\"No rule set met the requierement! Try again with a bigger range\")\n",
    "else:\n",
    "    print(f\"I've selected min_confidence = {min_confidence:.2f}, which produce {len(rules)} rules\")"
   ]
  },
  {
   "attachments": {},
   "cell_type": "markdown",
   "metadata": {},
   "source": [
    "Print output as requested"
   ]
  },
  {
   "cell_type": "code",
   "execution_count": 10,
   "metadata": {},
   "outputs": [
    {
     "name": "stdout",
     "output_type": "stream",
     "text": [
      "Metric: \"confidence\" - min_metric: 0.2500 - Number of rules: 10\n"
     ]
    }
   ],
   "source": [
    "print(f'Metric: \"confidence\" - min_metric: {min_confidence:.4f} - Number of rules: {len(rules)}')"
   ]
  },
  {
   "attachments": {},
   "cell_type": "markdown",
   "metadata": {},
   "source": [
    "## 7. print the first 10 rules found, sorted by descending confidence and support (3 points)"
   ]
  },
  {
   "cell_type": "code",
   "execution_count": 12,
   "metadata": {},
   "outputs": [
    {
     "data": {
      "text/html": [
       "<div>\n",
       "<style scoped>\n",
       "    .dataframe tbody tr th:only-of-type {\n",
       "        vertical-align: middle;\n",
       "    }\n",
       "\n",
       "    .dataframe tbody tr th {\n",
       "        vertical-align: top;\n",
       "    }\n",
       "\n",
       "    .dataframe thead th {\n",
       "        text-align: right;\n",
       "    }\n",
       "</style>\n",
       "<table border=\"1\" class=\"dataframe\">\n",
       "  <thead>\n",
       "    <tr style=\"text-align: right;\">\n",
       "      <th></th>\n",
       "      <th>antecedents</th>\n",
       "      <th>consequents</th>\n",
       "      <th>antecedent support</th>\n",
       "      <th>consequent support</th>\n",
       "      <th>support</th>\n",
       "      <th>confidence</th>\n",
       "      <th>lift</th>\n",
       "      <th>leverage</th>\n",
       "      <th>conviction</th>\n",
       "    </tr>\n",
       "  </thead>\n",
       "  <tbody>\n",
       "    <tr>\n",
       "      <th>0</th>\n",
       "      <td>(root vegetables)</td>\n",
       "      <td>(whole milk)</td>\n",
       "      <td>0.136399</td>\n",
       "      <td>0.311621</td>\n",
       "      <td>0.062663</td>\n",
       "      <td>0.459408</td>\n",
       "      <td>1.474254</td>\n",
       "      <td>0.020158</td>\n",
       "      <td>1.273380</td>\n",
       "    </tr>\n",
       "    <tr>\n",
       "      <th>1</th>\n",
       "      <td>(root vegetables)</td>\n",
       "      <td>(other vegetables)</td>\n",
       "      <td>0.136399</td>\n",
       "      <td>0.239838</td>\n",
       "      <td>0.060709</td>\n",
       "      <td>0.445081</td>\n",
       "      <td>1.855754</td>\n",
       "      <td>0.027995</td>\n",
       "      <td>1.369861</td>\n",
       "    </tr>\n",
       "    <tr>\n",
       "      <th>2</th>\n",
       "      <td>(yogurt)</td>\n",
       "      <td>(whole milk)</td>\n",
       "      <td>0.173528</td>\n",
       "      <td>0.311621</td>\n",
       "      <td>0.071782</td>\n",
       "      <td>0.413664</td>\n",
       "      <td>1.327459</td>\n",
       "      <td>0.017707</td>\n",
       "      <td>1.174035</td>\n",
       "    </tr>\n",
       "    <tr>\n",
       "      <th>3</th>\n",
       "      <td>(tropical fruit)</td>\n",
       "      <td>(whole milk)</td>\n",
       "      <td>0.131449</td>\n",
       "      <td>0.311621</td>\n",
       "      <td>0.054195</td>\n",
       "      <td>0.412289</td>\n",
       "      <td>1.323049</td>\n",
       "      <td>0.013233</td>\n",
       "      <td>1.171290</td>\n",
       "    </tr>\n",
       "    <tr>\n",
       "      <th>4</th>\n",
       "      <td>(other vegetables)</td>\n",
       "      <td>(whole milk)</td>\n",
       "      <td>0.239838</td>\n",
       "      <td>0.311621</td>\n",
       "      <td>0.095883</td>\n",
       "      <td>0.399783</td>\n",
       "      <td>1.282915</td>\n",
       "      <td>0.021145</td>\n",
       "      <td>1.146884</td>\n",
       "    </tr>\n",
       "    <tr>\n",
       "      <th>5</th>\n",
       "      <td>(rolls/buns)</td>\n",
       "      <td>(whole milk)</td>\n",
       "      <td>0.221470</td>\n",
       "      <td>0.311621</td>\n",
       "      <td>0.072564</td>\n",
       "      <td>0.327647</td>\n",
       "      <td>1.051429</td>\n",
       "      <td>0.003549</td>\n",
       "      <td>1.023836</td>\n",
       "    </tr>\n",
       "    <tr>\n",
       "      <th>6</th>\n",
       "      <td>(yogurt)</td>\n",
       "      <td>(other vegetables)</td>\n",
       "      <td>0.173528</td>\n",
       "      <td>0.239838</td>\n",
       "      <td>0.055628</td>\n",
       "      <td>0.320571</td>\n",
       "      <td>1.336610</td>\n",
       "      <td>0.014009</td>\n",
       "      <td>1.118823</td>\n",
       "    </tr>\n",
       "    <tr>\n",
       "      <th>7</th>\n",
       "      <td>(whole milk)</td>\n",
       "      <td>(other vegetables)</td>\n",
       "      <td>0.311621</td>\n",
       "      <td>0.239838</td>\n",
       "      <td>0.095883</td>\n",
       "      <td>0.307692</td>\n",
       "      <td>1.282915</td>\n",
       "      <td>0.021145</td>\n",
       "      <td>1.098011</td>\n",
       "    </tr>\n",
       "    <tr>\n",
       "      <th>8</th>\n",
       "      <td>(other vegetables)</td>\n",
       "      <td>(root vegetables)</td>\n",
       "      <td>0.239838</td>\n",
       "      <td>0.136399</td>\n",
       "      <td>0.060709</td>\n",
       "      <td>0.253123</td>\n",
       "      <td>1.855754</td>\n",
       "      <td>0.027995</td>\n",
       "      <td>1.156283</td>\n",
       "    </tr>\n",
       "    <tr>\n",
       "      <th>9</th>\n",
       "      <td>(soda)</td>\n",
       "      <td>(whole milk)</td>\n",
       "      <td>0.203101</td>\n",
       "      <td>0.311621</td>\n",
       "      <td>0.051329</td>\n",
       "      <td>0.252726</td>\n",
       "      <td>0.811006</td>\n",
       "      <td>-0.011962</td>\n",
       "      <td>0.921187</td>\n",
       "    </tr>\n",
       "  </tbody>\n",
       "</table>\n",
       "</div>"
      ],
      "text/plain": [
       "          antecedents         consequents  antecedent support  \\\n",
       "0   (root vegetables)        (whole milk)            0.136399   \n",
       "1   (root vegetables)  (other vegetables)            0.136399   \n",
       "2            (yogurt)        (whole milk)            0.173528   \n",
       "3    (tropical fruit)        (whole milk)            0.131449   \n",
       "4  (other vegetables)        (whole milk)            0.239838   \n",
       "5        (rolls/buns)        (whole milk)            0.221470   \n",
       "6            (yogurt)  (other vegetables)            0.173528   \n",
       "7        (whole milk)  (other vegetables)            0.311621   \n",
       "8  (other vegetables)   (root vegetables)            0.239838   \n",
       "9              (soda)        (whole milk)            0.203101   \n",
       "\n",
       "   consequent support   support  confidence      lift  leverage  conviction  \n",
       "0            0.311621  0.062663    0.459408  1.474254  0.020158    1.273380  \n",
       "1            0.239838  0.060709    0.445081  1.855754  0.027995    1.369861  \n",
       "2            0.311621  0.071782    0.413664  1.327459  0.017707    1.174035  \n",
       "3            0.311621  0.054195    0.412289  1.323049  0.013233    1.171290  \n",
       "4            0.311621  0.095883    0.399783  1.282915  0.021145    1.146884  \n",
       "5            0.311621  0.072564    0.327647  1.051429  0.003549    1.023836  \n",
       "6            0.239838  0.055628    0.320571  1.336610  0.014009    1.118823  \n",
       "7            0.239838  0.095883    0.307692  1.282915  0.021145    1.098011  \n",
       "8            0.136399  0.060709    0.253123  1.855754  0.027995    1.156283  \n",
       "9            0.311621  0.051329    0.252726  0.811006 -0.011962    0.921187  "
      ]
     },
     "execution_count": 12,
     "metadata": {},
     "output_type": "execute_result"
    }
   ],
   "source": [
    "\n",
    "sorted_rules = rules.sort_values(by=['confidence', 'support'], ascending=False).reset_index(drop=True)\n",
    "sorted_rules"
   ]
  },
  {
   "attachments": {},
   "cell_type": "markdown",
   "metadata": {},
   "source": [
    "## 8. plot confidence and support for all the sorted rules found (3 points)"
   ]
  },
  {
   "cell_type": "code",
   "execution_count": 13,
   "metadata": {},
   "outputs": [
    {
     "data": {
      "text/plain": [
       "<AxesSubplot:title={'center':'Association Rules'}>"
      ]
     },
     "execution_count": 13,
     "metadata": {},
     "output_type": "execute_result"
    },
    {
     "data": {
      "image/png": "[encoded data removed]",
      "text/plain": [
       "<Figure size 640x480 with 1 Axes>"
      ]
     },
     "metadata": {},
     "output_type": "display_data"
    }
   ],
   "source": [
    "sorted_rules[['confidence', 'support']].plot(title='Association Rules')"
   ]
  },
  {
   "attachments": {},
   "cell_type": "markdown",
   "metadata": {},
   "source": [
    "## 9. scatter plot the rules by confidence and support, labelling the points with the index value of the corresponding rule"
   ]
  },
  {
   "cell_type": "code",
   "execution_count": 14,
   "metadata": {},
   "outputs": [
    {
     "data": {
      "image/png": "[encoded data removed]",
      "text/plain": [
       "<Figure size 640x480 with 1 Axes>"
      ]
     },
     "metadata": {},
     "output_type": "display_data"
    }
   ],
   "source": [
    "fig = sorted_rules.plot.scatter(x='confidence', y='support', title='Association rules')\n",
    "\n",
    "for i in range(len(sorted_rules)):\n",
    "    fig.annotate(text=i, xy=(sorted_rules['confidence'][i], sorted_rules['support'][i]))"
   ]
  }
 ],
 "metadata": {
  "kernelspec": {
   "display_name": "DataMining",
   "language": "python",
   "name": "python3"
  },
  "language_info": {
   "codemirror_mode": {
    "name": "ipython",
    "version": 3
   },
   "file_extension": ".py",
   "mimetype": "text/x-python",
   "name": "python",
   "nbconvert_exporter": "python",
   "pygments_lexer": "ipython3",
   "version": "3.10.6"
  },
  "orig_nbformat": 4,
  "vscode": {
   "interpreter": {
    "hash": "31a9f1d6a68a0c237be51e4450549950dae00c9bb42d0ea2a98fb8f240dc7a3e"
   }
  }
 },
 "nbformat": 4,
 "nbformat_minor": 2
}
