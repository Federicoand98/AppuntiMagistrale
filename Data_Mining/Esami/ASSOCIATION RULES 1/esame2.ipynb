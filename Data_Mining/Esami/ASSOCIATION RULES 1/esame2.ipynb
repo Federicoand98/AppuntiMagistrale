{
 "cells": [
  {
   "attachments": {},
   "cell_type": "markdown",
   "metadata": {},
   "source": [
    "# Federico Andrucci - 000105...."
   ]
  },
  {
   "cell_type": "code",
   "execution_count": 1,
   "metadata": {},
   "outputs": [],
   "source": [
    "# Imports\n",
    "import pandas as pd\n",
    "import numpy as np\n",
    "import matplotlib.pyplot as plt\n",
    "from mlxtend.preprocessing import TransactionEncoder\n",
    "from mlxtend.frequent_patterns import apriori\n",
    "from mlxtend.frequent_patterns import association_rules\n",
    "\n",
    "# Variables\n",
    "file_name = 'online_retail_red.txt'\n",
    "separator = ';'\n",
    "random_state = 42\n",
    "\n",
    "# Directives\n",
    "%matplotlib inline\n",
    "np.random.seed(random_state)"
   ]
  },
  {
   "attachments": {},
   "cell_type": "markdown",
   "metadata": {},
   "source": [
    "## 1. Read a transactions database in sparse format from a txt file into a list of lists. The file contains one transaction per line, each line has a variable number of items, separated by a separator. The external list will have a list for each transaction, each transaction is a list of items. Show the first two transactions (3 points)"
   ]
  },
  {
   "cell_type": "code",
   "execution_count": 3,
   "metadata": {},
   "outputs": [],
   "source": [
    "# Open the file\n",
    "file = open(file_name, mode='r')\n",
    "\n",
    "transactions = [line.strip('\\n').split(separator) for line in file.readlines()]"
   ]
  },
  {
   "attachments": {},
   "cell_type": "markdown",
   "metadata": {},
   "source": [
    "Print the first two transactions"
   ]
  },
  {
   "cell_type": "code",
   "execution_count": 4,
   "metadata": {},
   "outputs": [
    {
     "name": "stdout",
     "output_type": "stream",
     "text": [
      "First:\n",
      "['CREAM CUPID HEARTS COAT HANGER', 'GLASS STAR FROSTED T-LIGHT HOLDER', 'KNITTED UNION FLAG HOT WATER BOTTLE', 'RED WOOLLY HOTTIE WHITE HEART.', 'SET 7 BABUSHKA NESTING BOXES', 'WHITE HANGING HEART T-LIGHT HOLDER', 'WHITE METAL LANTERN']\n",
      "\n",
      "Second:\n",
      "['HAND WARMER RED POLKA DOT', 'HAND WARMER UNION JACK']\n"
     ]
    }
   ],
   "source": [
    "print(f\"First:\\n{transactions[0]}\\n\\nSecond:\\n{transactions[1]}\")"
   ]
  },
  {
   "attachments": {},
   "cell_type": "markdown",
   "metadata": {},
   "source": [
    "## 2. Encode the list of lists into a binary representation and transform it into a dataframe whose columns are the items show the head of that dataframe"
   ]
  },
  {
   "cell_type": "code",
   "execution_count": 7,
   "metadata": {},
   "outputs": [
    {
     "data": {
      "text/html": [
       "<div>\n",
       "<style scoped>\n",
       "    .dataframe tbody tr th:only-of-type {\n",
       "        vertical-align: middle;\n",
       "    }\n",
       "\n",
       "    .dataframe tbody tr th {\n",
       "        vertical-align: top;\n",
       "    }\n",
       "\n",
       "    .dataframe thead th {\n",
       "        text-align: right;\n",
       "    }\n",
       "</style>\n",
       "<table border=\"1\" class=\"dataframe\">\n",
       "  <thead>\n",
       "    <tr style=\"text-align: right;\">\n",
       "      <th></th>\n",
       "      <th>10 COLOUR SPACEBOY PEN</th>\n",
       "      <th>12 COLOURED PARTY BALLOONS</th>\n",
       "      <th>12 DAISY PEGS IN WOOD BOX</th>\n",
       "      <th>12 EGG HOUSE PAINTED WOOD</th>\n",
       "      <th>12 IVORY ROSE PEG PLACE SETTINGS</th>\n",
       "      <th>12 MESSAGE CARDS WITH ENVELOPES</th>\n",
       "      <th>12 PENCIL SMALL TUBE WOODLAND</th>\n",
       "      <th>12 PENCILS SMALL TUBE RED RETROSPOT</th>\n",
       "      <th>12 PENCILS SMALL TUBE SKULL</th>\n",
       "      <th>12 PENCILS TALL TUBE POSY</th>\n",
       "      <th>...</th>\n",
       "      <th>ZINC HEART LATTICE T-LIGHT HOLDER</th>\n",
       "      <th>ZINC HEARTS PLANT POT HOLDER</th>\n",
       "      <th>ZINC HERB GARDEN CONTAINER</th>\n",
       "      <th>ZINC METAL HEART DECORATION</th>\n",
       "      <th>ZINC SWEETHEART SOAP DISH</th>\n",
       "      <th>ZINC SWEETHEART WIRE LETTER RACK</th>\n",
       "      <th>ZINC T-LIGHT HOLDER STAR LARGE</th>\n",
       "      <th>ZINC T-LIGHT HOLDER STARS SMALL</th>\n",
       "      <th>ZINC WILLIE WINKIE  CANDLE STICK</th>\n",
       "      <th>ZINC WIRE SWEETHEART LETTER TRAY</th>\n",
       "    </tr>\n",
       "  </thead>\n",
       "  <tbody>\n",
       "    <tr>\n",
       "      <th>0</th>\n",
       "      <td>0</td>\n",
       "      <td>0</td>\n",
       "      <td>0</td>\n",
       "      <td>0</td>\n",
       "      <td>0</td>\n",
       "      <td>0</td>\n",
       "      <td>0</td>\n",
       "      <td>0</td>\n",
       "      <td>0</td>\n",
       "      <td>0</td>\n",
       "      <td>...</td>\n",
       "      <td>0</td>\n",
       "      <td>0</td>\n",
       "      <td>0</td>\n",
       "      <td>0</td>\n",
       "      <td>0</td>\n",
       "      <td>0</td>\n",
       "      <td>0</td>\n",
       "      <td>0</td>\n",
       "      <td>0</td>\n",
       "      <td>0</td>\n",
       "    </tr>\n",
       "    <tr>\n",
       "      <th>1</th>\n",
       "      <td>0</td>\n",
       "      <td>0</td>\n",
       "      <td>0</td>\n",
       "      <td>0</td>\n",
       "      <td>0</td>\n",
       "      <td>0</td>\n",
       "      <td>0</td>\n",
       "      <td>0</td>\n",
       "      <td>0</td>\n",
       "      <td>0</td>\n",
       "      <td>...</td>\n",
       "      <td>0</td>\n",
       "      <td>0</td>\n",
       "      <td>0</td>\n",
       "      <td>0</td>\n",
       "      <td>0</td>\n",
       "      <td>0</td>\n",
       "      <td>0</td>\n",
       "      <td>0</td>\n",
       "      <td>0</td>\n",
       "      <td>0</td>\n",
       "    </tr>\n",
       "    <tr>\n",
       "      <th>2</th>\n",
       "      <td>0</td>\n",
       "      <td>0</td>\n",
       "      <td>0</td>\n",
       "      <td>0</td>\n",
       "      <td>0</td>\n",
       "      <td>0</td>\n",
       "      <td>0</td>\n",
       "      <td>0</td>\n",
       "      <td>0</td>\n",
       "      <td>0</td>\n",
       "      <td>...</td>\n",
       "      <td>0</td>\n",
       "      <td>0</td>\n",
       "      <td>0</td>\n",
       "      <td>0</td>\n",
       "      <td>0</td>\n",
       "      <td>0</td>\n",
       "      <td>0</td>\n",
       "      <td>0</td>\n",
       "      <td>0</td>\n",
       "      <td>0</td>\n",
       "    </tr>\n",
       "    <tr>\n",
       "      <th>3</th>\n",
       "      <td>0</td>\n",
       "      <td>0</td>\n",
       "      <td>0</td>\n",
       "      <td>0</td>\n",
       "      <td>0</td>\n",
       "      <td>0</td>\n",
       "      <td>0</td>\n",
       "      <td>0</td>\n",
       "      <td>0</td>\n",
       "      <td>0</td>\n",
       "      <td>...</td>\n",
       "      <td>0</td>\n",
       "      <td>0</td>\n",
       "      <td>0</td>\n",
       "      <td>0</td>\n",
       "      <td>0</td>\n",
       "      <td>0</td>\n",
       "      <td>0</td>\n",
       "      <td>0</td>\n",
       "      <td>0</td>\n",
       "      <td>0</td>\n",
       "    </tr>\n",
       "    <tr>\n",
       "      <th>4</th>\n",
       "      <td>0</td>\n",
       "      <td>0</td>\n",
       "      <td>0</td>\n",
       "      <td>0</td>\n",
       "      <td>0</td>\n",
       "      <td>0</td>\n",
       "      <td>0</td>\n",
       "      <td>0</td>\n",
       "      <td>0</td>\n",
       "      <td>0</td>\n",
       "      <td>...</td>\n",
       "      <td>0</td>\n",
       "      <td>0</td>\n",
       "      <td>0</td>\n",
       "      <td>0</td>\n",
       "      <td>0</td>\n",
       "      <td>0</td>\n",
       "      <td>0</td>\n",
       "      <td>0</td>\n",
       "      <td>0</td>\n",
       "      <td>0</td>\n",
       "    </tr>\n",
       "  </tbody>\n",
       "</table>\n",
       "<p>5 rows × 2968 columns</p>\n",
       "</div>"
      ],
      "text/plain": [
       "   10 COLOUR SPACEBOY PEN  12 COLOURED PARTY BALLOONS  \\\n",
       "0                       0                           0   \n",
       "1                       0                           0   \n",
       "2                       0                           0   \n",
       "3                       0                           0   \n",
       "4                       0                           0   \n",
       "\n",
       "   12 DAISY PEGS IN WOOD BOX  12 EGG HOUSE PAINTED WOOD  \\\n",
       "0                          0                          0   \n",
       "1                          0                          0   \n",
       "2                          0                          0   \n",
       "3                          0                          0   \n",
       "4                          0                          0   \n",
       "\n",
       "   12 IVORY ROSE PEG PLACE SETTINGS  12 MESSAGE CARDS WITH ENVELOPES  \\\n",
       "0                                 0                                0   \n",
       "1                                 0                                0   \n",
       "2                                 0                                0   \n",
       "3                                 0                                0   \n",
       "4                                 0                                0   \n",
       "\n",
       "   12 PENCIL SMALL TUBE WOODLAND  12 PENCILS SMALL TUBE RED RETROSPOT  \\\n",
       "0                              0                                    0   \n",
       "1                              0                                    0   \n",
       "2                              0                                    0   \n",
       "3                              0                                    0   \n",
       "4                              0                                    0   \n",
       "\n",
       "   12 PENCILS SMALL TUBE SKULL  12 PENCILS TALL TUBE POSY  ...  \\\n",
       "0                            0                          0  ...   \n",
       "1                            0                          0  ...   \n",
       "2                            0                          0  ...   \n",
       "3                            0                          0  ...   \n",
       "4                            0                          0  ...   \n",
       "\n",
       "   ZINC HEART LATTICE T-LIGHT HOLDER  ZINC HEARTS PLANT POT HOLDER  \\\n",
       "0                                  0                             0   \n",
       "1                                  0                             0   \n",
       "2                                  0                             0   \n",
       "3                                  0                             0   \n",
       "4                                  0                             0   \n",
       "\n",
       "   ZINC HERB GARDEN CONTAINER  ZINC METAL HEART DECORATION  \\\n",
       "0                           0                            0   \n",
       "1                           0                            0   \n",
       "2                           0                            0   \n",
       "3                           0                            0   \n",
       "4                           0                            0   \n",
       "\n",
       "   ZINC SWEETHEART SOAP DISH  ZINC SWEETHEART WIRE LETTER RACK  \\\n",
       "0                          0                                 0   \n",
       "1                          0                                 0   \n",
       "2                          0                                 0   \n",
       "3                          0                                 0   \n",
       "4                          0                                 0   \n",
       "\n",
       "   ZINC T-LIGHT HOLDER STAR LARGE  ZINC T-LIGHT HOLDER STARS SMALL  \\\n",
       "0                               0                                0   \n",
       "1                               0                                0   \n",
       "2                               0                                0   \n",
       "3                               0                                0   \n",
       "4                               0                                0   \n",
       "\n",
       "   ZINC WILLIE WINKIE  CANDLE STICK  ZINC WIRE SWEETHEART LETTER TRAY  \n",
       "0                                 0                                 0  \n",
       "1                                 0                                 0  \n",
       "2                                 0                                 0  \n",
       "3                                 0                                 0  \n",
       "4                                 0                                 0  \n",
       "\n",
       "[5 rows x 2968 columns]"
      ]
     },
     "execution_count": 7,
     "metadata": {},
     "output_type": "execute_result"
    }
   ],
   "source": [
    "# encode the transactions\n",
    "encoder = TransactionEncoder()\n",
    "encoded_transactions = encoder.fit_transform(transactions)\n",
    "\n",
    "# creating a dataframe\n",
    "df = pd.DataFrame(encoded_transactions.astype(int), columns=encoder.columns_)\n",
    "df.head()"
   ]
  },
  {
   "attachments": {},
   "cell_type": "markdown",
   "metadata": {},
   "source": [
    "## 3. Find a value of min_support such that the apriori algorithm generates at least 8 frequent itemsets with at least 2 items. Output the result with the message below (5 points)\n",
    "\n",
    "_min_support: 0.xxxx - number of itemsets with at least 2 items: nn_"
   ]
  },
  {
   "cell_type": "code",
   "execution_count": 10,
   "metadata": {},
   "outputs": [
    {
     "name": "stdout",
     "output_type": "stream",
     "text": [
      "Trying with support: 0.1\n"
     ]
    },
    {
     "name": "stderr",
     "output_type": "stream",
     "text": [
      "/Users/federyeeco/opt/miniconda3/envs/DataMining/lib/python3.10/site-packages/mlxtend/frequent_patterns/fpcommon.py:111: DeprecationWarning: DataFrames with non-bool types result in worse computationalperformance and their support might be discontinued in the future.Please use a DataFrame with bool type\n",
      "  warnings.warn(\n"
     ]
    },
    {
     "name": "stdout",
     "output_type": "stream",
     "text": [
      "Trying with support: 0.09000000000000001\n"
     ]
    },
    {
     "name": "stderr",
     "output_type": "stream",
     "text": [
      "/Users/federyeeco/opt/miniconda3/envs/DataMining/lib/python3.10/site-packages/mlxtend/frequent_patterns/fpcommon.py:111: DeprecationWarning: DataFrames with non-bool types result in worse computationalperformance and their support might be discontinued in the future.Please use a DataFrame with bool type\n",
      "  warnings.warn(\n"
     ]
    },
    {
     "name": "stdout",
     "output_type": "stream",
     "text": [
      "Trying with support: 0.08000000000000002\n"
     ]
    },
    {
     "name": "stderr",
     "output_type": "stream",
     "text": [
      "/Users/federyeeco/opt/miniconda3/envs/DataMining/lib/python3.10/site-packages/mlxtend/frequent_patterns/fpcommon.py:111: DeprecationWarning: DataFrames with non-bool types result in worse computationalperformance and their support might be discontinued in the future.Please use a DataFrame with bool type\n",
      "  warnings.warn(\n"
     ]
    },
    {
     "name": "stdout",
     "output_type": "stream",
     "text": [
      "Trying with support: 0.07000000000000002\n"
     ]
    },
    {
     "name": "stderr",
     "output_type": "stream",
     "text": [
      "/Users/federyeeco/opt/miniconda3/envs/DataMining/lib/python3.10/site-packages/mlxtend/frequent_patterns/fpcommon.py:111: DeprecationWarning: DataFrames with non-bool types result in worse computationalperformance and their support might be discontinued in the future.Please use a DataFrame with bool type\n",
      "  warnings.warn(\n"
     ]
    },
    {
     "name": "stdout",
     "output_type": "stream",
     "text": [
      "Trying with support: 0.060000000000000026\n"
     ]
    },
    {
     "name": "stderr",
     "output_type": "stream",
     "text": [
      "/Users/federyeeco/opt/miniconda3/envs/DataMining/lib/python3.10/site-packages/mlxtend/frequent_patterns/fpcommon.py:111: DeprecationWarning: DataFrames with non-bool types result in worse computationalperformance and their support might be discontinued in the future.Please use a DataFrame with bool type\n",
      "  warnings.warn(\n"
     ]
    },
    {
     "name": "stdout",
     "output_type": "stream",
     "text": [
      "Trying with support: 0.05000000000000003\n"
     ]
    },
    {
     "name": "stderr",
     "output_type": "stream",
     "text": [
      "/Users/federyeeco/opt/miniconda3/envs/DataMining/lib/python3.10/site-packages/mlxtend/frequent_patterns/fpcommon.py:111: DeprecationWarning: DataFrames with non-bool types result in worse computationalperformance and their support might be discontinued in the future.Please use a DataFrame with bool type\n",
      "  warnings.warn(\n"
     ]
    },
    {
     "name": "stdout",
     "output_type": "stream",
     "text": [
      "Trying with support: 0.040000000000000036\n"
     ]
    },
    {
     "name": "stderr",
     "output_type": "stream",
     "text": [
      "/Users/federyeeco/opt/miniconda3/envs/DataMining/lib/python3.10/site-packages/mlxtend/frequent_patterns/fpcommon.py:111: DeprecationWarning: DataFrames with non-bool types result in worse computationalperformance and their support might be discontinued in the future.Please use a DataFrame with bool type\n",
      "  warnings.warn(\n"
     ]
    },
    {
     "name": "stdout",
     "output_type": "stream",
     "text": [
      "Trying with support: 0.03000000000000004\n"
     ]
    },
    {
     "name": "stderr",
     "output_type": "stream",
     "text": [
      "/Users/federyeeco/opt/miniconda3/envs/DataMining/lib/python3.10/site-packages/mlxtend/frequent_patterns/fpcommon.py:111: DeprecationWarning: DataFrames with non-bool types result in worse computationalperformance and their support might be discontinued in the future.Please use a DataFrame with bool type\n",
      "  warnings.warn(\n"
     ]
    },
    {
     "name": "stdout",
     "output_type": "stream",
     "text": [
      "Support found: 0.03000000000000004, which produce       support                                           itemsets\n",
      "0    0.047835                           (6 RIBBONS RUSTIC CHARM)\n",
      "1    0.032505                  (60 CAKE CASES VINTAGE CHRISTMAS)\n",
      "2    0.042128                      (60 TEATIME FAIRY CAKE CASES)\n",
      "3    0.031051                   (72 SWEETHEART FAIRY CAKE CASES)\n",
      "4    0.049010                       (ALARM CLOCK BAKELIKE GREEN)\n",
      "..        ...                                                ...\n",
      "143  0.039051  (JUMBO BAG RED RETROSPOT, JUMBO STORAGE BAG SUKI)\n",
      "144  0.033960  (LUNCH BAG  BLACK SKULL., LUNCH BAG RED RETROS...\n",
      "145  0.030995  (LUNCH BAG RED RETROSPOT, LUNCH BAG PINK POLKA...\n",
      "146  0.030100  (PAPER CHAIN KIT 50'S CHRISTMAS, PAPER CHAIN K...\n",
      "147  0.030547  (PINK REGENCY TEACUP AND SAUCER, ROSES REGENCY...\n",
      "\n",
      "[148 rows x 2 columns] itemsets, 12 of which have more than 2 items\n"
     ]
    }
   ],
   "source": [
    "# requirements\n",
    "min_itemsets = 8\n",
    "min_items_in_itemset = 2\n",
    "\n",
    "# reasonable range\n",
    "support_range = np.arange(0.1, 0.01, -0.01)\n",
    "min_support = 0\n",
    "\n",
    "for support in support_range:\n",
    "    print(f\"Trying with support: {support}\")\n",
    "\n",
    "    frequent_itemsets = apriori(df, min_support=support, use_colnames=True)\n",
    "\n",
    "    # calculate the number of itemset above the threshold\n",
    "    itemsets_above_threshold = sum([len(itemset) >= min_items_in_itemset for itemset in frequent_itemsets.itemsets])\n",
    "\n",
    "    if itemsets_above_threshold >= min_itemsets:\n",
    "        min_support = support\n",
    "        break\n",
    "\n",
    "if min_support == 0:\n",
    "    print(f\"Try with a bigger support range\")\n",
    "else:\n",
    "    print(f\"Support found: {min_support}, which produce {frequent_itemsets} itemsets, {itemsets_above_threshold} of which have more than {min_items_in_itemset} items\")"
   ]
  },
  {
   "attachments": {},
   "cell_type": "markdown",
   "metadata": {},
   "source": [
    "Printing the output as requested"
   ]
  },
  {
   "cell_type": "code",
   "execution_count": 11,
   "metadata": {},
   "outputs": [
    {
     "name": "stdout",
     "output_type": "stream",
     "text": [
      "min_support: 0.0300 - number of itemsets with at least 2 items: 12\n"
     ]
    }
   ],
   "source": [
    "print(f\"min_support: {min_support:.4f} - number of itemsets with at least 2 items: {itemsets_above_threshold}\")"
   ]
  },
  {
   "attachments": {},
   "cell_type": "markdown",
   "metadata": {},
   "source": [
    "## 4. Find the minimum metric threshold such that at least 10 association rules are extracted from the frequent itemsets found (5 points)\n",
    "\n",
    "_use \"confidence\" as metric and output the line below:_\n",
    "\n",
    "_Metric: \"confidence\" - min_metric: 0.xxxx - Number of rules: n_"
   ]
  },
  {
   "attachments": {},
   "cell_type": "markdown",
   "metadata": {},
   "source": [
    "Just like we did before, we create a reasonable range to iterate over"
   ]
  },
  {
   "cell_type": "code",
   "execution_count": 12,
   "metadata": {},
   "outputs": [
    {
     "name": "stdout",
     "output_type": "stream",
     "text": [
      "Trying with confidence: 1.00\n",
      "Trying with confidence: 0.99\n",
      "Trying with confidence: 0.98\n",
      "Trying with confidence: 0.97\n",
      "Trying with confidence: 0.96\n",
      "Trying with confidence: 0.95\n",
      "Trying with confidence: 0.94\n",
      "Trying with confidence: 0.93\n",
      "Trying with confidence: 0.92\n",
      "Trying with confidence: 0.91\n",
      "Trying with confidence: 0.90\n",
      "Trying with confidence: 0.89\n",
      "Trying with confidence: 0.88\n",
      "Trying with confidence: 0.87\n",
      "Trying with confidence: 0.86\n",
      "Trying with confidence: 0.85\n",
      "Trying with confidence: 0.84\n",
      "Trying with confidence: 0.83\n",
      "Trying with confidence: 0.82\n",
      "Trying with confidence: 0.81\n",
      "Trying with confidence: 0.80\n",
      "Trying with confidence: 0.79\n",
      "Trying with confidence: 0.78\n",
      "Trying with confidence: 0.77\n",
      "Trying with confidence: 0.76\n",
      "Trying with confidence: 0.75\n",
      "Trying with confidence: 0.74\n",
      "Trying with confidence: 0.73\n",
      "Trying with confidence: 0.72\n",
      "Trying with confidence: 0.71\n",
      "Trying with confidence: 0.70\n",
      "Trying with confidence: 0.69\n",
      "Trying with confidence: 0.68\n",
      "Trying with confidence: 0.67\n",
      "Trying with confidence: 0.66\n",
      "Trying with confidence: 0.65\n",
      "Trying with confidence: 0.64\n",
      "Trying with confidence: 0.63\n",
      "Trying with confidence: 0.62\n",
      "Trying with confidence: 0.61\n",
      "Selected min_confidence: 0.61, which produces 11 rules.\n"
     ]
    }
   ],
   "source": [
    "# requirements\n",
    "min_rules = 10\n",
    "\n",
    "# reasonable range\n",
    "confidence_range = np.arange(1, 0.01, -0.01)\n",
    "\n",
    "min_confidence = 0\n",
    "\n",
    "for confidence in confidence_range:\n",
    "    print(f\"Trying with confidence: {confidence:.2f}\")\n",
    "\n",
    "    rules = association_rules(frequent_itemsets, metric='confidence', min_threshold=confidence)\n",
    "\n",
    "    if len(rules) >= min_rules:\n",
    "        min_confidence = confidence\n",
    "        break\n",
    "\n",
    "if min_confidence == 0:\n",
    "    print(\"No confidence found, try with a bigger range\")\n",
    "else:\n",
    "    print(f\"Selected min_confidence: {min_confidence:.2f}, which produces {len(rules)} rules.\")"
   ]
  },
  {
   "attachments": {},
   "cell_type": "markdown",
   "metadata": {},
   "source": [
    "Print output as requested"
   ]
  },
  {
   "cell_type": "code",
   "execution_count": 13,
   "metadata": {},
   "outputs": [
    {
     "name": "stdout",
     "output_type": "stream",
     "text": [
      "Metric: \"confidence\" - min_metric: 0.6100 - Number of rules: 11\n"
     ]
    }
   ],
   "source": [
    "print(f'Metric: \"confidence\" - min_metric: {min_confidence:.4f} - Number of rules: {len(rules)}')"
   ]
  },
  {
   "attachments": {},
   "cell_type": "markdown",
   "metadata": {},
   "source": [
    "## 5. Print the first 10 rules found, sorted by descending confidence and support (3 points)"
   ]
  },
  {
   "cell_type": "code",
   "execution_count": 14,
   "metadata": {},
   "outputs": [
    {
     "data": {
      "text/html": [
       "<div>\n",
       "<style scoped>\n",
       "    .dataframe tbody tr th:only-of-type {\n",
       "        vertical-align: middle;\n",
       "    }\n",
       "\n",
       "    .dataframe tbody tr th {\n",
       "        vertical-align: top;\n",
       "    }\n",
       "\n",
       "    .dataframe thead th {\n",
       "        text-align: right;\n",
       "    }\n",
       "</style>\n",
       "<table border=\"1\" class=\"dataframe\">\n",
       "  <thead>\n",
       "    <tr style=\"text-align: right;\">\n",
       "      <th></th>\n",
       "      <th>antecedents</th>\n",
       "      <th>consequents</th>\n",
       "      <th>antecedent support</th>\n",
       "      <th>consequent support</th>\n",
       "      <th>support</th>\n",
       "      <th>confidence</th>\n",
       "      <th>lift</th>\n",
       "      <th>leverage</th>\n",
       "      <th>conviction</th>\n",
       "    </tr>\n",
       "  </thead>\n",
       "  <tbody>\n",
       "    <tr>\n",
       "      <th>0</th>\n",
       "      <td>(PINK REGENCY TEACUP AND SAUCER)</td>\n",
       "      <td>(GREEN REGENCY TEACUP AND SAUCER)</td>\n",
       "      <td>0.039331</td>\n",
       "      <td>0.052255</td>\n",
       "      <td>0.032282</td>\n",
       "      <td>0.820768</td>\n",
       "      <td>15.707077</td>\n",
       "      <td>0.030226</td>\n",
       "      <td>5.287817</td>\n",
       "    </tr>\n",
       "    <tr>\n",
       "      <th>1</th>\n",
       "      <td>(PINK REGENCY TEACUP AND SAUCER)</td>\n",
       "      <td>(ROSES REGENCY TEACUP AND SAUCER)</td>\n",
       "      <td>0.039331</td>\n",
       "      <td>0.053541</td>\n",
       "      <td>0.030547</td>\n",
       "      <td>0.776671</td>\n",
       "      <td>14.505982</td>\n",
       "      <td>0.028441</td>\n",
       "      <td>4.237964</td>\n",
       "    </tr>\n",
       "    <tr>\n",
       "      <th>2</th>\n",
       "      <td>(GREEN REGENCY TEACUP AND SAUCER)</td>\n",
       "      <td>(ROSES REGENCY TEACUP AND SAUCER)</td>\n",
       "      <td>0.052255</td>\n",
       "      <td>0.053541</td>\n",
       "      <td>0.039219</td>\n",
       "      <td>0.750535</td>\n",
       "      <td>14.017835</td>\n",
       "      <td>0.036421</td>\n",
       "      <td>3.793958</td>\n",
       "    </tr>\n",
       "    <tr>\n",
       "      <th>3</th>\n",
       "      <td>(ROSES REGENCY TEACUP AND SAUCER)</td>\n",
       "      <td>(GREEN REGENCY TEACUP AND SAUCER)</td>\n",
       "      <td>0.053541</td>\n",
       "      <td>0.052255</td>\n",
       "      <td>0.039219</td>\n",
       "      <td>0.732497</td>\n",
       "      <td>14.017835</td>\n",
       "      <td>0.036421</td>\n",
       "      <td>3.542939</td>\n",
       "    </tr>\n",
       "    <tr>\n",
       "      <th>4</th>\n",
       "      <td>(GARDENERS KNEELING PAD CUP OF TEA)</td>\n",
       "      <td>(GARDENERS KNEELING PAD KEEP CALM)</td>\n",
       "      <td>0.041960</td>\n",
       "      <td>0.050241</td>\n",
       "      <td>0.030267</td>\n",
       "      <td>0.721333</td>\n",
       "      <td>14.357586</td>\n",
       "      <td>0.028159</td>\n",
       "      <td>3.408228</td>\n",
       "    </tr>\n",
       "    <tr>\n",
       "      <th>5</th>\n",
       "      <td>(JUMBO BAG PINK POLKADOT)</td>\n",
       "      <td>(JUMBO BAG RED RETROSPOT)</td>\n",
       "      <td>0.064843</td>\n",
       "      <td>0.108426</td>\n",
       "      <td>0.043919</td>\n",
       "      <td>0.677308</td>\n",
       "      <td>6.246751</td>\n",
       "      <td>0.036888</td>\n",
       "      <td>2.762927</td>\n",
       "    </tr>\n",
       "    <tr>\n",
       "      <th>6</th>\n",
       "      <td>(PAPER CHAIN KIT VINTAGE CHRISTMAS)</td>\n",
       "      <td>(PAPER CHAIN KIT 50'S CHRISTMAS)</td>\n",
       "      <td>0.044758</td>\n",
       "      <td>0.062941</td>\n",
       "      <td>0.030100</td>\n",
       "      <td>0.672500</td>\n",
       "      <td>10.684680</td>\n",
       "      <td>0.027283</td>\n",
       "      <td>2.861250</td>\n",
       "    </tr>\n",
       "    <tr>\n",
       "      <th>7</th>\n",
       "      <td>(ALARM CLOCK BAKELIKE GREEN)</td>\n",
       "      <td>(ALARM CLOCK BAKELIKE RED)</td>\n",
       "      <td>0.049010</td>\n",
       "      <td>0.052031</td>\n",
       "      <td>0.031498</td>\n",
       "      <td>0.642694</td>\n",
       "      <td>12.352165</td>\n",
       "      <td>0.028948</td>\n",
       "      <td>2.653102</td>\n",
       "    </tr>\n",
       "    <tr>\n",
       "      <th>8</th>\n",
       "      <td>(JUMBO  BAG BAROQUE BLACK WHITE)</td>\n",
       "      <td>(JUMBO BAG RED RETROSPOT)</td>\n",
       "      <td>0.050912</td>\n",
       "      <td>0.108426</td>\n",
       "      <td>0.031890</td>\n",
       "      <td>0.626374</td>\n",
       "      <td>5.776988</td>\n",
       "      <td>0.026370</td>\n",
       "      <td>2.386273</td>\n",
       "    </tr>\n",
       "    <tr>\n",
       "      <th>9</th>\n",
       "      <td>(GREEN REGENCY TEACUP AND SAUCER)</td>\n",
       "      <td>(PINK REGENCY TEACUP AND SAUCER)</td>\n",
       "      <td>0.052255</td>\n",
       "      <td>0.039331</td>\n",
       "      <td>0.032282</td>\n",
       "      <td>0.617773</td>\n",
       "      <td>15.707077</td>\n",
       "      <td>0.030226</td>\n",
       "      <td>2.513347</td>\n",
       "    </tr>\n",
       "  </tbody>\n",
       "</table>\n",
       "</div>"
      ],
      "text/plain": [
       "                           antecedents                         consequents  \\\n",
       "0     (PINK REGENCY TEACUP AND SAUCER)   (GREEN REGENCY TEACUP AND SAUCER)   \n",
       "1     (PINK REGENCY TEACUP AND SAUCER)   (ROSES REGENCY TEACUP AND SAUCER)   \n",
       "2    (GREEN REGENCY TEACUP AND SAUCER)   (ROSES REGENCY TEACUP AND SAUCER)   \n",
       "3    (ROSES REGENCY TEACUP AND SAUCER)   (GREEN REGENCY TEACUP AND SAUCER)   \n",
       "4  (GARDENERS KNEELING PAD CUP OF TEA)  (GARDENERS KNEELING PAD KEEP CALM)   \n",
       "5            (JUMBO BAG PINK POLKADOT)           (JUMBO BAG RED RETROSPOT)   \n",
       "6  (PAPER CHAIN KIT VINTAGE CHRISTMAS)    (PAPER CHAIN KIT 50'S CHRISTMAS)   \n",
       "7         (ALARM CLOCK BAKELIKE GREEN)          (ALARM CLOCK BAKELIKE RED)   \n",
       "8     (JUMBO  BAG BAROQUE BLACK WHITE)           (JUMBO BAG RED RETROSPOT)   \n",
       "9    (GREEN REGENCY TEACUP AND SAUCER)    (PINK REGENCY TEACUP AND SAUCER)   \n",
       "\n",
       "   antecedent support  consequent support   support  confidence       lift  \\\n",
       "0            0.039331            0.052255  0.032282    0.820768  15.707077   \n",
       "1            0.039331            0.053541  0.030547    0.776671  14.505982   \n",
       "2            0.052255            0.053541  0.039219    0.750535  14.017835   \n",
       "3            0.053541            0.052255  0.039219    0.732497  14.017835   \n",
       "4            0.041960            0.050241  0.030267    0.721333  14.357586   \n",
       "5            0.064843            0.108426  0.043919    0.677308   6.246751   \n",
       "6            0.044758            0.062941  0.030100    0.672500  10.684680   \n",
       "7            0.049010            0.052031  0.031498    0.642694  12.352165   \n",
       "8            0.050912            0.108426  0.031890    0.626374   5.776988   \n",
       "9            0.052255            0.039331  0.032282    0.617773  15.707077   \n",
       "\n",
       "   leverage  conviction  \n",
       "0  0.030226    5.287817  \n",
       "1  0.028441    4.237964  \n",
       "2  0.036421    3.793958  \n",
       "3  0.036421    3.542939  \n",
       "4  0.028159    3.408228  \n",
       "5  0.036888    2.762927  \n",
       "6  0.027283    2.861250  \n",
       "7  0.028948    2.653102  \n",
       "8  0.026370    2.386273  \n",
       "9  0.030226    2.513347  "
      ]
     },
     "execution_count": 14,
     "metadata": {},
     "output_type": "execute_result"
    }
   ],
   "source": [
    "sorted_rules = rules.sort_values(by=['confidence', 'support'], ascending=False).reset_index(drop=True)\n",
    "sorted_rules[:-1]"
   ]
  },
  {
   "attachments": {},
   "cell_type": "markdown",
   "metadata": {},
   "source": [
    "## 6. Plot confidence and support for all the sorted rules found (3 points)"
   ]
  },
  {
   "cell_type": "code",
   "execution_count": 15,
   "metadata": {},
   "outputs": [
    {
     "data": {
      "text/plain": [
       "<AxesSubplot:title={'center':'Association Rules'}>"
      ]
     },
     "execution_count": 15,
     "metadata": {},
     "output_type": "execute_result"
    },
    {
     "data": {
      "image/png": "[encoded data removed]",
      "text/plain": [
       "<Figure size 640x480 with 1 Axes>"
      ]
     },
     "metadata": {},
     "output_type": "display_data"
    }
   ],
   "source": [
    "sorted_rules[['confidence','support']].plot(title='Association Rules')"
   ]
  },
  {
   "attachments": {},
   "cell_type": "markdown",
   "metadata": {},
   "source": [
    "## 7. Scatter plot the rules by confidence and support, labelling the points with the index value of the corresponding rule (3 points)"
   ]
  },
  {
   "cell_type": "code",
   "execution_count": 16,
   "metadata": {},
   "outputs": [
    {
     "data": {
      "image/png": "[encoded data removed]",
      "text/plain": [
       "<Figure size 640x480 with 1 Axes>"
      ]
     },
     "metadata": {},
     "output_type": "display_data"
    }
   ],
   "source": [
    "fig = sorted_rules.plot.scatter(x='confidence', y='support', title='Association rules')\n",
    "\n",
    "for i in range(len(sorted_rules)):\n",
    "    fig.annotate(text=i, xy=(sorted_rules['confidence'][i], sorted_rules['support'][i]))"
   ]
  }
 ],
 "metadata": {
  "kernelspec": {
   "display_name": "DataMining",
   "language": "python",
   "name": "python3"
  },
  "language_info": {
   "codemirror_mode": {
    "name": "ipython",
    "version": 3
   },
   "file_extension": ".py",
   "mimetype": "text/x-python",
   "name": "python",
   "nbconvert_exporter": "python",
   "pygments_lexer": "ipython3",
   "version": "3.10.6"
  },
  "orig_nbformat": 4,
  "vscode": {
   "interpreter": {
    "hash": "31a9f1d6a68a0c237be51e4450549950dae00c9bb42d0ea2a98fb8f240dc7a3e"
   }
  }
 },
 "nbformat": 4,
 "nbformat_minor": 2
}
