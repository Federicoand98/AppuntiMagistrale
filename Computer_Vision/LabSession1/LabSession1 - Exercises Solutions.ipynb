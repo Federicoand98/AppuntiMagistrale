{
 "cells": [
  {
   "cell_type": "markdown",
   "metadata": {},
   "source": [
    "# Python from Scratch - Exercises Solutions\n",
    "## Computer Vision and Image Processing - Lab Session 1\n",
    "### Prof: Luigi Di Stefano, luigi.distefano@unibo.it\n",
    "### Tutor: Pierluigi Zama Ramirez, pierluigi.zama@unibo.it"
   ]
  },
  {
   "cell_type": "markdown",
   "metadata": {},
   "source": [
    "## Exercise 1: Dot Product between Vectors"
   ]
  },
  {
   "cell_type": "markdown",
   "metadata": {},
   "source": [
    "#### Es 1: Write a function which takes two 1-D vectors as input and returns the dot product between them. Implement this function twice, the first time using loops and the second time using _Numpy_'s methods. Then, compute the dot product $a \\cdot b$ with $a=[92, 12, 29]$ and $b=[14, 9, 91]$ (_Expected result : 4035_).\n",
    "\n",
    "#### _Reminder_: the dot product of two vectors $a = [a_1, a_2, …, a_n]$ and $b = [b_1, b_2, …, b_n]$ is defined as:  $a\\cdot{b}=\\sum_{i=1}^n{a_ib_i}$. Morever, if vectors are identified as two matrices the dot product can be seen as a matrix multiplication : $a\\cdot{b}=a^Tb$ where $a^T$ is the transpose of $a$"
   ]
  },
  {
   "cell_type": "code",
   "execution_count": 4,
   "metadata": {},
   "outputs": [
    {
     "name": "stdout",
     "output_type": "stream",
     "text": [
      "The dot product between a:[92 12 29] and b:[14  9 91] is\n",
      "Loop result:  4035\n",
      "Numpy result:  4035\n"
     ]
    }
   ],
   "source": [
    "### Write here your solution\n",
    "### Import libraries \n",
    "import numpy as np\n",
    "\n",
    "### Define here your functions\n",
    "def dot_product_loop(a,b):\n",
    "    dot_product = 0\n",
    "    for i in range(len(a)):\n",
    "        dot_product += a[i]*b[i]\n",
    "    return dot_product\n",
    "\n",
    "def dot_product_numpy(a,b):\n",
    "    dot_product = a.dot(b)\n",
    "    return dot_product\n",
    "\n",
    "###Initialize numpy arrays a and b\n",
    "a=np.array([92,12,29])\n",
    "b=np.array([14,9,91])\n",
    "\n",
    "### Call your functions to calculate a.dot(b)\n",
    "dot_product_loop = dot_product_loop(a,b)\n",
    "dot_product_numpy = dot_product_numpy(a,b)\n",
    "\n",
    "print(\"The dot product between a:{} and b:{} is\".format(a,b))\n",
    "print(\"Loop result: \",dot_product_loop)\n",
    "print(\"Numpy result: \", dot_product_numpy)"
   ]
  },
  {
   "cell_type": "markdown",
   "metadata": {},
   "source": [
    "## Exercise 2: Norms of a Vector"
   ]
  },
  {
   "cell_type": "markdown",
   "metadata": {},
   "source": [
    "#### Es 2: Write three functions to calculate the norm $L_1, L_2$ and $L_{\\infty}$ of a vector. Test the functions on the vector $a = [22, 8 ,14]$. (_Expected results: $L_1$: 44 $L_2$: 27.28 $L_{\\infty}$: 22_)\n",
    "\n",
    "#### _Reminder_: The norms of a vector $a = [a_1, a_2, …, a_n]$ are defined in the following way: \n",
    "* $L_1:  ||a||_1 = \\sum_{i=1}^n{|a_i|} = |a_1| + |a_2| + ... + |a_n|$ \n",
    "* $L_2:  ||a||_2 = \\sqrt{\\sum_{i=1}^n{a_i^2}} = \\sqrt{a_1^2 + a_2^2 + ... + a_n^2}$\n",
    "* $L_{\\infty}: ||a||_{\\infty} = max_i(|x_i|)$ (i.e. The maximum absolute value of the componenents of the vector)"
   ]
  },
  {
   "cell_type": "code",
   "execution_count": 8,
   "metadata": {},
   "outputs": [
    {
     "name": "stdout",
     "output_type": "stream",
     "text": [
      "L1: 44 L2: 27.27636339397171 Linf: 22\n"
     ]
    }
   ],
   "source": [
    "### Write here your solution\n",
    "### Import libraries \n",
    "import numpy as np\n",
    "import math\n",
    "\n",
    "### Define here your functions\n",
    "def l1_norm(a):\n",
    "    norm = 0\n",
    "    for el in a:\n",
    "        norm += abs(el)\n",
    "    return norm\n",
    "\n",
    "def l2_norm(a):\n",
    "    norm = 0\n",
    "    for el in a:\n",
    "        norm += el**2\n",
    "    norm = math.sqrt(norm)\n",
    "    return norm\n",
    "    \n",
    "def linf_norm(a):\n",
    "    norm = np.max(np.abs(a))\n",
    "    return norm\n",
    "\n",
    "###Initialize numpy array a\n",
    "a = np.array([22,8,14])\n",
    "\n",
    "### Call your functions to calculate L1 L2 and Linf norms\n",
    "norm_l1 = l1_norm(a)\n",
    "norm_l2 = l2_norm(a)\n",
    "norm_linf = linf_norm(a)\n",
    "\n",
    "print(\"L1: {} L2: {} Linf: {}\".format(norm_l1, norm_l2, norm_linf))"
   ]
  },
  {
   "cell_type": "markdown",
   "metadata": {},
   "source": [
    "## Exercise 3: Mean and Variance of a Vector"
   ]
  },
  {
   "cell_type": "markdown",
   "metadata": {},
   "source": [
    "#### Es 3: Write three functions to calculate the mean, variance and standard deviation of a vector using python loops. Then, implement it using _Numpy_'s method. Test the functions on the vector $a = [22, 8 ,14]$. (*Expected Results: Mean $\\sim$ 14.67, Variance $\\sim$ 32.89 and Standard Deviation $\\sim$ 5.73*)\n",
    "\n",
    "#### _Reminder_:\n",
    "#### * Mean is defined as:  $\\bar{x} = \\frac{1}{n} \\sum_{i=1}^n{x_i} $ \n",
    "#### * Variance is defined as: $\\sigma^2 = \\frac{\\sum_{i=1}^n{(x_i - \\bar{x})^2}}{n}$ \n",
    "#### * Standard deviation is defined as: $\\sqrt{\\sigma^2}$"
   ]
  },
  {
   "cell_type": "code",
   "execution_count": 3,
   "metadata": {},
   "outputs": [
    {
     "name": "stdout",
     "output_type": "stream",
     "text": [
      "Mean is: 14.666666666666666, variance is: 32.88888888888889 and standard deviation is: 5.734883511361751\n",
      "__Numpy__ Mean is: 14.666666666666666, variance is: 32.88888888888889 and standard deviation is: 5.734883511361751\n"
     ]
    }
   ],
   "source": [
    "### Write here your solution\n",
    "### Import libraries\n",
    "import numpy \n",
    "import math\n",
    "\n",
    "### Define here your functions\n",
    "def mean(a):\n",
    "    average = 0\n",
    "    for el in a:\n",
    "        average += el\n",
    "    average = average/a.shape[0]\n",
    "    return average\n",
    "    \n",
    "def variance(a):\n",
    "    average = mean(a)\n",
    "    variance = 0\n",
    "    for el in a:\n",
    "        variance += (el - average)**2\n",
    "    variance = variance / a.shape[0]\n",
    "    return variance\n",
    "\n",
    "def standard_deviation(a):    \n",
    "    var = variance(a)\n",
    "    std = math.sqrt(var)\n",
    "    return std\n",
    "\n",
    "\n",
    "###Initialize numpy array a\n",
    "a = np.array([22,8,14])\n",
    "\n",
    "### Call your functions to calculate mean, variance and standard deviation\n",
    "average = mean(a)\n",
    "var = variance(a)\n",
    "std = standard_deviation(a)\n",
    "\n",
    "average_numpy = np.mean(a)\n",
    "var_numpy = np.var(a)\n",
    "std_numpy = np.std(a)\n",
    "\n",
    "print(\"Mean is: {}, variance is: {} and standard deviation is: {}\".format(average,var, std))\n",
    "print(\"__Numpy__ Mean is: {}, variance is: {} and standard deviation is: {}\".format(average_numpy,var_numpy, std_numpy))\n"
   ]
  },
  {
   "cell_type": "markdown",
   "metadata": {},
   "source": [
    "## Exercise 4: Matrix Multiplication (not Element-Wise Multiplication !)"
   ]
  },
  {
   "cell_type": "markdown",
   "metadata": {},
   "source": [
    "#### Es 4: Write a function which takes as input two matrices $A$ and $B$ and computes the matrix multiplication $AxB$. Then, implement this function using _Numpy_'s method. Test it on matrix [[10],[11],[12]] and matrix  [[1,2,3],[4,5,6]]. (*Expected Results: C= [[ 68][167]]*)\n",
    "\n",
    "#### _Reminder_: If $A$ is an $n × m$ matrix and $B$ is an $m × p$ matrix, the matrix product C = AxB is defined to be the n × p matrix C such that an element $c$ of $C$ is:\n",
    "$c_{ij} = a_{i1}b_{1j} + ... + a_{im}b{mj} = \\sum_{k=1}^m{a_{ik}{b_{kj}}}$"
   ]
  },
  {
   "cell_type": "code",
   "execution_count": 1,
   "metadata": {},
   "outputs": [
    {
     "name": "stdout",
     "output_type": "stream",
     "text": [
      "A (2, 3) x B (3, 1) = C (2, 1)\n",
      "Matrix Multiplication \n",
      " [[ 68.]\n",
      " [167.]]\n",
      "__Numpy__ Matrix Multiplication \n",
      " [[ 68]\n",
      " [167]]\n"
     ]
    }
   ],
   "source": [
    "### Write here your solution\n",
    "### Import libraries\n",
    "import numpy as np\n",
    "\n",
    "### Define here your functions\n",
    "def matmul(A,B):\n",
    "    C = np.zeros([A.shape[0],B.shape[1]])\n",
    "    for i in range(A.shape[0]):\n",
    "        for j in range(B.shape[1]):\n",
    "            for k in range(A.shape[1]):\n",
    "                C[i,j] += A[i,k]*B[k,j]\n",
    "    return C\n",
    "    \n",
    "###Initialize matrices A and B\n",
    "A= np.array([[1,2,3],[4,5,6]])\n",
    "B = np.array([[10],[11],[12]])\n",
    "\n",
    "### Call your functions to execute matrix multiplication AxB\n",
    "C = matmul(A,B)\n",
    "C_numpy = A.dot(B) # Same result of np.matmul(A,B)(or A@B). Slightly different function which lead to the same result in this case. See documentation to discover more.\n",
    "\n",
    "print(\"A\", A.shape , \"x\", \"B\", B.shape, \"= C\", C.shape)\n",
    "print(\"Matrix Multiplication \\n\", C)\n",
    "print(\"__Numpy__ Matrix Multiplication \\n\", C_numpy)"
   ]
  }
 ],
 "metadata": {
  "kernelspec": {
   "display_name": "Python 3 (ipykernel)",
   "language": "python",
   "name": "python3"
  },
  "language_info": {
   "codemirror_mode": {
    "name": "ipython",
    "version": 3
   },
   "file_extension": ".py",
   "mimetype": "text/x-python",
   "name": "python",
   "nbconvert_exporter": "python",
   "pygments_lexer": "ipython3",
   "version": "3.10.5"
  }
 },
 "nbformat": 4,
 "nbformat_minor": 2
}
