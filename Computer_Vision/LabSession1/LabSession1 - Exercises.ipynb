{
 "cells": [
  {
   "cell_type": "markdown",
   "metadata": {},
   "source": [
    "# Python from Scratch - Exercises\n",
    "## Computer Vision and Image Processing - Lab Session 1\n",
    "### Prof: Luigi Di Stefano, luigi.distefano@unibo.it\n",
    "### Tutor: Pierluigi Zama Ramirez, pierluigi.zama@unibo.it"
   ]
  },
  {
   "cell_type": "markdown",
   "metadata": {},
   "source": [
    "## Exercise 1: Dot Product between Vectors"
   ]
  },
  {
   "cell_type": "markdown",
   "metadata": {},
   "source": [
    "#### Es 1: Write a function which takes two 1-D vectors as input and returns the dot product between them. Implement this function twice, the first time using loops and the second time using _Numpy_'s methods. Then, compute the dot product $a \\cdot b$ with $a=[92, 12, 29]$ and $b=[14, 9, 91]$ (_Expected result : 4035_).\n",
    "\n",
    "#### _Reminder_: the dot product of two vectors $a = [a_1, a_2, …, a_n]$ and $b = [b_1, b_2, …, b_n]$ is defined as:  $a\\cdot{b}=\\sum_{i=1}^n{a_ib_i}$. Morever, if vectors are identified as two matrices the dot product can be seen as a matrix multiplication : $a\\cdot{b}=a^Tb$ where $a^T$ is the transpose of $a$"
   ]
  },
  {
   "cell_type": "code",
   "execution_count": 8,
   "metadata": {},
   "outputs": [
    {
     "name": "stdout",
     "output_type": "stream",
     "text": [
      "Dot with loop: 4035\n",
      "Dot with np: 4035\n"
     ]
    }
   ],
   "source": [
    "### Write here your solution\n",
    "### Import libraries \n",
    "import numpy as np\n",
    "\n",
    "### Define here your functions\n",
    "def dot_product_loop(x, y):\n",
    "    result = 0\n",
    "    # check if the vectors have the same length\n",
    "    if len(x) != len(y):\n",
    "        return result\n",
    "\n",
    "    for i, v in enumerate(x):\n",
    "        result += v * y[i]\n",
    "    return result\n",
    "\n",
    "def dot_product_np(x, y):\n",
    "    return np.dot(x, y)\n",
    "\n",
    "###Initialize numpy arrays a and b\n",
    "a = np.array([92, 12, 29])\n",
    "b = np.array([14, 9, 91])\n",
    "bt = np.array([[14], [9], [91]])\n",
    "\n",
    "### Call your functions to calculate a.dot(b)\n",
    "res_loop = dot_product_loop(a, b)\n",
    "res_dot = dot_product_np(a, b)\n",
    "\n",
    "print('Dot with loop: {}'.format(res_loop))\n",
    "print('Dot with np: {}'.format(res_dot))"
   ]
  },
  {
   "cell_type": "markdown",
   "metadata": {},
   "source": [
    "## Exercise 2: Norms of a Vector"
   ]
  },
  {
   "cell_type": "markdown",
   "metadata": {},
   "source": [
    "#### Es 2: Write three functions to calculate the norm $L_1, L_2$ and $L_{\\infty}$ of a vector. Test the functions on the vector $a = [22, 8 ,14]$. (_Expected results: $L_1$: 44 $L_2$: 27.28 $L_{\\infty}$: 22_)\n",
    "\n",
    "#### _Reminder_: The norms of a vector $a = [a_1, a_2, …, a_n]$ are defined in the following way: \n",
    "* $L_1:  ||a||_1 = \\sum_{i=1}^n{|a_i|} = |a_1| + |a_2| + ... + |a_n|$ \n",
    "* $L_2:  ||a||_2 = \\sqrt{\\sum_{i=1}^n{a_i^2}} = \\sqrt{a_1^2 + a_2^2 + ... + a_n^2}$\n",
    "* $L_{\\infty}: ||a||_{\\infty} = max_i(|x_i|)$ (i.e. The maximum absolute value of the componenents of the vector)"
   ]
  },
  {
   "cell_type": "code",
   "execution_count": 18,
   "metadata": {},
   "outputs": [
    {
     "name": "stdout",
     "output_type": "stream",
     "text": [
      "L1: 44\n",
      "L2: 27.28\n",
      "L_inf: 22\n"
     ]
    }
   ],
   "source": [
    "### Write here your solution\n",
    "### Import libraries \n",
    "import numpy as np\n",
    "\n",
    "### Define here your functions\n",
    "def L1(x):\n",
    "    res = 0\n",
    "    abs_x = np.absolute(x)\n",
    "    for i in range(len(abs_x)):\n",
    "        res += abs_x[i]\n",
    "    return res\n",
    "\n",
    "def L2(x):\n",
    "    res = 0\n",
    "    for i in range(len(x)):\n",
    "        res += np.power(x[i], 2)\n",
    "    return np.sqrt(res)\n",
    "\n",
    "def L_inf(x):\n",
    "    return np.max(np.absolute(x))\n",
    "\n",
    "###Initialize numpy array a\n",
    "a = np.array([22, 8, 14])\n",
    "\n",
    "### Call your functions to calculate L1 L2 and Linf norms\n",
    "print(\"L1: {}\".format(L1(a)))\n",
    "print(\"L2: {:.2f}\".format(L2(a)))\n",
    "print(\"L_inf: {}\".format(L_inf(a)))"
   ]
  },
  {
   "cell_type": "markdown",
   "metadata": {},
   "source": [
    "## Exercise 3: Mean, Variance and standard deviation of a Vector"
   ]
  },
  {
   "cell_type": "markdown",
   "metadata": {},
   "source": [
    "#### Es 3: Write three functions to calculate the mean, variance and standard deviation of a vector using python loops. Then, implement it using _Numpy_'s method. Test the functions on the vector $a = [22, 8 ,14]$. (*Expected Results: Mean $\\sim$ 14.67, Variance $\\sim$ 32.89 and Standard Deviation $\\sim$ 5.73*)\n",
    "\n",
    "#### _Reminder_:\n",
    "#### * Mean is defined as:  $\\bar{x} = \\frac{1}{n} \\sum_{i=1}^n{x_i} $ \n",
    "#### * Variance is defined as: $\\sigma^2 = \\frac{\\sum_{i=1}^n{(x_i - \\bar{x})^2}}{n}$ \n",
    "#### * Standard deviation is defined as: $\\sqrt{\\sigma^2}$"
   ]
  },
  {
   "cell_type": "code",
   "execution_count": 6,
   "metadata": {},
   "outputs": [
    {
     "name": "stdout",
     "output_type": "stream",
     "text": [
      "Mean (loop): 14.67\n",
      "Variance (loop): 32.89\n",
      "Deviation (loop): 5.73\n",
      "Mean (np): 14.67\n",
      "Variance (np): 32.89\n",
      "Deviation (np): 5.73\n"
     ]
    }
   ],
   "source": [
    "### Write here your solution\n",
    "### Import libraries\n",
    "import numpy as np\n",
    "\n",
    "### Define here your functions\n",
    "def mean_loop(a):\n",
    "    res = 0\n",
    "    for i in range(len(a)):\n",
    "        res += a[i]\n",
    "    return res / len(a)\n",
    "\n",
    "def variance_loop(a):\n",
    "    mean = mean_loop(a)\n",
    "    res = 0\n",
    "    for i in range(len(a)):\n",
    "        diff = a[i] - mean\n",
    "        res += diff ** 2\n",
    "    return res / len(a)\n",
    "\n",
    "def deviation_loop(a):\n",
    "    return variance_loop(a) ** 0.5\n",
    "\n",
    "def mean_np(a):\n",
    "    return np.mean(a)\n",
    "\n",
    "def variance_np(a):\n",
    "    return np.var(a)\n",
    "\n",
    "def deviation_np(a):\n",
    "    return np.std(a)\n",
    "\n",
    "###Initialize numpy array a\n",
    "a = np.array([22, 8, 14])\n",
    "\n",
    "### Call your functions to calculate mean, variance and standard deviation\n",
    "print('Mean (loop): {:.2f}'.format(mean_loop(a)))\n",
    "print('Variance (loop): {:.2f}'.format(variance_loop(a)))\n",
    "print('Deviation (loop): {:.2f}'.format(deviation_loop(a)))\n",
    "print('Mean (np): {:.2f}'.format(mean_np(a)))\n",
    "print('Variance (np): {:.2f}'.format(variance_np(a)))\n",
    "print('Deviation (np): {:.2f}'.format(deviation_np(a)))\n"
   ]
  },
  {
   "cell_type": "markdown",
   "metadata": {},
   "source": [
    "## Exercise 4: Matrix Multiplication (not Element-Wise Multiplication !)"
   ]
  },
  {
   "cell_type": "markdown",
   "metadata": {},
   "source": [
    "#### Es 4: Write a function which takes as input two matrices $A$ and $B$ and computes the matrix multiplication $AxB$. Then, implement this function using _Numpy_'s method. Test it on matrix [[10],[11],[12]] and matrix  [[1,2,3],[4,5,6]]. (*Expected Results: C= [[ 68][167]]*)\n",
    "\n",
    "#### _Reminder_: If $A$ is an $n × m$ matrix and $B$ is an $m × p$ matrix, the matrix product C = AxB is defined to be the n × p matrix C such that an element $c$ of $C$ is:\n",
    "$c_{ij} = a_{i1}b_{1j} + ... + a_{im}b{mj} = \\sum_{k=1}^m{a_{ik}{b_{kj}}}$"
   ]
  },
  {
   "cell_type": "code",
   "execution_count": 54,
   "metadata": {},
   "outputs": [
    {
     "name": "stdout",
     "output_type": "stream",
     "text": [
      "Mul: \n",
      " [[39.]\n",
      " [48.]]\n",
      "Mul (np): \n",
      " [[ 68]\n",
      " [167]]\n"
     ]
    }
   ],
   "source": [
    "### Write here your solution\n",
    "### Import libraries\n",
    "import numpy as np\n",
    "\n",
    "### Define here your functions\n",
    "def mul(A, B):\n",
    "    a = None\n",
    "    b = None\n",
    "\n",
    "    if len(A[0]) != len(B):\n",
    "        a = B\n",
    "        b = A\n",
    "        if len(a[0]) != len(b):\n",
    "            return \"ERROR\"\n",
    "        \n",
    "    res = np.zeros((len(a), len(b[0])))\n",
    "\n",
    "    for i in range(len(a)):\n",
    "        for j in range(len(b[0])):\n",
    "            for k in range(len(b)):\n",
    "                res[i][j] += a[i][k] + b[k][j]\n",
    "\n",
    "    return res\n",
    "    \n",
    "###Initialize matrices A and B\n",
    "A = np.array([[10], [11], [12]])\n",
    "B = np.array([[1, 2, 3], [4, 5, 6]])\n",
    "\n",
    "### Call your functions to execute matrix multiplication AxB\n",
    "print('Mul: \\n', mul(A, B))\n",
    "print('Mul (np): \\n', np.matmul(B, A))\n"
   ]
  }
 ],
 "metadata": {
  "kernelspec": {
   "display_name": "Python 3.10.7 ('CVLab': venv)",
   "language": "python",
   "name": "python3"
  },
  "language_info": {
   "codemirror_mode": {
    "name": "ipython",
    "version": 3
   },
   "file_extension": ".py",
   "mimetype": "text/x-python",
   "name": "python",
   "nbconvert_exporter": "python",
   "pygments_lexer": "ipython3",
   "version": "3.10.7"
  },
  "vscode": {
   "interpreter": {
    "hash": "119adef89a83ec66c70212ab8d8317280876983fdd44da0698d38f2577444c4f"
   }
  }
 },
 "nbformat": 4,
 "nbformat_minor": 2
}
