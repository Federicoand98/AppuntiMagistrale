{
 "cells": [
  {
   "cell_type": "markdown",
   "metadata": {},
   "source": [
    "# Python from Scratch\n",
    "## Computer Vision and Image Processing - Lab Session 1\n",
    "### Prof: Luigi Di Stefano, luigi.distefano@unibo.it\n",
    "### Tutors: Pierluigi Zama Ramirez, pierluigi.zama@unibo.it"
   ]
  },
  {
   "cell_type": "markdown",
   "metadata": {},
   "source": [
    "##  1. Introduction"
   ]
  },
  {
   "cell_type": "markdown",
   "metadata": {},
   "source": [
    "Python is a programming language very widespread in the scientific community and one of the most required if you want to apply for a Computer Science position. Python is an **interpreted**, high level, object based language. \n",
    "\n",
    "Python uses **whitespace indentation**, rather than curly brackets or keywords, to delimit blocks. An increase in indentation comes after certain statements; a decrease in indentation signifies the end of the current block (Example below)."
   ]
  },
  {
   "cell_type": "code",
   "execution_count": 1,
   "metadata": {},
   "outputs": [
    {
     "name": "stdout",
     "output_type": "stream",
     "text": [
      "a equals to 2\n"
     ]
    }
   ],
   "source": [
    "a=2\n",
    "if a>=2:\n",
    "    if a == 2:\n",
    "         print(\"a equals to 2\")\n",
    "    else:\n",
    "         print(\"a greater than 2\")\n",
    "else:\n",
    "    print(\"a lower than 2\")"
   ]
  },
  {
   "cell_type": "markdown",
   "metadata": {},
   "source": [
    "Two main versions of Python: Python 2.x and Python 3.x are available. \n",
    "The two versions have several features in common, the two versions are not fully compatible between each other and a Python 2.x program may not work for Python 3.x and vice versa.\n",
    "\n",
    "In this course we will use Python 3.x since Python 2.x is not supported anymore starting from 2020, but many programmers are still using it.\n",
    "\n",
    "You can check your Python version at the command line by running `python --version`."
   ]
  },
  {
   "cell_type": "markdown",
   "metadata": {},
   "source": [
    "In this lab session, we will cover:\n",
    "\n",
    "* Basic Python: Basic data types (Containers, Lists, Dictionaries, Sets, Tuples), Functions, Classes\n",
    "* Numpy: Arrays, Array indexing, Datatypes, Array math, Broadcasting\n",
    "* Matplotlib: basic plotting functions"
   ]
  },
  {
   "cell_type": "markdown",
   "metadata": {},
   "source": [
    "## 2. Basic Data types"
   ]
  },
  {
   "cell_type": "markdown",
   "metadata": {},
   "source": [
    "As we said before, Python is a **dynamically typed language**. This means that we are not forced to explicit the type of each variable, since the compiler is smart enough to understand the type by itself."
   ]
  },
  {
   "cell_type": "markdown",
   "metadata": {},
   "source": [
    "### Numbers and Mathematical operation"
   ]
  },
  {
   "cell_type": "markdown",
   "metadata": {},
   "source": [
    "Below we show how to perform basic mathematical operations with Python3."
   ]
  },
  {
   "cell_type": "code",
   "execution_count": 2,
   "metadata": {},
   "outputs": [
    {
     "name": "stdout",
     "output_type": "stream",
     "text": [
      "x= 3 <class 'int'>\n"
     ]
    }
   ],
   "source": [
    "# Assigning a variable, Python3 will determine the type of it automatically.\n",
    "x = 3\n",
    "print(\"x=\", x, type(x))"
   ]
  },
  {
   "cell_type": "code",
   "execution_count": 3,
   "metadata": {
    "scrolled": true
   },
   "outputs": [
    {
     "name": "stdout",
     "output_type": "stream",
     "text": [
      "Addition: x+1= 4\n"
     ]
    }
   ],
   "source": [
    "# Basic mathematical operation\n",
    "# Sum\n",
    "sum = x + 1\n",
    "print(\"Addition: x+1=\", sum)"
   ]
  },
  {
   "cell_type": "code",
   "execution_count": 4,
   "metadata": {},
   "outputs": [
    {
     "name": "stdout",
     "output_type": "stream",
     "text": [
      "Subtraction: x-1= 2\n"
     ]
    }
   ],
   "source": [
    "# Difference\n",
    "diff = x - 1\n",
    "print(\"Subtraction: x-1=\", diff)"
   ]
  },
  {
   "cell_type": "code",
   "execution_count": 5,
   "metadata": {},
   "outputs": [
    {
     "name": "stdout",
     "output_type": "stream",
     "text": [
      "Multiplication: x*2= 6\n"
     ]
    }
   ],
   "source": [
    "# Multiplication\n",
    "mul = x * 2\n",
    "print(\"Multiplication: x*2=\", mul)"
   ]
  },
  {
   "cell_type": "code",
   "execution_count": 24,
   "metadata": {},
   "outputs": [
    {
     "name": "stdout",
     "output_type": "stream",
     "text": [
      "Exponentiation: x**2= 6543364\n"
     ]
    }
   ],
   "source": [
    "# Exponential\n",
    "exp = x**2\n",
    "print(\"Exponentiation: x**2=\", exp)"
   ]
  },
  {
   "cell_type": "code",
   "execution_count": 23,
   "metadata": {},
   "outputs": [
    {
     "name": "stdout",
     "output_type": "stream",
     "text": [
      "x+=1 -> x = 1279\n",
      "x*=2 -> x = 2558\n"
     ]
    }
   ],
   "source": [
    "# Support += and *= syntax\n",
    "x += 1\n",
    "print(\"x+=1 -> x =\", x)\n",
    "x *= 2\n",
    "print(\"x*=2 -> x =\", x)"
   ]
  },
  {
   "cell_type": "code",
   "execution_count": 25,
   "metadata": {},
   "outputs": [
    {
     "name": "stdout",
     "output_type": "stream",
     "text": [
      "x= 3 <class 'int'>\n",
      "y= 2.0 <class 'float'>\n"
     ]
    }
   ],
   "source": [
    "# Python3 automatically cast to float during an operation between int and float variables \n",
    "# !N.B. Different behaviour than Python2!\n",
    "x = 3  # int\n",
    "y = 2. # float\n",
    "print(\"x=\",x, type(x)) \n",
    "print(\"y=\",y, type(y)) "
   ]
  },
  {
   "cell_type": "code",
   "execution_count": 26,
   "metadata": {},
   "outputs": [
    {
     "name": "stdout",
     "output_type": "stream",
     "text": [
      "Multiplication: x*y= 6 <class 'float'>\n",
      "Division x/y= 1.5 <class 'float'>\n"
     ]
    }
   ],
   "source": [
    "# Multiplication int float\n",
    "mul_2 = x*y\n",
    "print(\"Multiplication: x*y=\", mul, type(mul_2))\n",
    "\n",
    "# Division int float\n",
    "div = x / y\n",
    "print(\"Division x/y=\", div, type(div))"
   ]
  },
  {
   "cell_type": "code",
   "execution_count": 27,
   "metadata": {},
   "outputs": [
    {
     "name": "stdout",
     "output_type": "stream",
     "text": [
      "Module x%y= 1.0 <class 'float'>\n"
     ]
    }
   ],
   "source": [
    "# Module\n",
    "mod = x % y\n",
    "print(\"Module x%y=\", mod, type(mod))"
   ]
  },
  {
   "cell_type": "code",
   "execution_count": 28,
   "metadata": {},
   "outputs": [
    {
     "name": "stdout",
     "output_type": "stream",
     "text": [
      "Floored division x//y= 1.0 <class 'float'>\n"
     ]
    }
   ],
   "source": [
    "# Floored division\n",
    "floor_div = x // y\n",
    "print(\"Floored division x//y=\", floor_div, type(floor_div))"
   ]
  },
  {
   "cell_type": "code",
   "execution_count": 29,
   "metadata": {},
   "outputs": [
    {
     "name": "stdout",
     "output_type": "stream",
     "text": [
      "Square root of  3 :  1.7320508075688772\n"
     ]
    }
   ],
   "source": [
    "# Advanced mathematical operation in library math\n",
    "import math # import this package for square root or other mathematical operations\n",
    "# Square root\n",
    "root = math.sqrt(x)\n",
    "print(\"Square root of \" ,x , \": \", root)"
   ]
  },
  {
   "cell_type": "markdown",
   "metadata": {},
   "source": [
    "### Casting types\n",
    "Sometimes we need to change from a type to another. To do so, we can cast the type."
   ]
  },
  {
   "cell_type": "code",
   "execution_count": 30,
   "metadata": {},
   "outputs": [
    {
     "name": "stdout",
     "output_type": "stream",
     "text": [
      "Division:  1.5 <class 'float'>\n",
      "1 <class 'int'>\n",
      "1.0 <class 'float'>\n"
     ]
    }
   ],
   "source": [
    "x = 3  # int\n",
    "y = 2. # float\n",
    "\n",
    "div = x / y\n",
    "print(\"Division: \", div, type(div))\n",
    "\n",
    "# Casting division from float to int -> losing precision\n",
    "d = int(x / y)\n",
    "print(d, type(d))\n",
    "\n",
    "# Casting division from float to int and to float again -> losing precision\n",
    "d = float(int(x / y))\n",
    "print(d, type(d))"
   ]
  },
  {
   "cell_type": "markdown",
   "metadata": {},
   "source": [
    "### Booleans"
   ]
  },
  {
   "cell_type": "markdown",
   "metadata": {},
   "source": [
    "Python boolean operations are the following:"
   ]
  },
  {
   "cell_type": "code",
   "execution_count": 31,
   "metadata": {},
   "outputs": [
    {
     "name": "stdout",
     "output_type": "stream",
     "text": [
      "T, F:  True False <class 'bool'>\n"
     ]
    }
   ],
   "source": [
    "t, f = True, False\n",
    "print(\"T, F: \", t, f, type(t))"
   ]
  },
  {
   "cell_type": "code",
   "execution_count": null,
   "metadata": {},
   "outputs": [],
   "source": [
    "# and\n",
    "print(\"Logical T AND F: \", t and f)"
   ]
  },
  {
   "cell_type": "code",
   "execution_count": null,
   "metadata": {},
   "outputs": [],
   "source": [
    "# or\n",
    "print(\"Logical T OR F: \", t or f)"
   ]
  },
  {
   "cell_type": "code",
   "execution_count": null,
   "metadata": {},
   "outputs": [],
   "source": [
    "# not\n",
    "print(\"Logical NOT T: \", not t)"
   ]
  },
  {
   "cell_type": "code",
   "execution_count": null,
   "metadata": {},
   "outputs": [],
   "source": [
    "# xor or different\n",
    "print(\"Logical T XOR F: \", t != f)"
   ]
  },
  {
   "cell_type": "markdown",
   "metadata": {},
   "source": [
    "### Strings"
   ]
  },
  {
   "cell_type": "markdown",
   "metadata": {},
   "source": [
    "We will introduce some basic knowledge about Strings and print() function in Python3."
   ]
  },
  {
   "cell_type": "code",
   "execution_count": 32,
   "metadata": {},
   "outputs": [
    {
     "name": "stdout",
     "output_type": "stream",
     "text": [
      "hello 5\n"
     ]
    }
   ],
   "source": [
    "hello = 'hello'   # String literals can use single quotes\n",
    "world = \"world\"   # or double quotes; it does not matter\n",
    "\n",
    "# print string and lenght of string\n",
    "print(hello, len(hello)) "
   ]
  },
  {
   "cell_type": "code",
   "execution_count": 33,
   "metadata": {},
   "outputs": [
    {
     "name": "stdout",
     "output_type": "stream",
     "text": [
      "hello world 2019\n",
      "hello world 2019\n"
     ]
    }
   ],
   "source": [
    "# String concatenation\n",
    "x = 2019\n",
    "hw = hello + ' ' + world + ' ' + str(x)\n",
    "print(hw)\n",
    "print(hello,\"world\",x)"
   ]
  },
  {
   "cell_type": "markdown",
   "metadata": {},
   "source": [
    "Several useful methods for handling strings are implemented:"
   ]
  },
  {
   "cell_type": "code",
   "execution_count": 34,
   "metadata": {},
   "outputs": [
    {
     "name": "stdout",
     "output_type": "stream",
     "text": [
      "  HELLO WORLD\n"
     ]
    }
   ],
   "source": [
    "s = \"  hello world\"\n",
    "print(s.upper())"
   ]
  },
  {
   "cell_type": "code",
   "execution_count": 35,
   "metadata": {},
   "outputs": [
    {
     "name": "stdout",
     "output_type": "stream",
     "text": [
      "  hellllllllo worlllld\n"
     ]
    }
   ],
   "source": [
    "print(s.replace('l','llll'))"
   ]
  },
  {
   "cell_type": "code",
   "execution_count": 36,
   "metadata": {},
   "outputs": [
    {
     "name": "stdout",
     "output_type": "stream",
     "text": [
      "hello world\n"
     ]
    }
   ],
   "source": [
    "print(s.strip())"
   ]
  },
  {
   "cell_type": "code",
   "execution_count": 37,
   "metadata": {},
   "outputs": [
    {
     "name": "stdout",
     "output_type": "stream",
     "text": [
      "Hello world\n"
     ]
    }
   ],
   "source": [
    "print(s.strip().capitalize())"
   ]
  },
  {
   "cell_type": "markdown",
   "metadata": {},
   "source": [
    "Lot of times we need to format a string to improve the readability.\n",
    "\n",
    "We can format our string using the _format_ method of strings."
   ]
  },
  {
   "cell_type": "code",
   "execution_count": 38,
   "metadata": {},
   "outputs": [
    {
     "name": "stdout",
     "output_type": "stream",
     "text": [
      "Hello World\n"
     ]
    }
   ],
   "source": [
    "s = \"World\"\n",
    "print(\"Hello {}\".format(s)) # Insert string variable"
   ]
  },
  {
   "cell_type": "code",
   "execution_count": 39,
   "metadata": {},
   "outputs": [
    {
     "name": "stdout",
     "output_type": "stream",
     "text": [
      "1.2345678\n",
      "4 decimal digits 1.2346\n"
     ]
    }
   ],
   "source": [
    "n = 1.2345678\n",
    "print(n)\n",
    "print(\"4 decimal digits {:.4f}\".format(n)) # Adjusting the number of digits to show"
   ]
  },
  {
   "cell_type": "markdown",
   "metadata": {},
   "source": [
    "You can find a list of all string methods in the [documentation](https://docs.python.org/3.5/library/stdtypes.html#string-methods)."
   ]
  },
  {
   "cell_type": "markdown",
   "metadata": {},
   "source": [
    "## 3. Containers"
   ]
  },
  {
   "cell_type": "markdown",
   "metadata": {},
   "source": [
    "### Lists"
   ]
  },
  {
   "cell_type": "markdown",
   "metadata": {},
   "source": [
    "Lists in python can contain elements of different types.\n",
    "\n",
    "Several built-in methods are provided by python to manage lists. Below we will show some of them."
   ]
  },
  {
   "cell_type": "code",
   "execution_count": 40,
   "metadata": {},
   "outputs": [
    {
     "name": "stdout",
     "output_type": "stream",
     "text": [
      "[0, 1, 2, 'hi'] 2 hi\n"
     ]
    }
   ],
   "source": [
    "# Creating a list, python lists can contain elements of different types.\n",
    "lst = [0, 1, 2, \"hi\"]  \n",
    "# Negative indices count from the end of the list, example: lst[-1]\n",
    "print(lst, lst[2], lst[-1])"
   ]
  },
  {
   "cell_type": "code",
   "execution_count": 41,
   "metadata": {},
   "outputs": [
    {
     "name": "stdout",
     "output_type": "stream",
     "text": [
      "[2, 'hi']\n"
     ]
    }
   ],
   "source": [
    "# Slicing\n",
    "list_slice = lst[2:4] # Access a slice from the list. First index included, last index excluded.\n",
    "print(list_slice)"
   ]
  },
  {
   "cell_type": "code",
   "execution_count": 42,
   "metadata": {},
   "outputs": [
    {
     "name": "stdout",
     "output_type": "stream",
     "text": [
      "[0, 1, 2, 'hi', 'bar']\n"
     ]
    }
   ],
   "source": [
    "# Appending a new element to the list\n",
    "lst.append('bar')\n",
    "print(lst)"
   ]
  },
  {
   "cell_type": "code",
   "execution_count": 43,
   "metadata": {},
   "outputs": [
    {
     "name": "stdout",
     "output_type": "stream",
     "text": [
      "bar [0, 1, 2, 'hi']\n"
     ]
    }
   ],
   "source": [
    "# Removing and returning the last element of the list\n",
    "l = lst.pop() \n",
    "print(l, lst)"
   ]
  },
  {
   "cell_type": "markdown",
   "metadata": {},
   "source": [
    "### Dictionaries"
   ]
  },
  {
   "cell_type": "markdown",
   "metadata": {},
   "source": [
    "Dictionaries contain couples of (key,value). The key-set contains unique objects.\n",
    "\n",
    "Below some basic function of dictionaries in Python."
   ]
  },
  {
   "cell_type": "code",
   "execution_count": 44,
   "metadata": {},
   "outputs": [
    {
     "name": "stdout",
     "output_type": "stream",
     "text": [
      "Hello\n",
      "Minnie\n"
     ]
    }
   ],
   "source": [
    "# Creating a dictionary, python dictionary can contain element of different types.\n",
    "d = {1 : \"Hello\", \"Mickey Mouse\" : \"Minnie\", \"Donald Duck\": \"Daisy\"}\n",
    "\n",
    "# Accessing dictionary by key\n",
    "print(d[1])\n",
    "print(d[\"Mickey Mouse\"])"
   ]
  },
  {
   "cell_type": "code",
   "execution_count": 45,
   "metadata": {},
   "outputs": [
    {
     "name": "stdout",
     "output_type": "stream",
     "text": [
      "True\n"
     ]
    }
   ],
   "source": [
    "# Checking the existence of a key\n",
    "print(\"Mickey Mouse\" in d)"
   ]
  },
  {
   "cell_type": "code",
   "execution_count": 46,
   "metadata": {},
   "outputs": [
    {
     "name": "stdout",
     "output_type": "stream",
     "text": [
      "{1: 'Hello', 'Mickey Mouse': 'Minnie', 'Donald Duck': 'Daisy', 'Goofy': 'Pluto'}\n"
     ]
    }
   ],
   "source": [
    "# Adding an element to a dictionary\n",
    "d[\"Goofy\"]= \"Pluto\"\n",
    "print(d)"
   ]
  },
  {
   "cell_type": "markdown",
   "metadata": {},
   "source": [
    "### Set\n",
    "A set is a list of unique objects. Python will ignore duplicate items.\n",
    "\n",
    "Below some basic function of set in Python."
   ]
  },
  {
   "cell_type": "code",
   "execution_count": 47,
   "metadata": {},
   "outputs": [
    {
     "name": "stdout",
     "output_type": "stream",
     "text": [
      "{'dog', 'bird', 'cat'}\n"
     ]
    }
   ],
   "source": [
    "# Creating a set\n",
    "st = {'cat', 'dog'}\n",
    "\n",
    "# Adding a element to a set\n",
    "st.add('bird')\n",
    "print(st)"
   ]
  },
  {
   "cell_type": "code",
   "execution_count": 48,
   "metadata": {},
   "outputs": [
    {
     "name": "stdout",
     "output_type": "stream",
     "text": [
      "{'dog', 'bird', 'cat'}\n"
     ]
    }
   ],
   "source": [
    "# Ignore adding duplicate items\n",
    "st.add('bird') \n",
    "print(st)"
   ]
  },
  {
   "cell_type": "code",
   "execution_count": 49,
   "metadata": {},
   "outputs": [
    {
     "name": "stdout",
     "output_type": "stream",
     "text": [
      "{'dog', 'fish'}\n"
     ]
    }
   ],
   "source": [
    "# Converting a list to a set\n",
    "lst = ['dog', 'dog', 'dog', 'fish']\n",
    "\n",
    "# Casting list to set will delete duplicate items\n",
    "st = set(lst) \n",
    "print(st)"
   ]
  },
  {
   "cell_type": "markdown",
   "metadata": {},
   "source": [
    "### Tuples\n",
    "A tuple is an (immutable) ordered list of values."
   ]
  },
  {
   "cell_type": "code",
   "execution_count": 50,
   "metadata": {},
   "outputs": [
    {
     "name": "stdout",
     "output_type": "stream",
     "text": [
      "(5, 4)\n"
     ]
    }
   ],
   "source": [
    "# Creating a tuple\n",
    "t = (5, 4)\n",
    "print(t)"
   ]
  },
  {
   "cell_type": "code",
   "execution_count": 51,
   "metadata": {},
   "outputs": [
    {
     "ename": "TypeError",
     "evalue": "'tuple' object does not support item assignment",
     "output_type": "error",
     "traceback": [
      "\u001b[0;31m---------------------------------------------------------------------------\u001b[0m",
      "\u001b[0;31mTypeError\u001b[0m                                 Traceback (most recent call last)",
      "Cell \u001b[0;32mIn [51], line 2\u001b[0m\n\u001b[1;32m      1\u001b[0m \u001b[39m# Cannot change the value, exception arises\u001b[39;00m\n\u001b[0;32m----> 2\u001b[0m t[\u001b[39m1\u001b[39m]\u001b[39m=\u001b[39m\u001b[39m2\u001b[39m\n",
      "\u001b[0;31mTypeError\u001b[0m: 'tuple' object does not support item assignment"
     ]
    }
   ],
   "source": [
    "# Cannot change the value, exception arises\n",
    "t[1]=2 "
   ]
  },
  {
   "cell_type": "markdown",
   "metadata": {},
   "source": [
    "## 4. Statements"
   ]
  },
  {
   "cell_type": "markdown",
   "metadata": {},
   "source": [
    "### _If_ Statement\n",
    "\n",
    "```python\n",
    "if condition:\n",
    "    _some_commands _\n",
    "elif condition:\n",
    "    _some_commands_\n",
    "else:\n",
    "    _some_commands_\n",
    "```"
   ]
  },
  {
   "cell_type": "code",
   "execution_count": 52,
   "metadata": {},
   "outputs": [
    {
     "name": "stdout",
     "output_type": "stream",
     "text": [
      "The two strings are equal!\n"
     ]
    }
   ],
   "source": [
    "a = \"ciao\"\n",
    "b = \"ciao\"\n",
    "\n",
    "if a == b:\n",
    "    print(\"The two strings are equal!\")\n",
    "else: \n",
    "    print(\"The two strings are different!\")"
   ]
  },
  {
   "cell_type": "code",
   "execution_count": 53,
   "metadata": {},
   "outputs": [
    {
     "name": "stdout",
     "output_type": "stream",
     "text": [
      "x smaller than y\n"
     ]
    }
   ],
   "source": [
    "x = 1\n",
    "y = 2\n",
    "\n",
    "if x > y:\n",
    "    print(\"x greater than y\")\n",
    "elif x == y:\n",
    "    print(\"x equal to y\")\n",
    "else:\n",
    "    print(\"x smaller than y\")"
   ]
  },
  {
   "cell_type": "markdown",
   "metadata": {},
   "source": [
    "### _For_ statement\n",
    "\n",
    "A for loop is used for iterating over a sequence (that is either a list, a tuple, a dictionary, a set, or a string).\n",
    "\n",
    "```python\n",
    "for el in sequence:\n",
    "    _some_commands_\n",
    "```  "
   ]
  },
  {
   "cell_type": "code",
   "execution_count": 54,
   "metadata": {},
   "outputs": [
    {
     "name": "stdout",
     "output_type": "stream",
     "text": [
      "history\n",
      "physics\n"
     ]
    }
   ],
   "source": [
    "subjects = ['math', 'history', 'physics']\n",
    "\n",
    "# Iterate among the elemets of a list\n",
    "for sub in subjects:\n",
    "    if sub != 'math':\n",
    "        print(sub)"
   ]
  },
  {
   "cell_type": "code",
   "execution_count": 55,
   "metadata": {},
   "outputs": [
    {
     "name": "stdout",
     "output_type": "stream",
     "text": [
      "Key:  Mickey Mouse , Value:  Minnie\n",
      "Key:  Donald Duck , Value:  Daisy\n"
     ]
    }
   ],
   "source": [
    "d = {\"Mickey Mouse\" : \"Minnie\", \"Donald Duck\": \"Daisy\"}\n",
    "# Iterate among the elemets of a dictionary\n",
    "for ch in d: \n",
    "    print(\"Key: \", ch, \", Value: \", d[ch])"
   ]
  },
  {
   "cell_type": "code",
   "execution_count": 56,
   "metadata": {},
   "outputs": [
    {
     "name": "stdout",
     "output_type": "stream",
     "text": [
      "0\n",
      "1\n",
      "2\n",
      "3\n",
      "4\n",
      "[0, 1, 2, 3, 4]\n"
     ]
    }
   ],
   "source": [
    "lst = []\n",
    "# Iterate from 0 to 4\n",
    "for i in range(0,5): \n",
    "    print(i)\n",
    "    lst.append(i)\n",
    "\n",
    "print(lst)"
   ]
  },
  {
   "cell_type": "code",
   "execution_count": 57,
   "metadata": {},
   "outputs": [
    {
     "name": "stdout",
     "output_type": "stream",
     "text": [
      "index:  0  element:  1\n",
      "index:  1  element:  4\n",
      "index:  2  element:  6\n"
     ]
    }
   ],
   "source": [
    "lst = [1,4,6]\n",
    "for idx, l in enumerate(lst):\n",
    "    print(\"index: \", idx, \" element: \", l )"
   ]
  },
  {
   "cell_type": "code",
   "execution_count": 58,
   "metadata": {},
   "outputs": [
    {
     "name": "stdout",
     "output_type": "stream",
     "text": [
      "Squares [1, 16, 36]\n",
      "Square of even elements  [16, 36]\n"
     ]
    }
   ],
   "source": [
    "# List Comprehension, simpler way to compute lists\n",
    "squares = [x ** 2 for x in lst]\n",
    "squares_even = [x ** 2 for x in lst if x % 2 == 0]\n",
    "\n",
    "print(\"Squares\", squares)\n",
    "print(\"Square of even elements \", squares_even)"
   ]
  },
  {
   "cell_type": "markdown",
   "metadata": {},
   "source": [
    "### _While_ statement\n",
    "\n",
    "With the while loop we can execute a set of statements as long as a condition is true.\n",
    "\n",
    "```python\n",
    "while condition:\n",
    "    _some_commands_\n",
    "```"
   ]
  },
  {
   "cell_type": "code",
   "execution_count": 59,
   "metadata": {},
   "outputs": [
    {
     "name": "stdout",
     "output_type": "stream",
     "text": [
      "1\n",
      "2\n",
      "3\n",
      "4\n",
      "5\n",
      "6\n"
     ]
    }
   ],
   "source": [
    "vec = [1,2,3,4,5,6]\n",
    "cnt = 0\n",
    "while cnt < len(vec):\n",
    "    print(vec[cnt])\n",
    "    cnt += 1"
   ]
  },
  {
   "cell_type": "markdown",
   "metadata": {},
   "source": [
    "## 5. Functions"
   ]
  },
  {
   "cell_type": "markdown",
   "metadata": {},
   "source": [
    "Python functions are defined using the `def` keyword.\n",
    "\n",
    "Information can be passed to functions as parameter.\n",
    "\n",
    "Parameters are specified after the function name, inside the parentheses. You can add as many parameters as you want, just separate them with a comma. We can also define default values for parameters.\n",
    "\n",
    "For example:"
   ]
  },
  {
   "cell_type": "code",
   "execution_count": null,
   "metadata": {},
   "outputs": [],
   "source": [
    "# Defining a function with two parameters (x,y) and a default parameter (absolute_value)\n",
    "def diff(x, y, absolute_value=False): #absolute_value is an optional argument with default=False\n",
    "    if absolute_value:\n",
    "        return abs(x - y)\n",
    "    else:\n",
    "        return x - y\n",
    "\n",
    "# Calling the defined function\n",
    "d = diff(1,2)\n",
    "print(d)\n",
    "\n",
    "abs_d = diff(1,2,absolute_value=True)\n",
    "print(abs_d)"
   ]
  },
  {
   "cell_type": "markdown",
   "metadata": {},
   "source": [
    "### [EXTRA-OPTIONAL] Call by Assignment\n",
    "\n",
    "Parameters in python are called neither by reference or by value. Python does a **_call by assignment_**. It allocates a copy of the reference to the object. Immutable objects cannot be modified, therefore when updating them it creates a entire new object with the new value.\n",
    "\n",
    "For example, doing this in Python:"
   ]
  },
  {
   "cell_type": "code",
   "execution_count": 60,
   "metadata": {},
   "outputs": [
    {
     "name": "stdout",
     "output_type": "stream",
     "text": [
      "35 25\n"
     ]
    }
   ],
   "source": [
    "my_var = 25\n",
    "def my_method(v):\n",
    "    v += 10\n",
    "    return v\n",
    "\n",
    "print(my_method(my_var), my_var)"
   ]
  },
  {
   "cell_type": "markdown",
   "metadata": {},
   "source": [
    "Is equivalent of doing:"
   ]
  },
  {
   "cell_type": "code",
   "execution_count": 61,
   "metadata": {},
   "outputs": [
    {
     "name": "stdout",
     "output_type": "stream",
     "text": [
      "35 25\n"
     ]
    }
   ],
   "source": [
    "my_var = 25\n",
    "v = my_var\n",
    "v += 10  # This is identical to v = v + 10\n",
    "\n",
    "print(v, my_var)"
   ]
  },
  {
   "cell_type": "markdown",
   "metadata": {},
   "source": [
    "In Python, pretty much everything is an object. \n",
    "\n",
    "25 is an object. \n",
    "\n",
    "In Python both variables *my_var* and *v* points to the same object 25.\n",
    "\n",
    "However, you cannot change 25. The **int** object is immutable. \n",
    "\n",
    "When we do *v* += 10, what we are really doing is assigning to *v* a completely **different object** 35. We are not changing the original 25. This is why *my_var* stays as 25, because the object itself has not changed.\n",
    "\n",
    "In Python, some built-in types are immutable:\n",
    "- numbers (int, float, etc…)\n",
    "- booleans\n",
    "- strings\n",
    "- tuples\n",
    "\n",
    "On the other hand, mutable objects (lists, dictionaries, sets) can be directly modified. "
   ]
  },
  {
   "cell_type": "code",
   "execution_count": null,
   "metadata": {
    "scrolled": true
   },
   "outputs": [],
   "source": [
    "my_list = [12, 34, 55]\n",
    "x = my_list\n",
    "x.append(65)\n",
    "print(my_list)\n",
    "print(x)"
   ]
  },
  {
   "cell_type": "markdown",
   "metadata": {},
   "source": [
    "*my_list* contain 4 elements as *x* . That’s because both *x* and *my_list* point to the same object (as in the integer example). But the key difference is here we’ve changed the object, instead of creating a new one. Changing the object means that both variables see the change.\n",
    "\n",
    "**N.B.** we can always do the following:"
   ]
  },
  {
   "cell_type": "code",
   "execution_count": null,
   "metadata": {},
   "outputs": [],
   "source": [
    "def m(list_var):\n",
    "    list_var = [90,96] \n",
    "    return list_var\n",
    "\n",
    "my_list = [90]\n",
    "print(m(my_list))# prints [90, 96]\n",
    "print(my_list)  # prints [90]"
   ]
  },
  {
   "cell_type": "markdown",
   "metadata": {},
   "source": [
    "When we've changed *list_var* we are assigning to the new pointer *list_var* the new object reference but the original reference of *my_list* stay unchanged.\n",
    "\n",
    "**N.B.** Moreover, we can also do the follwing:"
   ]
  },
  {
   "cell_type": "code",
   "execution_count": null,
   "metadata": {},
   "outputs": [],
   "source": [
    "def concatenate_96(list_var):\n",
    "    x = list_var + [96]\n",
    "    return x\n",
    "\n",
    "my_list = [90]\n",
    "print(concatenate_96(my_list))  \n",
    "print(my_list)  # prints [90] , so it did not add the element to the original list"
   ]
  },
  {
   "cell_type": "markdown",
   "metadata": {},
   "source": [
    "We did not add the element to the original list. That’s because doing an assignment (e.g. *x = [90]+[96]* ) creates an entirely new list object, we are no longer changing the *list_var* object."
   ]
  },
  {
   "cell_type": "markdown",
   "metadata": {},
   "source": [
    "## 6. Classes"
   ]
  },
  {
   "cell_type": "markdown",
   "metadata": {},
   "source": [
    "The syntax for defining classes in Python is straightforward:"
   ]
  },
  {
   "cell_type": "code",
   "execution_count": 62,
   "metadata": {},
   "outputs": [],
   "source": [
    "# Creating a class\n",
    "class Animal(object): \n",
    "    # Constructor\n",
    "    def __init__(self, name):\n",
    "        self.name = name "
   ]
  },
  {
   "cell_type": "markdown",
   "metadata": {},
   "source": [
    "Python allows **inheritance** of classes. "
   ]
  },
  {
   "cell_type": "code",
   "execution_count": 63,
   "metadata": {},
   "outputs": [],
   "source": [
    "# Creating Cat class child of Animal class\n",
    "class Cat(Animal):\n",
    "    def __init__(self):\n",
    "        # Using constructor of parent class\n",
    "        super(Cat, self).__init__('cat')\n",
    "    def greet(self):\n",
    "        print(\"Hi, I am a \", self.name)"
   ]
  },
  {
   "cell_type": "code",
   "execution_count": 64,
   "metadata": {},
   "outputs": [
    {
     "name": "stdout",
     "output_type": "stream",
     "text": [
      "Hi, I am a  cat\n"
     ]
    }
   ],
   "source": [
    "# Creating instance of class Cat\n",
    "cat_instance = Cat()\n",
    "\n",
    "# Using method of class Cat\n",
    "cat_instance.greet()"
   ]
  },
  {
   "cell_type": "markdown",
   "metadata": {},
   "source": [
    "## 7. Numpy"
   ]
  },
  {
   "cell_type": "markdown",
   "metadata": {},
   "source": [
    "Numpy is the core library for scientific computing in Python. It provides a high-performance multidimensional array object, and tools for working with these arrays.\n",
    "To use Numpy, we first need to import the `numpy` package:"
   ]
  },
  {
   "cell_type": "code",
   "execution_count": 66,
   "metadata": {},
   "outputs": [],
   "source": [
    "import numpy as np"
   ]
  },
  {
   "cell_type": "markdown",
   "metadata": {},
   "source": [
    "### Arrays"
   ]
  },
  {
   "cell_type": "markdown",
   "metadata": {},
   "source": [
    "An array object represents a multidimensional, homogeneous array of items of the same data-type. Numpy array can be accessed by index into square brackets."
   ]
  },
  {
   "cell_type": "code",
   "execution_count": 67,
   "metadata": {},
   "outputs": [
    {
     "name": "stdout",
     "output_type": "stream",
     "text": [
      "<class 'numpy.ndarray'> (3,) 1 2 3\n"
     ]
    }
   ],
   "source": [
    "# Creating a rank 1 array\n",
    "a = np.array([1, 2, 3])  \n",
    "print(type(a), a.shape, a[0], a[1], a[2])"
   ]
  },
  {
   "cell_type": "code",
   "execution_count": 68,
   "metadata": {},
   "outputs": [
    {
     "name": "stdout",
     "output_type": "stream",
     "text": [
      "[5 2 3]\n"
     ]
    }
   ],
   "source": [
    "# Changing an element of the array\n",
    "a[0] = 5                 \n",
    "print(a) "
   ]
  },
  {
   "cell_type": "code",
   "execution_count": 69,
   "metadata": {},
   "outputs": [
    {
     "name": "stdout",
     "output_type": "stream",
     "text": [
      "[[1 2 3]\n",
      " [4 5 6]]\n"
     ]
    }
   ],
   "source": [
    "# Create a rank 2 array\n",
    "b = np.array([[1, 2, 3], [4, 5, 6]])\n",
    "print(b)"
   ]
  },
  {
   "cell_type": "code",
   "execution_count": 70,
   "metadata": {},
   "outputs": [
    {
     "name": "stdout",
     "output_type": "stream",
     "text": [
      "(2, 3)\n"
     ]
    }
   ],
   "source": [
    "print(b.shape)"
   ]
  },
  {
   "cell_type": "code",
   "execution_count": 71,
   "metadata": {},
   "outputs": [
    {
     "name": "stdout",
     "output_type": "stream",
     "text": [
      "1 2 4\n"
     ]
    }
   ],
   "source": [
    "print(b[0, 0], b[0, 1], b[1, 0])"
   ]
  },
  {
   "cell_type": "markdown",
   "metadata": {},
   "source": [
    "Numpy have methods to create several defaults arrays"
   ]
  },
  {
   "cell_type": "code",
   "execution_count": 72,
   "metadata": {},
   "outputs": [
    {
     "name": "stdout",
     "output_type": "stream",
     "text": [
      "Zeros array\n",
      "[[0. 0.]\n",
      " [0. 0.]]\n"
     ]
    }
   ],
   "source": [
    "# Create an array of all zeros\n",
    "print(\"Zeros array\")\n",
    "a = np.zeros((2,2))  \n",
    "print(a)"
   ]
  },
  {
   "cell_type": "code",
   "execution_count": 73,
   "metadata": {},
   "outputs": [
    {
     "name": "stdout",
     "output_type": "stream",
     "text": [
      "Ones array\n",
      "[[1. 1.]]\n"
     ]
    }
   ],
   "source": [
    "print(\"Ones array\")\n",
    "b = np.ones((1,2))   # Create an array of all ones\n",
    "print(b)"
   ]
  },
  {
   "cell_type": "code",
   "execution_count": 74,
   "metadata": {},
   "outputs": [
    {
     "name": "stdout",
     "output_type": "stream",
     "text": [
      "Full array\n",
      "[[7 7]\n",
      " [7 7]]\n"
     ]
    }
   ],
   "source": [
    "print(\"Full array\")\n",
    "c = np.full((2,2), 7) # Create an array of constants (7)\n",
    "print(c)"
   ]
  },
  {
   "cell_type": "code",
   "execution_count": 75,
   "metadata": {},
   "outputs": [
    {
     "name": "stdout",
     "output_type": "stream",
     "text": [
      "Identity matrix\n",
      "[[1. 0.]\n",
      " [0. 1.]]\n"
     ]
    }
   ],
   "source": [
    "print(\"Identity matrix\")\n",
    "d = np.eye(2)        # Create a 2x2 identity matrix\n",
    "print(d)"
   ]
  },
  {
   "cell_type": "code",
   "execution_count": 76,
   "metadata": {},
   "outputs": [
    {
     "name": "stdout",
     "output_type": "stream",
     "text": [
      "Random matrix\n",
      "[[0.98191769 0.04898443]\n",
      " [0.13956894 0.54915935]]\n"
     ]
    }
   ],
   "source": [
    "print(\"Random matrix\")\n",
    "e = np.random.random((2,2)) # Create an array filled with random values\n",
    "print(e)"
   ]
  },
  {
   "cell_type": "markdown",
   "metadata": {},
   "source": [
    "All the items of a numpy array have the same type. When you create an array, numpy guess which datatype fix better to your data, but you can set it when creating the numpy array. "
   ]
  },
  {
   "cell_type": "code",
   "execution_count": 77,
   "metadata": {},
   "outputs": [
    {
     "name": "stdout",
     "output_type": "stream",
     "text": [
      "[1 2]\n",
      "[1. 2.]\n",
      "[1. 2.]\n",
      "[1 2]\n"
     ]
    }
   ],
   "source": [
    "a = np.array([1, 2])                   # Let numpy choose the datatype\n",
    "b = np.array([1.0, 2.0])               # Let numpy choose the datatype\n",
    "c = np.array([1, 2], dtype=np.float32) #Force a particular datatype\n",
    "d = np.array([1, 2], dtype=np.int64)   #Force a particular datatype\n",
    "print(a)\n",
    "print(b)\n",
    "print(c)\n",
    "print(d)"
   ]
  },
  {
   "cell_type": "markdown",
   "metadata": {},
   "source": [
    "Numpy offers several ways to index into arrays.\n",
    "Similar to lists numpy arrays can be **sliced** specifing a slice for each dimension of the array."
   ]
  },
  {
   "cell_type": "code",
   "execution_count": 2,
   "metadata": {},
   "outputs": [
    {
     "name": "stdout",
     "output_type": "stream",
     "text": [
      "[[2 3]\n",
      " [6 7]]\n"
     ]
    }
   ],
   "source": [
    "import numpy as np\n",
    "a = np.array([[1, 2, 3, 4],\n",
    "              [5, 6, 7, 8], \n",
    "              [9, 10, 11, 12]])\n",
    "\n",
    "b = a[:2, 1:3] # rows 0,1 and columns 1,2\n",
    "print(b)"
   ]
  },
  {
   "cell_type": "markdown",
   "metadata": {},
   "source": [
    "A slice of an array share the same memory area of the original array. Modifing it will modify also the original array"
   ]
  },
  {
   "cell_type": "code",
   "execution_count": 79,
   "metadata": {},
   "outputs": [
    {
     "name": "stdout",
     "output_type": "stream",
     "text": [
      "100\n"
     ]
    }
   ],
   "source": [
    "b[0, 0] = 100\n",
    "print(a[0,1])"
   ]
  },
  {
   "cell_type": "markdown",
   "metadata": {},
   "source": [
    "Integer arrays can be used as indexes of other arrays"
   ]
  },
  {
   "cell_type": "code",
   "execution_count": 80,
   "metadata": {},
   "outputs": [
    {
     "name": "stdout",
     "output_type": "stream",
     "text": [
      "[1 7 9]\n"
     ]
    }
   ],
   "source": [
    "# Create an array of indices\n",
    "b = np.array([0, 2, 0])\n",
    "# Select one element from each row of a using the indices in b\n",
    "print(a[np.arange(3), b])  # a[[0,1,2], [0,2,0]] ->  Prints a[0,0] , a[1,2], a[2,0]"
   ]
  },
  {
   "cell_type": "markdown",
   "metadata": {},
   "source": [
    "Boolean array indexing: Boolean array indexing lets you pick out arbitrary elements of an array. Frequently this type of indexing is used to select the elements of an array that satisfies some condition. Here is an example:"
   ]
  },
  {
   "cell_type": "code",
   "execution_count": 81,
   "metadata": {},
   "outputs": [
    {
     "name": "stdout",
     "output_type": "stream",
     "text": [
      "[[False False]\n",
      " [ True  True]\n",
      " [ True  True]]\n"
     ]
    }
   ],
   "source": [
    "import numpy as np\n",
    "\n",
    "a = np.array([[1,2], [3, 4], [5, 6]])\n",
    "\n",
    "idx = (a > 2)  # Find the elements of a that are bigger than 2;\n",
    "                    # this returns a numpy array of Booleans of the same\n",
    "                    # shape as a, where each slot of bool_idx tells\n",
    "                    # whether that element of a is > 2.\n",
    "print(idx)"
   ]
  },
  {
   "cell_type": "code",
   "execution_count": 82,
   "metadata": {},
   "outputs": [
    {
     "name": "stdout",
     "output_type": "stream",
     "text": [
      "[3 4 5 6]\n"
     ]
    }
   ],
   "source": [
    "print(a[idx])"
   ]
  },
  {
   "cell_type": "markdown",
   "metadata": {},
   "source": [
    "### Array math"
   ]
  },
  {
   "cell_type": "markdown",
   "metadata": {},
   "source": [
    "Basic mathematical functions operate elementwise on arrays, and are available both as operator overloads and as functions in the numpy module:"
   ]
  },
  {
   "cell_type": "code",
   "execution_count": 83,
   "metadata": {},
   "outputs": [
    {
     "name": "stdout",
     "output_type": "stream",
     "text": [
      "x=\n",
      " [[-1. -2.]\n",
      " [-3. -4.]]\n",
      "y=\n",
      " [[5. 6.]\n",
      " [7. 8.]]\n"
     ]
    }
   ],
   "source": [
    "import numpy as np\n",
    "\n",
    "x = np.array([[-1,-2],[-3,-4]], dtype=np.float64)\n",
    "y = np.array([[5,6],[7,8]], dtype=np.float64)\n",
    "\n",
    "print(\"x=\\n\", x)\n",
    "print(\"y=\\n\",y)"
   ]
  },
  {
   "cell_type": "code",
   "execution_count": 84,
   "metadata": {},
   "outputs": [
    {
     "name": "stdout",
     "output_type": "stream",
     "text": [
      "Element-wise sum\n",
      "[[4. 4.]\n",
      " [4. 4.]]\n"
     ]
    }
   ],
   "source": [
    "print(\"Element-wise sum\")\n",
    "print(x + y)"
   ]
  },
  {
   "cell_type": "code",
   "execution_count": 85,
   "metadata": {},
   "outputs": [
    {
     "name": "stdout",
     "output_type": "stream",
     "text": [
      "Element-wise difference\n",
      "[[ -6.  -8.]\n",
      " [-10. -12.]]\n"
     ]
    }
   ],
   "source": [
    "print(\"Element-wise difference\")\n",
    "print(x - y)"
   ]
  },
  {
   "cell_type": "code",
   "execution_count": 86,
   "metadata": {},
   "outputs": [
    {
     "name": "stdout",
     "output_type": "stream",
     "text": [
      "Element-wise product\n",
      "[[ -5. -12.]\n",
      " [-21. -32.]]\n"
     ]
    }
   ],
   "source": [
    "print(\"Element-wise product\")\n",
    "print(x * y)"
   ]
  },
  {
   "cell_type": "code",
   "execution_count": 87,
   "metadata": {},
   "outputs": [
    {
     "name": "stdout",
     "output_type": "stream",
     "text": [
      "Element-wise division\n",
      "[[-0.2        -0.33333333]\n",
      " [-0.42857143 -0.5       ]]\n"
     ]
    }
   ],
   "source": [
    "print(\"Element-wise division\")\n",
    "print(x / y)"
   ]
  },
  {
   "cell_type": "code",
   "execution_count": 88,
   "metadata": {},
   "outputs": [
    {
     "name": "stdout",
     "output_type": "stream",
     "text": [
      "Element-wise absoulte value\n",
      "[[1. 2.]\n",
      " [3. 4.]]\n"
     ]
    }
   ],
   "source": [
    "print(\"Element-wise absoulte value\")\n",
    "print(np.abs(x))"
   ]
  },
  {
   "cell_type": "markdown",
   "metadata": {},
   "source": [
    "Moreover, several mathematical operation between arrays are implemented in Numpy."
   ]
  },
  {
   "cell_type": "code",
   "execution_count": 89,
   "metadata": {},
   "outputs": [
    {
     "name": "stdout",
     "output_type": "stream",
     "text": [
      "Elementwise square root\n",
      "[[2.23606798 2.44948974]\n",
      " [2.64575131 2.82842712]]\n"
     ]
    }
   ],
   "source": [
    "print(\"Elementwise square root\")\n",
    "print(np.sqrt(y))"
   ]
  },
  {
   "cell_type": "code",
   "execution_count": 90,
   "metadata": {},
   "outputs": [
    {
     "name": "stdout",
     "output_type": "stream",
     "text": [
      "Dot product\n",
      "[[-19. -22.]\n",
      " [-43. -50.]]\n",
      "[[-19. -22.]\n",
      " [-43. -50.]]\n"
     ]
    }
   ],
   "source": [
    "print(\"Dot product\")\n",
    "print(x.dot(y))\n",
    "print(np.dot(x, y))"
   ]
  },
  {
   "cell_type": "markdown",
   "metadata": {},
   "source": [
    "Numpy provides several reduction functions."
   ]
  },
  {
   "cell_type": "code",
   "execution_count": null,
   "metadata": {},
   "outputs": [],
   "source": [
    "# Compute sum of all elements; prints \"10\"\n",
    "print(np.sum(x))"
   ]
  },
  {
   "cell_type": "code",
   "execution_count": null,
   "metadata": {},
   "outputs": [],
   "source": [
    "# Compute sum of each column; prints \"[-4 -6]\"\n",
    "print(np.sum(x, axis=0))"
   ]
  },
  {
   "cell_type": "code",
   "execution_count": null,
   "metadata": {},
   "outputs": [],
   "source": [
    " # Compute sum of each row; prints \"[-3 -7]\"\n",
    "print(np.sum(x, axis=1))"
   ]
  },
  {
   "cell_type": "code",
   "execution_count": null,
   "metadata": {},
   "outputs": [],
   "source": [
    "# Compute the mean of all elements\n",
    "print(np.mean(x))"
   ]
  },
  {
   "cell_type": "code",
   "execution_count": null,
   "metadata": {},
   "outputs": [],
   "source": [
    "# Compute the mean of axis 0\n",
    "print(np.mean(x, axis= 0))"
   ]
  },
  {
   "cell_type": "code",
   "execution_count": null,
   "metadata": {},
   "outputs": [],
   "source": [
    "# Compute the mean of axis 1\n",
    "print(np.mean(x, axis=1))"
   ]
  },
  {
   "cell_type": "markdown",
   "metadata": {},
   "source": [
    "Moreover, Numpy provides function to modify the shape of arrays."
   ]
  },
  {
   "cell_type": "code",
   "execution_count": 91,
   "metadata": {},
   "outputs": [
    {
     "name": "stdout",
     "output_type": "stream",
     "text": [
      "[[-1. -2.]\n",
      " [-3. -4.]]\n",
      "Transpose\n",
      "[[-1. -3.]\n",
      " [-2. -4.]]\n"
     ]
    }
   ],
   "source": [
    "print(x)\n",
    "print(\"Transpose\")\n",
    "print(x.T)"
   ]
  },
  {
   "cell_type": "code",
   "execution_count": 92,
   "metadata": {},
   "outputs": [
    {
     "name": "stdout",
     "output_type": "stream",
     "text": [
      "Reshape Shape source:  (2, 2) Shape target:  (1, 4)\n",
      "[[-1. -2. -3. -4.]]\n"
     ]
    }
   ],
   "source": [
    "print(\"Reshape Shape source: \", x.shape, \"Shape target: \", (1,4))\n",
    "print(x.reshape([1,4]))"
   ]
  },
  {
   "cell_type": "markdown",
   "metadata": {},
   "source": [
    "You can find the full list functions provided by numpy in the [documentation](https://docs.scipy.org/doc/numpy-1.17.0/reference/)."
   ]
  },
  {
   "cell_type": "markdown",
   "metadata": {},
   "source": [
    "### Broadcasting"
   ]
  },
  {
   "cell_type": "markdown",
   "metadata": {},
   "source": [
    "Broadcasting is the mechanism used by numpy to deal with arrays of different shapes during mathematical operations. This can be extremely useful in a variety of situation and expedites the computation time in matrix operations. Below an example of sum between arrays with different shapes implemented with for cycle and without broadcasting: "
   ]
  },
  {
   "cell_type": "code",
   "execution_count": 3,
   "metadata": {},
   "outputs": [
    {
     "name": "stdout",
     "output_type": "stream",
     "text": [
      "x=\n",
      " [[ 1  2  3]\n",
      " [ 4  5  6]\n",
      " [ 7  8  9]\n",
      " [10 11 12]] Shape:  (4, 3)\n",
      "v=\n",
      " [0 0 1] Shape:  (3,)\n"
     ]
    }
   ],
   "source": [
    "x = np.array([[1,2,3], [4,5,6], [7,8,9], [10, 11, 12]])\n",
    "v = np.array([0, 0, 1])\n",
    "\n",
    "print(\"x=\\n\",x , \"Shape: \", x.shape)\n",
    "print(\"v=\\n\", v, \"Shape: \", v.shape)"
   ]
  },
  {
   "cell_type": "markdown",
   "metadata": {},
   "source": [
    "**x + v Cycling rows**"
   ]
  },
  {
   "cell_type": "code",
   "execution_count": 6,
   "metadata": {},
   "outputs": [
    {
     "name": "stdout",
     "output_type": "stream",
     "text": [
      "[[ 1  2  4]\n",
      " [ 4  5  7]\n",
      " [ 7  8 10]\n",
      " [10 11 13]]\n"
     ]
    }
   ],
   "source": [
    "# We will add the vector v to each row of the matrix x,\n",
    "# storing the result in the matrix y\n",
    "y = np.empty_like(x)   # Create an empty matrix with the same shape as x\n",
    "\n",
    "# Add the vector v to each row of the matrix x with an explicit loop\n",
    "for i in range(4):\n",
    "    y[i, :] = x[i, :] + v\n",
    "\n",
    "print(y)"
   ]
  },
  {
   "cell_type": "markdown",
   "metadata": {},
   "source": [
    "If the matrix _x_ is very large, computing loop cycles in Python is really slow. \n",
    "Another way to implement the same problem improving the perfomances could be stacking  multiple copies of v.\n",
    "\n",
    "**x+v Stacking**"
   ]
  },
  {
   "cell_type": "code",
   "execution_count": 15,
   "metadata": {},
   "outputs": [
    {
     "name": "stdout",
     "output_type": "stream",
     "text": [
      "x= \n",
      " [[ 1  2  3]\n",
      " [ 4  5  6]\n",
      " [ 7  8  9]\n",
      " [10 11 12]]\n",
      "vv = \n",
      " [[0 0 1]\n",
      " [0 0 1]\n",
      " [0 0 1]\n",
      " [0 0 1]]\n",
      "x + vv =\n",
      " [[ 1  2  4]\n",
      " [ 4  5  7]\n",
      " [ 7  8 10]\n",
      " [10 11 13]]\n"
     ]
    }
   ],
   "source": [
    "print(\"x= \\n\", x)\n",
    "vv = np.tile(v, (4, 1))  # Stack 4 copies of v on top of each other\n",
    "print(\"vv = \\n\", vv)\n",
    "y = x + vv\n",
    "print(\"x + vv =\\n\" , y)"
   ]
  },
  {
   "cell_type": "markdown",
   "metadata": {},
   "source": [
    "This version is computationally cheap but the code is not straightforward to write. Broadcasting allows to do it extremely easy automatically adressing shape compability problems.\n",
    "\n",
    "**x+v Numpy Broadcasting*"
   ]
  },
  {
   "cell_type": "code",
   "execution_count": 24,
   "metadata": {},
   "outputs": [
    {
     "name": "stdout",
     "output_type": "stream",
     "text": [
      "[[ 1  2  4]\n",
      " [ 4  5  7]\n",
      " [ 7  8 10]\n",
      " [10 11 13]]\n"
     ]
    }
   ],
   "source": [
    "# Add v to each row of x using broadcasting\n",
    "y = x + v  \n",
    "print(y)"
   ]
  },
  {
   "cell_type": "markdown",
   "metadata": {},
   "source": [
    "The line `y = x + v` works even though `x` has shape `(4, 3)` and `v` has shape `(3,)` due to broadcasting; this line works as if v actually had shape `(4, 3)`, where each row was a copy of `v`, and the sum was performed elementwise."
   ]
  },
  {
   "cell_type": "markdown",
   "metadata": {},
   "source": [
    "Example: multiply by a scalar:"
   ]
  },
  {
   "cell_type": "code",
   "execution_count": null,
   "metadata": {},
   "outputs": [],
   "source": [
    "# Multiply a matrix by a constant:\n",
    "# x has shape (2, 3). Numpy treats scalars as arrays of shape () these can be broadcast together to shape (2, 3)\n",
    "print(x * 2)"
   ]
  },
  {
   "cell_type": "markdown",
   "metadata": {},
   "source": [
    "**Broadcasting** two arrays together follows these **rules**:\n",
    "\n",
    "1. If the arrays do not have the same rank, prepend the shape of the lower rank array with 1s until both shapes have the same length.\n",
    "2. The two arrays are said to be compatible in a dimension if they have the same size in the dimension, or if one of the arrays has size 1 in that dimension.\n",
    "3. The arrays can be broadcast together if they are compatible in all dimensions.\n",
    "4. After broadcasting, each array behaves as if it had shape equal to the elementwise maximum of shapes of the two input arrays.\n",
    "5. In any dimension where one array had size 1 and the other array had size greater than 1, the first array behaves as if it were copied along that dimension\n",
    "\n",
    "Example of **compatible shapes** for broadcasting: "
   ]
  },
  {
   "cell_type": "markdown",
   "metadata": {},
   "source": [
    "A      (3d array):  15 x 3 x 5\n",
    "\n",
    "B      (2d array):       3 x 5\n",
    "\n",
    "**Result** (3d array):  15 x 3 x 5"
   ]
  },
  {
   "cell_type": "markdown",
   "metadata": {},
   "source": [
    "A      (3d array):  15 x 3 x 5\n",
    "\n",
    "B      (3d array):  15 x 1 x 5\n",
    "\n",
    "**Result** (3d array):  15 x 3 x 5"
   ]
  },
  {
   "cell_type": "markdown",
   "metadata": {},
   "source": [
    "A      (2d array):  5 x 4\n",
    "\n",
    "B      (1d array):      1\n",
    "\n",
    "**Result** (2d array):  5 x 4"
   ]
  },
  {
   "cell_type": "markdown",
   "metadata": {},
   "source": [
    "Example of **incompatible shapes** for broadcasting:"
   ]
  },
  {
   "cell_type": "markdown",
   "metadata": {},
   "source": [
    "A      (1d array):  3\n",
    "\n",
    "B      (1d array):  4\n",
    "\n",
    "**Trailing dimensions do not match**"
   ]
  },
  {
   "cell_type": "code",
   "execution_count": null,
   "metadata": {},
   "outputs": [],
   "source": [
    "a=np.array([1,2,3])\n",
    "b=np.array([1,2,3,4])\n",
    "print(a+b) # Throw Exception"
   ]
  },
  {
   "cell_type": "markdown",
   "metadata": {},
   "source": [
    "## 8. Plotting - Matplotlib"
   ]
  },
  {
   "cell_type": "markdown",
   "metadata": {},
   "source": [
    "Matplotlib is a plotting library. In this section give a brief introduction to the matplotlib.pyplot module.\n",
    "\n",
    "The most important function in matplotlib is plot, which allows you to plot 2D data. Here is a simple example:"
   ]
  },
  {
   "cell_type": "code",
   "execution_count": 97,
   "metadata": {},
   "outputs": [
    {
     "name": "stderr",
     "output_type": "stream",
     "text": [
      "Fontconfig warning: ignoring UTF-8: not a valid region tag\n"
     ]
    },
    {
     "data": {
      "image/png": "[encoded data removed]",
      "text/plain": [
       "<Figure size 640x480 with 1 Axes>"
      ]
     },
     "metadata": {},
     "output_type": "display_data"
    }
   ],
   "source": [
    "import numpy as np\n",
    "import matplotlib.pyplot as plt\n",
    "\n",
    "# Compute the x and y coordinates for points on sine and cosine curves\n",
    "x = np.arange(0, 2 * np.pi, 0.1)\n",
    "y_sin = np.sin(x)\n",
    "y_cos = np.cos(x)\n",
    "\n",
    "# Plot the points using matplotlib\n",
    "plt.plot(x, y_sin)\n",
    "plt.plot(x, y_cos)\n",
    "plt.xlabel('x axis label')\n",
    "plt.ylabel('y axis label')\n",
    "plt.title('Sine and Cosine')\n",
    "plt.legend(['Sine', 'Cosine'])\n",
    "plt.show()"
   ]
  },
  {
   "cell_type": "markdown",
   "metadata": {},
   "source": [
    "In case we want to show two separate plots:"
   ]
  },
  {
   "cell_type": "code",
   "execution_count": 98,
   "metadata": {},
   "outputs": [
    {
     "data": {
      "image/png": "[encoded data removed]",
      "text/plain": [
       "<Figure size 640x480 with 2 Axes>"
      ]
     },
     "metadata": {},
     "output_type": "display_data"
    }
   ],
   "source": [
    "# Set up a subplot grid that has height 2 and width 1,\n",
    "# and set the first such subplot as active.\n",
    "plt.subplot(2, 1, 1)\n",
    "\n",
    "# Make the first plot.\n",
    "plt.plot(x, y_sin)\n",
    "plt.title('Sine')\n",
    "\n",
    "# Set the second subplot as active, and make the second plot.\n",
    "plt.subplot(2, 1, 2)\n",
    "plt.plot(x, y_cos)\n",
    "plt.title('Cosine')\n",
    "\n",
    "# Show the figure.\n",
    "plt.show()"
   ]
  }
 ],
 "metadata": {
  "kernelspec": {
   "display_name": "Python 3.10.7 ('CVLab': venv)",
   "language": "python",
   "name": "python3"
  },
  "language_info": {
   "codemirror_mode": {
    "name": "ipython",
    "version": 3
   },
   "file_extension": ".py",
   "mimetype": "text/x-python",
   "name": "python",
   "nbconvert_exporter": "python",
   "pygments_lexer": "ipython3",
   "version": "3.10.7"
  },
  "vscode": {
   "interpreter": {
    "hash": "119adef89a83ec66c70212ab8d8317280876983fdd44da0698d38f2577444c4f"
   }
  }
 },
 "nbformat": 4,
 "nbformat_minor": 1
}
