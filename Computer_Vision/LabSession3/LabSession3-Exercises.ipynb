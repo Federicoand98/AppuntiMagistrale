{
 "cells": [
  {
   "cell_type": "markdown",
   "metadata": {},
   "source": [
    "# Processing Images and Videos - Exercises Solutions\n",
    "## Computer Vision and Image Processing - Lab Session 3\n",
    "### Prof: Luigi Di Stefano, luigi.distefano@unibo.it\n",
    "### Tutor: Pierluigi Zama Ramirez, pierluigi.zama@unibo.it - Alex Costanzino, alex.costanzino2@unibo.it"
   ]
  },
  {
   "cell_type": "markdown",
   "metadata": {},
   "source": [
    "## Exercise 1: Linear Contrast Stretching\n",
    "Implement a linear contrast stretching function.\n",
    "\n",
    "Given $P_{max}$ and $P_{min}$ the maximum and minimum pixel value respectively (can be different from the min and max values of the image), convert each pixel of the original image $P_{in}$ into the new pixel of the output image $P_{out}$ with the following formula:\n",
    "\n",
    "$P_{out} = \\frac{255}{P_{max} - P_{min}}(P_{in} - P_{min})$\n",
    "\n",
    "Test the function 3 times on the __grayscale__ image \"ex/image.png\" using as $P_{max}$ and $P_{min}$:\n",
    "\n",
    "* The minimum and maximum value of the image  respectively. You can use **np.max(array, axis)** and **np.min(array, axis)** to calculate them. \n",
    "* $P_{max}=40$ and $P_{min}=0$.\n",
    "* Choose as $P_{max}$ and $P_{min}$ the values at 95% and 5% percentiles of the distribution respectively (the value of the 5% pixels ordered from the lowest value pixel). \n",
    "\n",
    "Plot the histogram of the image before and after each transformation."
   ]
  },
  {
   "cell_type": "code",
   "execution_count": null,
   "metadata": {},
   "outputs": [],
   "source": []
  },
  {
   "cell_type": "markdown",
   "metadata": {},
   "source": [
    "## Exercise 2: Mean Filter\n",
    "Apply a mean filter of kernel size 9x9 to an image.\n",
    "\n",
    "Test it on the __grayscale__ image \"ex/landscape.jpg\"."
   ]
  },
  {
   "cell_type": "code",
   "execution_count": null,
   "metadata": {},
   "outputs": [],
   "source": []
  },
  {
   "cell_type": "markdown",
   "metadata": {},
   "source": [
    "## Exercise 3: Other Filters\n",
    "Apply a denoising filter and an high-pass filter (edge-enhancement) to an image.\n",
    "\n",
    "* Denoising filter = $\\begin{bmatrix} \n",
    "                        1 & 2 & 1\\\\\n",
    "                        2 & 4 & 2\\\\\n",
    "                        1 & 2 & 1\\\\\n",
    "                        \\end{bmatrix}\\frac{1}{16} $\n",
    "\n",
    "* High pass filter (edge-enhancement) = $\\begin{bmatrix} \n",
    "                        0 & 1 & 0\\\\\n",
    "                        1 & -4 & 1\\\\\n",
    "                        0 & 1 & 0\\\\\n",
    "                        \\end{bmatrix}$\n",
    "\n",
    "Test it on the __grayscale__ image \"ex/landscape.jpg\"."
   ]
  },
  {
   "cell_type": "code",
   "execution_count": null,
   "metadata": {},
   "outputs": [],
   "source": []
  },
  {
   "cell_type": "markdown",
   "metadata": {},
   "source": [
    "## Exercise 4: Gaussian Filter\n",
    "\n",
    "Apply a 2D gaussian filter with $\\sigma=1.5$ to an image.\n",
    "\n",
    "Do it twice:\n",
    "* Finding the gaussian kernel and applying it.  \n",
    "* Using the OpenCV function for gaussian blurring.\n",
    "\n",
    "Find the kernel size following the rule of thumb showed in the theory slides.\n",
    "\n",
    "Test it on the __grayscale__ image \"ex/landscape.jpg\"."
   ]
  },
  {
   "cell_type": "code",
   "execution_count": null,
   "metadata": {},
   "outputs": [],
   "source": []
  },
  {
   "cell_type": "markdown",
   "metadata": {},
   "source": [
    "## Exercise 5: Bilateral Filter\n",
    "Apply a bilateral filter with filter size of 9x9 and both sigma values of 75. \n",
    "\n",
    "Test it on the __grayscale__ image \"ex/landscape.jpg\".\n",
    "\n",
    "__N.B__:\n",
    "* Sigma values: If they are small (< 10), the filter will not have much effect, whereas if they are large (> 150), they will have a very strong effect, making the image look “cartoonish”.\n",
    "* Filter size: Large filters (> 5) are very slow, so it is recommended to use d=5 for real-time applications, and approximately 9 for offline applications that need heavy noise filtering."
   ]
  },
  {
   "cell_type": "code",
   "execution_count": null,
   "metadata": {},
   "outputs": [],
   "source": []
  },
  {
   "cell_type": "markdown",
   "metadata": {},
   "source": [
    "## Exercise 6: Exponential Operator\n",
    "\n",
    "It is sometimes desirable to selectively enhance the contrast in either dark (under-exposed) or bright (over-exposed) areas of the image. Linear stretching, though, would expand the contrast uniformly. However, a non-linear mapping, such as the Exponential Operator, can be deployed:\n",
    "\n",
    "<img src=\"LabSession3Images/exp_op.png\" width=\"320\">\n",
    "\n",
    "Thus, taking $r<1$ would stretch the intensity dynamics of dark areas and shrink that of bright ones, which turns out effective to improve under-exposed images. The opposite behaviour is achieved with $r>1$, which therefore can be used to enhance over-exposed images.\n",
    "\n",
    "The operator is also known as __gamma correction__, due to its widespread use to compensate for the exponential voltage-to-intensity mapping ($I=V^r$) of old CRT monitors (often  $r=2.2$, i.e. darkening), which can be compensated by brightening  the image ($r'=\\frac{1}{r}=0.45$) before displaying. \n",
    "\n",
    "Given an exponent $r$, $P_{out}$ the output pixel value and $P_{in}$ the input pixel value, the formula for the exponential operator is the following:\n",
    "\n",
    "$P_{out}=255*(\\frac{P_{in}}{255})^r$\n",
    "\n",
    "Implement an exponential operator using as $r=0.45$.\n",
    "Test the function on the __grayscale__ image \"ex/image.png\".\n",
    "Plot the histogram of the image before and after the transformation."
   ]
  },
  {
   "cell_type": "code",
   "execution_count": null,
   "metadata": {},
   "outputs": [],
   "source": []
  },
  {
   "cell_type": "markdown",
   "metadata": {},
   "source": [
    "## Exercise 7\n",
    "\n",
    "Apply one or more of the previous operators on each frame of the video with path 'ex/1.avi'."
   ]
  },
  {
   "cell_type": "code",
   "execution_count": null,
   "metadata": {},
   "outputs": [],
   "source": []
  }
 ],
 "metadata": {
  "kernelspec": {
   "display_name": "Python 3 (ipykernel)",
   "language": "python",
   "name": "python3"
  },
  "language_info": {
   "codemirror_mode": {
    "name": "ipython",
    "version": 3
   },
   "file_extension": ".py",
   "mimetype": "text/x-python",
   "name": "python",
   "nbconvert_exporter": "python",
   "pygments_lexer": "ipython3",
   "version": "3.8.10"
  }
 },
 "nbformat": 4,
 "nbformat_minor": 2
}
